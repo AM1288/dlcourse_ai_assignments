{
 "cells": [
  {
   "cell_type": "code",
   "execution_count": 1,
   "metadata": {
    "_cell_guid": "b1076dfc-b9ad-4769-8c92-a6c4dae69d19",
    "_uuid": "8f2839f25d086af736a60e9eeb907d3b93b6e0e5",
    "execution": {
     "iopub.execute_input": "2020-11-04T12:50:25.888691Z",
     "iopub.status.busy": "2020-11-04T12:50:25.887930Z",
     "iopub.status.idle": "2020-11-04T12:50:25.895220Z",
     "shell.execute_reply": "2020-11-04T12:50:25.896053Z"
    },
    "papermill": {
     "duration": 0.068434,
     "end_time": "2020-11-04T12:50:25.896270",
     "exception": false,
     "start_time": "2020-11-04T12:50:25.827836",
     "status": "completed"
    },
    "tags": []
   },
   "outputs": [
    {
     "name": "stdout",
     "output_type": "stream",
     "text": [
      "/kaggle/input/street-view-house-nos-h5-file/SVHN_single_grey1.h5\n"
     ]
    }
   ],
   "source": [
    "# This Python 3 environment comes with many helpful analytics libraries installed\n",
    "# It is defined by the kaggle/python Docker image: https://github.com/kaggle/docker-python\n",
    "# For example, here's several helpful packages to load\n",
    "\n",
    "import numpy as np # linear algebra\n",
    "import pandas as pd # data processing, CSV file I/O (e.g. pd.read_csv)\n",
    "\n",
    "# Input data files are available in the read-only \"../input/\" directory\n",
    "# For example, running this (by clicking run or pressing Shift+Enter) will list all files under the input directory\n",
    "\n",
    "import os\n",
    "for dirname, _, filenames in os.walk('/kaggle/input'):\n",
    "    for filename in filenames:\n",
    "        print(os.path.join(dirname, filename))\n",
    "\n",
    "# You can write up to 5GB to the current directory (/kaggle/working/) that gets preserved as output when you create a version using \"Save & Run All\" \n",
    "# You can also write temporary files to /kaggle/temp/, but they won't be saved outside of the current session"
   ]
  },
  {
   "cell_type": "code",
   "execution_count": 2,
   "metadata": {
    "execution": {
     "iopub.execute_input": "2020-11-04T12:50:26.010913Z",
     "iopub.status.busy": "2020-11-04T12:50:26.009807Z",
     "iopub.status.idle": "2020-11-04T12:50:26.012410Z",
     "shell.execute_reply": "2020-11-04T12:50:26.012996Z"
    },
    "papermill": {
     "duration": 0.063602,
     "end_time": "2020-11-04T12:50:26.013146",
     "exception": false,
     "start_time": "2020-11-04T12:50:25.949544",
     "status": "completed"
    },
    "tags": []
   },
   "outputs": [],
   "source": [
    "import matplotlib.pyplot as plt\n",
    "%matplotlib inline"
   ]
  },
  {
   "cell_type": "code",
   "execution_count": 3,
   "metadata": {
    "execution": {
     "iopub.execute_input": "2020-11-04T12:50:26.126876Z",
     "iopub.status.busy": "2020-11-04T12:50:26.126018Z",
     "iopub.status.idle": "2020-11-04T12:50:27.170855Z",
     "shell.execute_reply": "2020-11-04T12:50:27.169721Z"
    },
    "papermill": {
     "duration": 1.104988,
     "end_time": "2020-11-04T12:50:27.170979",
     "exception": false,
     "start_time": "2020-11-04T12:50:26.065991",
     "status": "completed"
    },
    "tags": []
   },
   "outputs": [
    {
     "name": "stderr",
     "output_type": "stream",
     "text": [
      "/opt/conda/lib/python3.7/site-packages/ipykernel_launcher.py:4: H5pyDeprecationWarning: The default file mode will change to 'r' (read-only) in h5py 3.0. To suppress this warning, pass the mode you need to h5py.File(), or set the global default h5.get_config().default_file_mode, or set the environment variable H5PY_DEFAULT_READONLY=1. Available modes are: 'r', 'r+', 'w', 'w-'/'x', 'a'. See the docs for details.\n",
      "  after removing the cwd from sys.path.\n"
     ]
    },
    {
     "data": {
      "text/plain": [
       "dict_keys(['X_test', 'X_train', 'X_val', 'y_test', 'y_train', 'y_val'])"
      ]
     },
     "execution_count": 3,
     "metadata": {},
     "output_type": "execute_result"
    }
   ],
   "source": [
    "import h5py\n",
    "filepath = '/kaggle/input/street-view-house-nos-h5-file/SVHN_single_grey1.h5'\n",
    "data = {}\n",
    "f = h5py.File(filepath)\n",
    "for k, v in f.items():\n",
    "    data[k] = np.array(v)\n",
    "data.keys()"
   ]
  },
  {
   "cell_type": "code",
   "execution_count": 4,
   "metadata": {
    "execution": {
     "iopub.execute_input": "2020-11-04T12:50:27.292370Z",
     "iopub.status.busy": "2020-11-04T12:50:27.291325Z",
     "iopub.status.idle": "2020-11-04T12:50:27.317730Z",
     "shell.execute_reply": "2020-11-04T12:50:27.317095Z"
    },
    "papermill": {
     "duration": 0.090801,
     "end_time": "2020-11-04T12:50:27.317854",
     "exception": false,
     "start_time": "2020-11-04T12:50:27.227053",
     "status": "completed"
    },
    "tags": []
   },
   "outputs": [],
   "source": [
    "def return_random_indices(data, max_samples=10000, seed = 10):\n",
    "    np.random.seed(seed)\n",
    "    indices = np.random.choice(np.arange(data.shape[0]),\n",
    "                               max_samples,\n",
    "                               replace=False)\n",
    "    return indices\n",
    "\n",
    "\n",
    "train_X = data[\"X_train\"][return_random_indices(data[\"X_train\"])]\n",
    "train_y = data[\"y_train\"][return_random_indices(data[\"y_train\"])]\n",
    "test_X = data[\"X_test\"][return_random_indices(data[\"X_test\"], 1000)]\n",
    "test_y = data[\"y_test\"][return_random_indices(data[\"y_test\"], 1000)]\n",
    "test_y[test_y == 10] = 0"
   ]
  },
  {
   "cell_type": "code",
   "execution_count": 5,
   "metadata": {
    "execution": {
     "iopub.execute_input": "2020-11-04T12:50:27.435365Z",
     "iopub.status.busy": "2020-11-04T12:50:27.433896Z",
     "iopub.status.idle": "2020-11-04T12:50:27.498749Z",
     "shell.execute_reply": "2020-11-04T12:50:27.497933Z"
    },
    "papermill": {
     "duration": 0.126762,
     "end_time": "2020-11-04T12:50:27.498896",
     "exception": false,
     "start_time": "2020-11-04T12:50:27.372134",
     "status": "completed"
    },
    "tags": []
   },
   "outputs": [],
   "source": [
    "\n",
    "def prepare_for_neural_network(train_X, test_X):\n",
    "    train_flat = train_X.reshape(train_X.shape[0], -1).astype(np.float) / 255.0\n",
    "    test_flat = test_X.reshape(test_X.shape[0], -1).astype(np.float) / 255.0\n",
    "    \n",
    "    # Subtract mean\n",
    "    mean_image = np.mean(train_flat, axis = 0)\n",
    "    train_flat -= mean_image\n",
    "    test_flat -= mean_image\n",
    "    \n",
    "    return train_flat, test_flat\n",
    "       \n",
    "train_X, test_X = prepare_for_neural_network(train_X, test_X)"
   ]
  },
  {
   "cell_type": "code",
   "execution_count": 6,
   "metadata": {
    "execution": {
     "iopub.execute_input": "2020-11-04T12:50:27.616278Z",
     "iopub.status.busy": "2020-11-04T12:50:27.614839Z",
     "iopub.status.idle": "2020-11-04T12:50:27.645478Z",
     "shell.execute_reply": "2020-11-04T12:50:27.644880Z"
    },
    "papermill": {
     "duration": 0.094531,
     "end_time": "2020-11-04T12:50:27.645605",
     "exception": false,
     "start_time": "2020-11-04T12:50:27.551074",
     "status": "completed"
    },
    "tags": []
   },
   "outputs": [],
   "source": [
    "def random_split_train_val(X, y, num_val, seed=25):\n",
    "    '''\n",
    "    Randomly splits dataset into training and validation.\n",
    "    \n",
    "    Args:\n",
    "    X (numpy array): an array of training samples.\n",
    "    y (numpy array): an array of training labels.\n",
    "    num_val (int): a number of samples to put into validation dataset.\n",
    "    seed (int): a seed for pseudo random number generator.\n",
    "    \n",
    "    Returns:\n",
    "    train_X (numpy array): a training dataset of samples.\n",
    "    train_y (numpy array): a training dataset of labels.\n",
    "    val_X (numpy array): a validation dataset of samples.\n",
    "    val_y (numpy array): a validation dataset of labels.\n",
    "    '''\n",
    "    np.random.seed(seed)\n",
    "    \n",
    "    indices = np.arange(X.shape[0])\n",
    "    np.random.shuffle(indices)\n",
    "\n",
    "    train_indices = indices[:-num_val]\n",
    "    train_X = X[train_indices]\n",
    "    train_y = y[train_indices]\n",
    "\n",
    "    val_indices = indices[-num_val:]\n",
    "    val_X = X[val_indices]\n",
    "    val_y = y[val_indices]\n",
    "\n",
    "    return train_X, train_y, val_X, val_y\n",
    "\n",
    "train_X, train_y, val_X, val_y = random_split_train_val(train_X, train_y, num_val = 1000)"
   ]
  },
  {
   "attachments": {
    "image.png": {
     "image/png": "[encoded data removed]"
    }
   },
   "cell_type": "markdown",
   "metadata": {
    "papermill": {
     "duration": 0.053768,
     "end_time": "2020-11-04T12:50:27.754077",
     "exception": false,
     "start_time": "2020-11-04T12:50:27.700309",
     "status": "completed"
    },
    "tags": []
   },
   "source": [
    "Firstly We initiate a ReLU layer class. Class has two functions: forward and backward. Functions computes a forward pass or forward propagation and backward pass or backpropagation consequently.\n",
    "Remind you that relu function is:\n",
    "![image.png](attachment:image.png)"
   ]
  },
  {
   "cell_type": "code",
   "execution_count": 7,
   "metadata": {
    "execution": {
     "iopub.execute_input": "2020-11-04T12:50:27.881049Z",
     "iopub.status.busy": "2020-11-04T12:50:27.880105Z",
     "iopub.status.idle": "2020-11-04T12:50:27.883517Z",
     "shell.execute_reply": "2020-11-04T12:50:27.882985Z"
    },
    "papermill": {
     "duration": 0.070071,
     "end_time": "2020-11-04T12:50:27.883627",
     "exception": false,
     "start_time": "2020-11-04T12:50:27.813556",
     "status": "completed"
    },
    "tags": []
   },
   "outputs": [],
   "source": [
    "class ReLULayer:\n",
    "    def __init__(self):\n",
    "        pass\n",
    "\n",
    "    def forward(self, X):\n",
    "        try:\n",
    "            self.X = X # saves input data for backpropagation implementation.\n",
    "            output = np.where(X > 0, X, 0) # in accordance with definition of ReLU: return X if X > 0,\n",
    "            return output                  # 0 otherwise.\n",
    "        except:\n",
    "            raise Exception(\"Not implemented!\")\n",
    "\n",
    "    def backward(self, d_out):\n",
    "        \"\"\"\n",
    "        Performs backward pass of gradient from a loss function.\n",
    "        \n",
    "        Args:\n",
    "        d_out (numpy array (batch_size, num_features)): gradient of loss function with \n",
    "        respect to output.\n",
    "        \n",
    "        Returns:\n",
    "        d_result (numpy array (batch_size, num_features)): gradient with respect to input.\n",
    "        \"\"\"\n",
    "        try:\n",
    "            dReLU = np.where(self.X > 0, 1, (np.where(self.X < 0, 0, self.X))) # derivative for ReLU:\n",
    "            d_result = dReLU * d_out                                           # dReLU = 1 if X > 0,\n",
    "            return d_result                                                    # dReLU = 0 if X <= 0.\n",
    "        except:\n",
    "            raise Exception(\"Not implemented!\")\n",
    "\n",
    "    def params(self):\n",
    "        # ReLU Doesn't have any parameters\n",
    "        return {}"
   ]
  },
  {
   "cell_type": "markdown",
   "metadata": {
    "papermill": {
     "duration": 0.054951,
     "end_time": "2020-11-04T12:50:27.991878",
     "exception": false,
     "start_time": "2020-11-04T12:50:27.936927",
     "status": "completed"
    },
    "tags": []
   },
   "source": [
    "For checking a ReLU layer we use special functions: gradient_check and check_layer_gradient:"
   ]
  },
  {
   "cell_type": "code",
   "execution_count": 8,
   "metadata": {
    "execution": {
     "iopub.execute_input": "2020-11-04T12:50:28.133165Z",
     "iopub.status.busy": "2020-11-04T12:50:28.131057Z",
     "iopub.status.idle": "2020-11-04T12:50:28.137904Z",
     "shell.execute_reply": "2020-11-04T12:50:28.136930Z"
    },
    "papermill": {
     "duration": 0.089584,
     "end_time": "2020-11-04T12:50:28.138076",
     "exception": false,
     "start_time": "2020-11-04T12:50:28.048492",
     "status": "completed"
    },
    "tags": []
   },
   "outputs": [],
   "source": [
    "def check_gradient(f, x, delta=1e-5, tol=1e-4, verbose=False):\n",
    "    '''\n",
    "    Checks the implementation of analytical gradient by comparing\n",
    "    it to numerical gradient using two-point formula.\n",
    "    \n",
    "    Args:\n",
    "      f (func): a function that receives x and computes value and gradient.\n",
    "      x (numpy array of float): an initial point where gradient is checked.\n",
    "      delta (float): a step to compute numerical gradient.\n",
    "      tol (float): a tolerance for comparing numerical and analytical gradients.\n",
    "      \n",
    "    Returns:\n",
    "      (bool): an indication whether gradients are match or mismatch.\n",
    "    '''\n",
    "    assert isinstance(x, np.ndarray)\n",
    "    assert x.dtype == np.float\n",
    "\n",
    "    fx, analytic_grad = f(x)\n",
    "    analytic_grad = analytic_grad.copy()\n",
    "\n",
    "    assert analytic_grad.shape == x.shape\n",
    "    grad = np.zeros_like(x)\n",
    "    \n",
    "    it = np.nditer(x, flags=['multi_index'], op_flags=['readwrite'])\n",
    "    while not it.finished:\n",
    "        ix = it.multi_index\n",
    "        value = x[ix]\n",
    "        x[ix] = value + delta\n",
    "        fx_plus_delta = f(x)\n",
    "        x[ix] = value - delta\n",
    "        fx_minus_delta = f(x)\n",
    "        x[ix] = value # restore value\n",
    "        grad[ix] = (fx_plus_delta[0] - fx_minus_delta[0]) / (2 * delta)\n",
    "        \n",
    "        if verbose:\n",
    "            print(ix, grad[ix])\n",
    "        \n",
    "        analytic_grad_at_ix = analytic_grad[ix]\n",
    "        numeric_grad_at_ix = grad[ix]\n",
    "\n",
    "        if not np.isclose(numeric_grad_at_ix, analytic_grad_at_ix, tol):\n",
    "            print(\"Gradients are different at %s. Analytic: %2.5f, Numeric: %2.5f\" % (\n",
    "                  ix, analytic_grad_at_ix, numeric_grad_at_ix))\n",
    "            return False\n",
    "\n",
    "        it.iternext()\n",
    "    print(\"Gradient check passed!\")\n",
    "    return True\n",
    "    \n",
    "def check_layer_gradient(layer, x, delta=1e-5, tol=1e-4):\n",
    "    \"\"\"\n",
    "    Checks gradient correctness for the input and output of a layer\n",
    "    Arguments:\n",
    "      layer: neural network layer, with forward and backward functions\n",
    "      x: starting point for layer input\n",
    "      delta: step to compute numerical gradient\n",
    "      tol: tolerance for comparing numerical and analytical gradient\n",
    "    Returns:\n",
    "      bool indicating whether gradients match or not\n",
    "    \"\"\"\n",
    "    output = layer.forward(x)\n",
    "    output_weight = np.random.randn(*output.shape)\n",
    "\n",
    "    def helper_func(x):\n",
    "        output = layer.forward(x)\n",
    "        loss = np.sum(output * output_weight)\n",
    "        d_out = np.ones_like(output) * output_weight\n",
    "        grad = layer.backward(d_out)\n",
    "        return loss, grad\n",
    "\n",
    "    return check_gradient(helper_func, x, delta, tol)"
   ]
  },
  {
   "cell_type": "markdown",
   "metadata": {
    "papermill": {
     "duration": 0.056428,
     "end_time": "2020-11-04T12:50:28.253351",
     "exception": false,
     "start_time": "2020-11-04T12:50:28.196923",
     "status": "completed"
    },
    "tags": []
   },
   "source": [
    "Let's check our ReLU layer!"
   ]
  },
  {
   "cell_type": "code",
   "execution_count": 9,
   "metadata": {
    "execution": {
     "iopub.execute_input": "2020-11-04T12:50:28.375301Z",
     "iopub.status.busy": "2020-11-04T12:50:28.374555Z",
     "iopub.status.idle": "2020-11-04T12:50:28.379349Z",
     "shell.execute_reply": "2020-11-04T12:50:28.380030Z"
    },
    "papermill": {
     "duration": 0.069212,
     "end_time": "2020-11-04T12:50:28.380239",
     "exception": false,
     "start_time": "2020-11-04T12:50:28.311027",
     "status": "completed"
    },
    "tags": []
   },
   "outputs": [
    {
     "name": "stdout",
     "output_type": "stream",
     "text": [
      "Gradient check passed!\n"
     ]
    }
   ],
   "source": [
    "X = np.array([[1,-2,3],\n",
    "              [-1, 2, 0.1]\n",
    "              ])\n",
    "\n",
    "assert check_layer_gradient(ReLULayer(), X)"
   ]
  },
  {
   "cell_type": "markdown",
   "metadata": {
    "papermill": {
     "duration": 0.055111,
     "end_time": "2020-11-04T12:50:28.489773",
     "exception": false,
     "start_time": "2020-11-04T12:50:28.434662",
     "status": "completed"
    },
    "tags": []
   },
   "source": [
    "Hooray! Gradient check passed!"
   ]
  },
  {
   "cell_type": "markdown",
   "metadata": {
    "papermill": {
     "duration": 0.086225,
     "end_time": "2020-11-04T12:50:28.630921",
     "exception": false,
     "start_time": "2020-11-04T12:50:28.544696",
     "status": "completed"
    },
    "tags": []
   },
   "source": [
    "Let's build a fully conecting layer.We'll use a Param class for storing our parameters: weights and biases. This make possible all parameters accumulation in one place."
   ]
  },
  {
   "cell_type": "code",
   "execution_count": 10,
   "metadata": {
    "execution": {
     "iopub.execute_input": "2020-11-04T12:50:28.896097Z",
     "iopub.status.busy": "2020-11-04T12:50:28.894877Z",
     "iopub.status.idle": "2020-11-04T12:50:28.910417Z",
     "shell.execute_reply": "2020-11-04T12:50:28.911908Z"
    },
    "papermill": {
     "duration": 0.122703,
     "end_time": "2020-11-04T12:50:28.912166",
     "exception": false,
     "start_time": "2020-11-04T12:50:28.789463",
     "status": "completed"
    },
    "tags": []
   },
   "outputs": [],
   "source": [
    "class Param:\n",
    "    \"\"\"\n",
    "    Trainable parameter of the model\n",
    "    Captures both parameter value and the gradient\n",
    "    \"\"\"\n",
    "\n",
    "    def __init__(self, value):\n",
    "        self.value = value\n",
    "        self.grad = np.zeros_like(value)\n",
    "\n",
    "\n",
    "class FullyConnectedLayer:\n",
    "    def __init__(self, n_input, n_output):\n",
    "        self.W = Param(0.001 * np.random.randn(n_input, n_output))\n",
    "        self.B = Param(0.001 * np.random.randn(1, n_output))\n",
    "        self.X = None\n",
    "\n",
    "    def forward(self, X):\n",
    "        try:\n",
    "            output = np.dot(X, self.W.value) + self.B.value\n",
    "            self.X = X\n",
    "            self.output = output\n",
    "            return output\n",
    "        except:\n",
    "            raise Exception(\"Not implemented!\")\n",
    "\n",
    "    def backward(self, d_out):\n",
    "        \"\"\"\n",
    "        Backward pass computes gradient with respect to input and\n",
    "        accumulates gradients within self.W and self.B.\n",
    "        \n",
    "        Arg:\n",
    "        d_out (numpy array (batch_size, n_output)): gradient\n",
    "           of loss function with respect to output.\n",
    "        \n",
    "        Returns:\n",
    "        d_input (numpy array (batch_size, n_input)): gradient\n",
    "          with respect to input.\n",
    "        \"\"\"\n",
    "        try:\n",
    "            d_input = np.dot(d_out, self.W.value.T)\n",
    "            dW = np.dot(self.X.T, d_out)\n",
    "            dB = np.dot(np.ones_like(self.output).T, d_out)[0].reshape(1,-1)\n",
    "            self.W.grad += dW\n",
    "            self.B.grad += dB\n",
    "            return d_input\n",
    "        except:\n",
    "            raise Exception(\"Not implemented!\")\n",
    "\n",
    "    def params(self):\n",
    "        return {'W': self.W, 'B': self.B}"
   ]
  },
  {
   "cell_type": "code",
   "execution_count": 11,
   "metadata": {
    "execution": {
     "iopub.execute_input": "2020-11-04T12:50:29.100539Z",
     "iopub.status.busy": "2020-11-04T12:50:29.099324Z",
     "iopub.status.idle": "2020-11-04T12:50:29.142838Z",
     "shell.execute_reply": "2020-11-04T12:50:29.144419Z"
    },
    "papermill": {
     "duration": 0.138289,
     "end_time": "2020-11-04T12:50:29.144680",
     "exception": false,
     "start_time": "2020-11-04T12:50:29.006391",
     "status": "completed"
    },
    "tags": []
   },
   "outputs": [
    {
     "name": "stdout",
     "output_type": "stream",
     "text": [
      "Gradient check passed!\n"
     ]
    }
   ],
   "source": [
    "assert check_layer_gradient(FullyConnectedLayer(3, 4), X)"
   ]
  },
  {
   "cell_type": "code",
   "execution_count": 12,
   "metadata": {
    "execution": {
     "iopub.execute_input": "2020-11-04T12:50:29.329763Z",
     "iopub.status.busy": "2020-11-04T12:50:29.328569Z",
     "iopub.status.idle": "2020-11-04T12:50:29.333542Z",
     "shell.execute_reply": "2020-11-04T12:50:29.334899Z"
    },
    "papermill": {
     "duration": 0.104149,
     "end_time": "2020-11-04T12:50:29.335092",
     "exception": false,
     "start_time": "2020-11-04T12:50:29.230943",
     "status": "completed"
    },
    "tags": []
   },
   "outputs": [],
   "source": [
    "def check_layer_param_gradient(layer, x,\n",
    "                               param_name,\n",
    "                               delta=1e-5, tol=1e-4):\n",
    "    \"\"\"\n",
    "    Checks gradient correctness for the parameter of the layer.\n",
    "    \n",
    "    Args:\n",
    "      layer (class): neural network layer, with forward and backward functions.\n",
    "      x (numpy array): starting point for layer input.\n",
    "      param_name (class param): name of the parameter.\n",
    "      delta (float): step to compute numerical gradient.\n",
    "      tol (float): tolerance for comparing numerical and analytical gradient.\n",
    "      \n",
    "    Returns:\n",
    "      bool: indicating whether gradients match or not.\n",
    "    \"\"\"\n",
    "    param = layer.params()[param_name]\n",
    "    initial_w = param.value\n",
    "\n",
    "    output = layer.forward(x)\n",
    "    output_weight = np.random.randn(*output.shape)\n",
    "\n",
    "    def helper_func(w):\n",
    "        param.value = w\n",
    "        output = layer.forward(x)\n",
    "        loss = np.sum(output * output_weight)\n",
    "        d_out = np.ones_like(output) * output_weight\n",
    "        layer.backward(d_out)\n",
    "        grad = param.grad\n",
    "        return loss, grad\n",
    "\n",
    "    return check_gradient(helper_func, initial_w, delta, tol)"
   ]
  },
  {
   "cell_type": "code",
   "execution_count": 13,
   "metadata": {
    "execution": {
     "iopub.execute_input": "2020-11-04T12:50:29.482864Z",
     "iopub.status.busy": "2020-11-04T12:50:29.481692Z",
     "iopub.status.idle": "2020-11-04T12:50:29.491505Z",
     "shell.execute_reply": "2020-11-04T12:50:29.492541Z"
    },
    "papermill": {
     "duration": 0.078445,
     "end_time": "2020-11-04T12:50:29.492783",
     "exception": false,
     "start_time": "2020-11-04T12:50:29.414338",
     "status": "completed"
    },
    "tags": []
   },
   "outputs": [
    {
     "name": "stdout",
     "output_type": "stream",
     "text": [
      "Gradient check passed!\n",
      "Gradient check passed!\n"
     ]
    }
   ],
   "source": [
    "assert check_layer_param_gradient(FullyConnectedLayer(3, 4), X, 'W')\n",
    "assert check_layer_param_gradient(FullyConnectedLayer(3, 4), X, 'B')"
   ]
  },
  {
   "cell_type": "markdown",
   "metadata": {
    "papermill": {
     "duration": 0.060602,
     "end_time": "2020-11-04T12:50:29.616733",
     "exception": false,
     "start_time": "2020-11-04T12:50:29.556131",
     "status": "completed"
    },
    "tags": []
   },
   "source": [
    "## Build a Neural Net."
   ]
  },
  {
   "cell_type": "code",
   "execution_count": 14,
   "metadata": {
    "execution": {
     "iopub.execute_input": "2020-11-04T12:50:29.782982Z",
     "iopub.status.busy": "2020-11-04T12:50:29.781657Z",
     "iopub.status.idle": "2020-11-04T12:50:29.894664Z",
     "shell.execute_reply": "2020-11-04T12:50:29.892991Z"
    },
    "papermill": {
     "duration": 0.19639,
     "end_time": "2020-11-04T12:50:29.894805",
     "exception": false,
     "start_time": "2020-11-04T12:50:29.698415",
     "status": "completed"
    },
    "tags": []
   },
   "outputs": [],
   "source": [
    "def l2_regularization(W, reg_strength):\n",
    "    '''\n",
    "    Computes L2 regularization loss on weights and its gradient.\n",
    "    \n",
    "    Args:\n",
    "      W (numpy array): weights.\n",
    "      reg_strength (float): regularization strength value.\n",
    "      \n",
    "    Returns:\n",
    "      loss (single value): l2 regularization loss.\n",
    "      gradient (numpy array same shape as W): gradient of weight by l2 loss.\n",
    "    '''\n",
    "    try:\n",
    "        l2_regularization_loss = reg_strength * np.sum(np.square(W))\n",
    "        gradient = 2 * reg_strength * W\n",
    "        return l2_regularization_loss, gradient\n",
    "    except:\n",
    "        raise Exception(\"Not implemented!\")\n",
    "\n",
    "def softmax(input_values):\n",
    "    '''\n",
    "    Computes probabilities from scores.\n",
    "    \n",
    "    Args:\n",
    "      input_values (numpy array shape (N,) or (batch_size, N)): a classifier output.\n",
    "      \n",
    "    Returns:\n",
    "      estimated_probabilities (numpy array of the same shape as input values): an estimated probability\n",
    "      for every class.\n",
    "    '''\n",
    "    try:\n",
    "        values = input_values.copy()\n",
    "        if values.ndim == 1:\n",
    "            values -= np.max(values)#  shift values inside the vector for numeric stability of rapidly\n",
    "                                    #  increasing exponential function.\n",
    "            estimated_probabilities = np.exp(values) / np.sum(np.exp(values))\n",
    "        else:\n",
    "            max_values = np.max(values, axis=1).reshape(-1,1)\n",
    "            values = values - max_values\n",
    "            estimated_probabilities = np.exp(values) / np.sum(np.exp(values), axis = 1).reshape(values.shape[0], -1)\n",
    "        \n",
    "        return estimated_probabilities\n",
    "    \n",
    "    except:\n",
    "        raise Exception(\"Not implemented!\")\n",
    "\n",
    "\n",
    "def cross_entropy_loss(estimated_distribution, target_index, epsilon=1e-12):\n",
    "    '''\n",
    "    Computes cross-entropy loss.\n",
    "    \n",
    "    Args:\n",
    "      estimated_distribution (numpy array, shape (N,) or (batch_size, N)): probabilities for every class.\n",
    "      target_index (numpy array of int, shape (1,) or (batch_size,)): index of the true class \n",
    "      in given sample(s), showing at which index an estimated distibution should be max.\n",
    "      \n",
    "    Returns:\n",
    "      a single value.\n",
    "    '''\n",
    "    try:\n",
    "        if target_index is not np.array:\n",
    "            target_index = np.array(target_index)\n",
    "        \n",
    "        if estimated_distribution.ndim == 1:\n",
    "            estimated_distribution = estimated_distribution.reshape(1,-1)\n",
    "            \n",
    "        rows = estimated_distribution.shape[0]\n",
    "        true_distribution = np.zeros_like(estimated_distribution)\n",
    "        columns = target_index.flatten()\n",
    "        true_distribution[np.arange(rows), columns] = 1\n",
    "        return (- np.sum(true_distribution * np.log(estimated_distribution))) / estimated_distribution.shape[0]\n",
    "    except:\n",
    "        raise Exception(\"Not implemented!\")        \n",
    "\n",
    "def softmax_with_cross_entropy(input_values, target_index):\n",
    "    '''\n",
    "    Computes softmax and cross-entropy loss for model predictions,\n",
    "    including the gradient.\n",
    "    \n",
    "    Args:\n",
    "      input_values (numpy array, shape (N,) or (batch_size, N)): a classifier output.\n",
    "      target_index (numpy array of int, shape (1,) or (batch_size,)): an index of the true \n",
    "      class for given sample(s).\n",
    "      \n",
    "    Returns:\n",
    "      loss (a single value): cross-entropy loss.\n",
    "      gradient (numpy array, input_values.shape): a gradient of cross entopy error function\n",
    "      with a softmax derivative.\n",
    "    '''\n",
    "    try:            \n",
    "        estimated_distribution = softmax(input_values)\n",
    "        loss = cross_entropy_loss(estimated_distribution, target_index)\n",
    "        \n",
    "        if estimated_distribution.ndim == 1:\n",
    "            estimated_distribution = estimated_distribution.reshape(1,-1)\n",
    "            \n",
    "        rows = estimated_distribution.shape[0]\n",
    "        true_distribution = np.zeros_like(estimated_distribution)\n",
    "        \n",
    "        if target_index is not np.array:\n",
    "            target_index = np.array(target_index)\n",
    "        \n",
    "        columns = target_index.flatten()\n",
    "        true_distribution[np.arange(rows), columns] = 1\n",
    "        gradient = (estimated_distribution - true_distribution) / estimated_distribution.shape[0]\n",
    "        if input_values.ndim == 1:\n",
    "            gradient = gradient.reshape(input_values.shape) # done only for gradient check\n",
    "        return loss, gradient\n",
    "    except:\n",
    "        raise Exception(\"Not implemented!\")\n",
    "\n",
    "class TwoLayerNet:\n",
    "    \"\"\" Neural network with two fully connected layers \"\"\"\n",
    "\n",
    "    def __init__(self, n_input, n_output, hidden_layer_size, reg):\n",
    "        \"\"\"\n",
    "        Initializes the neural network.\n",
    "        \n",
    "        Args:\n",
    "        n_input (int): dimension of the model input.\n",
    "        n_output (int): number of classes to predict.\n",
    "        hidden_layer_size (int): number of neurons in the hidden layer.\n",
    "        reg (float): L2 regularization strength.\n",
    "        \"\"\"\n",
    "        self.reg = reg\n",
    "        self.layers = [FullyConnectedLayer(n_input, hidden_layer_size), ReLULayer(), \n",
    "                       FullyConnectedLayer(hidden_layer_size, n_output)]\n",
    "\n",
    "    def compute_loss_and_gradients(self, X, y, verbose=False):\n",
    "        \"\"\"\n",
    "        Computes total loss and updates parameter gradients\n",
    "        on a batch of training examples.\n",
    "        \n",
    "        Arg:\n",
    "        X (numpy array (batch_size, input_features)): input data.\n",
    "        y (numpy array of int (batch_size)): classes (labels).\n",
    "        \n",
    "        Returns:\n",
    "        loss (float): function loss.\n",
    "        \"\"\"\n",
    "        try:\n",
    "            layer_count = 0\n",
    "            for layer in self.layers:\n",
    "                if layer.params():\n",
    "                    layer.params()[\"W\"].grad = 0# set all gradients from previous pass to zero\n",
    "                    layer.params()[\"B\"].grad = 0\n",
    "                    \n",
    "                    if verbose: # for testing purpose only; look on changing weights...\n",
    "                        layer_count += 1\n",
    "                        print(f'Layer_{layer_count} weights are {layer.params()[\"W\"].value[:1]}')\n",
    "                        print()\n",
    "            \n",
    "            self.L = Param(0) # create object of overall model parameters: input values X and gradient\n",
    "            self.L.value = X  # of loss function with respect to input dL/dX\n",
    "                              # found it usefull only for model gradient check.\n",
    "                              # Since this function makes forward and backward pass through all layers,\n",
    "                              # it is impossible to get correct gradient check for layer weights,\n",
    "                              # (in case of storing weights in model param())\n",
    "                              # because it treats weights as X (input vector) and pass through all\n",
    "                              # layers... \n",
    "                              # Model parameters stores in layer objects.\n",
    "                              # In a Trainer object we call self.model.params() and it is reasonable to\n",
    "                              # copy all layer weight to model params(), is it?\n",
    "                              # Using multiclass inheritance with the same method name makes it\n",
    "                              # cumbersome (https://stackoverflow.com/questions/3810410/python-multiple-inheritance-from-different-paths-with-same-method-name)\n",
    "            self.input = X\n",
    "            l2_reg_loss_cost = 0\n",
    "            for layer in self.layers:\n",
    "                self.input = layer.forward(self.input) # makes a forward pass of input data\n",
    "                if layer.params():\n",
    "                    l2_reg_loss, _ = l2_regularization(layer.params()[\"W\"].value, self.reg) # accumulates all L2 regularization cost\n",
    "                    l2_reg_loss_cost += l2_reg_loss                     # for loss function\n",
    "                    \n",
    "            self.loss, self.d_input = softmax_with_cross_entropy(self.input, y)\n",
    "            \n",
    "            self.loss += l2_reg_loss_cost # add regualraization cost from forward pass to loss function\n",
    "            \n",
    "            for layer in reversed(self.layers):\n",
    "                self.d_input = layer.backward(self.d_input) # makes a backward pass\n",
    "                if layer.params():\n",
    "                    _, grad_l2_reg_loss_cost = l2_regularization(layer.params()[\"W\"].value, self.reg) # computes L2 regularization\n",
    "                    layer.params()[\"W\"].grad = layer.params()[\"W\"].grad + grad_l2_reg_loss_cost       # for weights and add it \n",
    "            self.L.grad = self.d_input\n",
    "            \n",
    "            return self.loss\n",
    "        except:\n",
    "            raise Exception(\"Not implemented!\")\n",
    "\n",
    "    def predict(self, X):\n",
    "        \"\"\"\n",
    "        Produces classifier predictions on the set.\n",
    "        \n",
    "        Args:\n",
    "          X (numpy array (test_samples, num_features)): input data.\n",
    "        \n",
    "        Returns:\n",
    "          y_pred (numpy array of int (test_samples)): predicted labels.\n",
    "        \"\"\"\n",
    "        try:\n",
    "            y_pred = np.zeros(X.shape[0], np.int)\n",
    "            self.input_to_predict = X\n",
    "            for layer in self.layers:\n",
    "                self.input_to_predict = layer.forward(self.input_to_predict) # makes a forward pass of input data\n",
    "            y_pred = np.argmax(softmax(self.input_to_predict), axis=1)\n",
    "            return y_pred\n",
    "        except:\n",
    "            raise Exception(\"Not implemented!\")\n",
    "\n",
    "    def params(self):\n",
    "        try:\n",
    "            return {\"model_loss\": self.L} # we aggregate weights and biases in layers objects\n",
    "        except:\n",
    "            raise Exception(\"Not implemented!\")"
   ]
  },
  {
   "cell_type": "code",
   "execution_count": 15,
   "metadata": {
    "execution": {
     "iopub.execute_input": "2020-11-04T12:50:30.019768Z",
     "iopub.status.busy": "2020-11-04T12:50:30.018737Z",
     "iopub.status.idle": "2020-11-04T12:50:30.025280Z",
     "shell.execute_reply": "2020-11-04T12:50:30.025855Z"
    },
    "papermill": {
     "duration": 0.072679,
     "end_time": "2020-11-04T12:50:30.026004",
     "exception": false,
     "start_time": "2020-11-04T12:50:29.953325",
     "status": "completed"
    },
    "tags": []
   },
   "outputs": [
    {
     "data": {
      "text/plain": [
       "2.3017431274073696"
      ]
     },
     "execution_count": 15,
     "metadata": {},
     "output_type": "execute_result"
    }
   ],
   "source": [
    "model = TwoLayerNet(n_input = train_X.shape[1], n_output = 10, hidden_layer_size = 3, reg = 0)\n",
    "loss = model.compute_loss_and_gradients(train_X[:2], train_y[:2])\n",
    "loss"
   ]
  },
  {
   "cell_type": "code",
   "execution_count": 16,
   "metadata": {
    "execution": {
     "iopub.execute_input": "2020-11-04T12:50:30.149837Z",
     "iopub.status.busy": "2020-11-04T12:50:30.148653Z",
     "iopub.status.idle": "2020-11-04T12:50:30.152997Z",
     "shell.execute_reply": "2020-11-04T12:50:30.153480Z"
    },
    "papermill": {
     "duration": 0.067905,
     "end_time": "2020-11-04T12:50:30.153626",
     "exception": false,
     "start_time": "2020-11-04T12:50:30.085721",
     "status": "completed"
    },
    "tags": []
   },
   "outputs": [
    {
     "data": {
      "text/plain": [
       "[<__main__.FullyConnectedLayer at 0x7f13931b4a50>,\n",
       " <__main__.ReLULayer at 0x7f1393992c90>,\n",
       " <__main__.FullyConnectedLayer at 0x7f139324cfd0>]"
      ]
     },
     "execution_count": 16,
     "metadata": {},
     "output_type": "execute_result"
    }
   ],
   "source": [
    "model.layers"
   ]
  },
  {
   "cell_type": "code",
   "execution_count": 17,
   "metadata": {
    "execution": {
     "iopub.execute_input": "2020-11-04T12:50:30.277707Z",
     "iopub.status.busy": "2020-11-04T12:50:30.276873Z",
     "iopub.status.idle": "2020-11-04T12:50:30.282181Z",
     "shell.execute_reply": "2020-11-04T12:50:30.281702Z"
    },
    "papermill": {
     "duration": 0.069957,
     "end_time": "2020-11-04T12:50:30.282303",
     "exception": false,
     "start_time": "2020-11-04T12:50:30.212346",
     "status": "completed"
    },
    "tags": []
   },
   "outputs": [
    {
     "data": {
      "text/plain": [
       "((2, 1024), (2, 1024))"
      ]
     },
     "execution_count": 17,
     "metadata": {},
     "output_type": "execute_result"
    }
   ],
   "source": [
    "model.params()['model_loss'].value.shape, model.params()['model_loss'].grad.shape "
   ]
  },
  {
   "cell_type": "code",
   "execution_count": 18,
   "metadata": {
    "execution": {
     "iopub.execute_input": "2020-11-04T12:50:30.409279Z",
     "iopub.status.busy": "2020-11-04T12:50:30.407323Z",
     "iopub.status.idle": "2020-11-04T12:50:30.410012Z",
     "shell.execute_reply": "2020-11-04T12:50:30.410546Z"
    },
    "papermill": {
     "duration": 0.070597,
     "end_time": "2020-11-04T12:50:30.410713",
     "exception": false,
     "start_time": "2020-11-04T12:50:30.340116",
     "status": "completed"
    },
    "tags": []
   },
   "outputs": [],
   "source": [
    "def check_model_gradient(model, X, y,\n",
    "                         delta=1e-5, tol=1e-4):\n",
    "    \"\"\"\n",
    "    Checks gradient correctness for all model parameters.\n",
    "    \n",
    "    Args:\n",
    "      model: neural network model with compute_loss_and_gradients.\n",
    "      X: batch of input data.\n",
    "      y: batch of labels.\n",
    "      delta: step to compute numerical gradient.\n",
    "      tol: tolerance for comparing numerical and analytical gradient\n",
    "    \n",
    "    Returns:\n",
    "      bool: indicating whether gradients match or not.\n",
    "    \"\"\"\n",
    "    params = model.params()\n",
    "\n",
    "    for param_key in params:\n",
    "        print(\"Checking gradient for %s\" % param_key)\n",
    "        param = params[param_key]\n",
    "        initial_w = param.value\n",
    "\n",
    "        def helper_func(w):\n",
    "            param.value = w\n",
    "            loss = model.compute_loss_and_gradients(X, y)\n",
    "            grad = param.grad\n",
    "            return loss, grad\n",
    "\n",
    "        if not check_gradient(helper_func, initial_w, delta, tol):\n",
    "            return False\n",
    "\n",
    "    return True"
   ]
  },
  {
   "cell_type": "markdown",
   "metadata": {
    "papermill": {
     "duration": 0.056836,
     "end_time": "2020-11-04T12:50:30.523888",
     "exception": false,
     "start_time": "2020-11-04T12:50:30.467052",
     "status": "completed"
    },
    "tags": []
   },
   "source": [
    "We'll check model loss function gradient dL with respect to the input vector X, in another words dL/dX = dL/dZn dZn/dAn-1 dAn-2/dZn-1 ... dZ/dX and we should remember that dL/dZn = dL/dAn dAn/dZn. dAn = d(SoftMAX)n and dAn-1, dAn-2, dAn-3 =  d(ReLU)n-1 d(ReLU)n-2 d(ReLU)n-3, as well dZ = d(WX + B)."
   ]
  },
  {
   "cell_type": "code",
   "execution_count": 19,
   "metadata": {
    "execution": {
     "iopub.execute_input": "2020-11-04T12:50:30.660915Z",
     "iopub.status.busy": "2020-11-04T12:50:30.648783Z",
     "iopub.status.idle": "2020-11-04T12:50:33.022384Z",
     "shell.execute_reply": "2020-11-04T12:50:33.021283Z"
    },
    "papermill": {
     "duration": 2.442052,
     "end_time": "2020-11-04T12:50:33.022508",
     "exception": false,
     "start_time": "2020-11-04T12:50:30.580456",
     "status": "completed"
    },
    "tags": []
   },
   "outputs": [
    {
     "name": "stdout",
     "output_type": "stream",
     "text": [
      "Checking gradient for model_loss\n",
      "Gradient check passed!\n"
     ]
    },
    {
     "data": {
      "text/plain": [
       "True"
      ]
     },
     "execution_count": 19,
     "metadata": {},
     "output_type": "execute_result"
    }
   ],
   "source": [
    "check_model_gradient(model, train_X[:2], train_y[:2])"
   ]
  },
  {
   "cell_type": "markdown",
   "metadata": {
    "papermill": {
     "duration": 0.05714,
     "end_time": "2020-11-04T12:50:33.142056",
     "exception": false,
     "start_time": "2020-11-04T12:50:33.084916",
     "status": "completed"
    },
    "tags": []
   },
   "source": [
    "![Overfitted_Data](https://upload.wikimedia.org/wikipedia/commons/thumb/6/68/Overfitted_Data.png/300px-Overfitted_Data.png)\n",
    "\n",
    "Overfitting usually requires the output of the model to be sensitive to small changes in the input data (i.e. to exactly interpolate the target values, you tend to need a lot of curvature in the fitted function). The bias parameters don't contribute to the curvature of the model, so there is usually little point in regularising them as well. [source](https://stats.stackexchange.com/questions/153605/no-regularisation-term-for-bias-unit-in-neural-network)."
   ]
  },
  {
   "cell_type": "code",
   "execution_count": 20,
   "metadata": {
    "execution": {
     "iopub.execute_input": "2020-11-04T12:50:33.276672Z",
     "iopub.status.busy": "2020-11-04T12:50:33.274502Z",
     "iopub.status.idle": "2020-11-04T12:50:35.433759Z",
     "shell.execute_reply": "2020-11-04T12:50:35.433184Z"
    },
    "papermill": {
     "duration": 2.231189,
     "end_time": "2020-11-04T12:50:35.433895",
     "exception": false,
     "start_time": "2020-11-04T12:50:33.202706",
     "status": "completed"
    },
    "tags": []
   },
   "outputs": [
    {
     "name": "stdout",
     "output_type": "stream",
     "text": [
      "Checking gradient for model_loss\n",
      "Gradient check passed!\n"
     ]
    },
    {
     "data": {
      "text/plain": [
       "True"
      ]
     },
     "execution_count": 20,
     "metadata": {},
     "output_type": "execute_result"
    }
   ],
   "source": [
    "model_with_reg = TwoLayerNet(n_input = train_X.shape[1], n_output = 10, hidden_layer_size = 3, reg = 1e-1)\n",
    "loss_with_reg = model_with_reg.compute_loss_and_gradients(train_X[:2], train_y[:2])\n",
    "assert loss_with_reg > loss and not np.isclose(loss_with_reg, loss), \\\n",
    "    \"Loss with regularization (%2.4f) should be higher than without it (%2.4f)!\" % (loss, loss_with_reg)\n",
    "check_model_gradient(model_with_reg, train_X[:2], train_y[:2])"
   ]
  },
  {
   "cell_type": "code",
   "execution_count": 21,
   "metadata": {
    "execution": {
     "iopub.execute_input": "2020-11-04T12:50:35.562874Z",
     "iopub.status.busy": "2020-11-04T12:50:35.562061Z",
     "iopub.status.idle": "2020-11-04T12:50:35.566223Z",
     "shell.execute_reply": "2020-11-04T12:50:35.565631Z"
    },
    "papermill": {
     "duration": 0.071054,
     "end_time": "2020-11-04T12:50:35.566345",
     "exception": false,
     "start_time": "2020-11-04T12:50:35.495291",
     "status": "completed"
    },
    "tags": []
   },
   "outputs": [],
   "source": [
    "def multiclass_accuracy(prediction, ground_truth):\n",
    "    '''\n",
    "    Computes metrics for multiclass classification.\n",
    "    \n",
    "    Args:\n",
    "        prediction (numpy array of int): model predictions.\n",
    "        ground_truth (numpy array of int): true labels.\n",
    "        \n",
    "    Returns:\n",
    "        accuracy: ratio of accurate predictions to total samples.\n",
    "    '''\n",
    "    confusion_matrix = np.zeros((10,10), np.int)\n",
    "    index = tuple(np.array(list(zip(prediction,ground_truth))).T)\n",
    "    np.add.at(confusion_matrix, index, 1) # np.ix_(prediction, ground_truth)\n",
    "    accuracy = np.trace(confusion_matrix) / confusion_matrix.sum()\n",
    "    return accuracy"
   ]
  },
  {
   "cell_type": "code",
   "execution_count": 22,
   "metadata": {
    "execution": {
     "iopub.execute_input": "2020-11-04T12:50:35.689838Z",
     "iopub.status.busy": "2020-11-04T12:50:35.689016Z",
     "iopub.status.idle": "2020-11-04T12:50:35.702527Z",
     "shell.execute_reply": "2020-11-04T12:50:35.702974Z"
    },
    "papermill": {
     "duration": 0.077521,
     "end_time": "2020-11-04T12:50:35.703111",
     "exception": false,
     "start_time": "2020-11-04T12:50:35.625590",
     "status": "completed"
    },
    "tags": []
   },
   "outputs": [
    {
     "data": {
      "text/plain": [
       "0.06666666666666667"
      ]
     },
     "execution_count": 22,
     "metadata": {},
     "output_type": "execute_result"
    }
   ],
   "source": [
    "multiclass_accuracy(model_with_reg.predict(train_X[:30]), train_y[:30])"
   ]
  },
  {
   "cell_type": "markdown",
   "metadata": {
    "papermill": {
     "duration": 0.078347,
     "end_time": "2020-11-04T12:50:35.840780",
     "exception": false,
     "start_time": "2020-11-04T12:50:35.762433",
     "status": "completed"
    },
    "tags": []
   },
   "source": [
    "## Let's write a code for trainer."
   ]
  },
  {
   "cell_type": "markdown",
   "metadata": {
    "papermill": {
     "duration": 0.070627,
     "end_time": "2020-11-04T12:50:35.998750",
     "exception": false,
     "start_time": "2020-11-04T12:50:35.928123",
     "status": "completed"
    },
    "tags": []
   },
   "source": [
    "### Let's implement stochastic gradient descent\n",
    "\n",
    ">Stochastic gradient descent (often abbreviated SGD) is an iterative method for optimizing an objective function with suitable smoothness properties (e.g. differentiable or subdifferentiable). It can be regarded as a stochastic approximation of gradient descent optimization, since it replaces the actual gradient (calculated from the entire data set) by an estimate thereof (calculated from a randomly selected subset of the data). Especially in high-dimensional optimization problems this reduces the computational burden, achieving faster iterations in trade for a lower convergence rate [wiki](https://en.wikipedia.org/wiki/Stochastic_gradient_descent).\n",
    "![gradient_descent](https://encrypted-tbn0.gstatic.com/images?q=tbn%3AANd9GcQuTCrPEvKWAvM8DblI0fIJxEFhmApkBF-eog&usqp=CAU)\n",
    "\n",
    "In stochastic (or \"on-line\") gradient descent, the true gradient of Q(w) is approximated by a gradient at a single example:\n",
    "\n",
    "![update_weights](https://wikimedia.org/api/rest_v1/media/math/render/svg/dda3670f8a8996a0d3bf80856bb4a166cc8db6d4)\n",
    "\n",
    "As the algorithm sweeps through the training set, it performs the above update for each training example. Several passes can be made over the training set until the algorithm converges. If this is done, the data can be shuffled for each pass to prevent cycles. Typical implementations may use an adaptive learning rate so that the algorithm converges."
   ]
  },
  {
   "cell_type": "code",
   "execution_count": 23,
   "metadata": {
    "execution": {
     "iopub.execute_input": "2020-11-04T12:50:36.135134Z",
     "iopub.status.busy": "2020-11-04T12:50:36.134213Z",
     "iopub.status.idle": "2020-11-04T12:50:36.136632Z",
     "shell.execute_reply": "2020-11-04T12:50:36.137057Z"
    },
    "papermill": {
     "duration": 0.069098,
     "end_time": "2020-11-04T12:50:36.137212",
     "exception": false,
     "start_time": "2020-11-04T12:50:36.068114",
     "status": "completed"
    },
    "tags": []
   },
   "outputs": [],
   "source": [
    "class SGD:\n",
    "    \"\"\"\n",
    "    Implements vanilla SGD update.\n",
    "    \"\"\"\n",
    "    def update(self, w, d_w, learning_rate, batch_size):\n",
    "        \"\"\"\n",
    "        Performs SGD update.\n",
    "        \n",
    "        Args:\n",
    "        w (numpy array): weights.\n",
    "        d_w (numpy array, same shape as w): gradient.\n",
    "        learning_rate (float): learning rate.\n",
    "        \n",
    "        Returns:\n",
    "        updated_weights (numpy array same shape as w): updates weights.\n",
    "        \"\"\"\n",
    "        return w - d_w * learning_rate"
   ]
  },
  {
   "cell_type": "code",
   "execution_count": 24,
   "metadata": {
    "execution": {
     "iopub.execute_input": "2020-11-04T12:50:36.262903Z",
     "iopub.status.busy": "2020-11-04T12:50:36.261803Z",
     "iopub.status.idle": "2020-11-04T12:50:36.448878Z",
     "shell.execute_reply": "2020-11-04T12:50:36.448150Z"
    },
    "papermill": {
     "duration": 0.251496,
     "end_time": "2020-11-04T12:50:36.449000",
     "exception": false,
     "start_time": "2020-11-04T12:50:36.197504",
     "status": "completed"
    },
    "tags": []
   },
   "outputs": [],
   "source": [
    "from copy import deepcopy\n",
    "import scipy.io as io\n",
    "\n",
    "class Dataset:\n",
    "    \"\"\"\n",
    "    Utility class to hold training and validation data\n",
    "    \"\"\"\n",
    "\n",
    "    def __init__(self, train_X, train_y, val_X, val_y):\n",
    "        self.train_X = train_X\n",
    "        self.train_y = train_y\n",
    "        self.val_X = val_X\n",
    "        self.val_y = val_y\n",
    "\n",
    "\n",
    "class Trainer:\n",
    "    \"\"\"\n",
    "    Trainer of the neural network models.\n",
    "    Performs mini-batch SGD with the specified data, model,\n",
    "    training parameters and optimization rule.\n",
    "    \"\"\"\n",
    "\n",
    "    def __init__(self, model, dataset, optim,\n",
    "                 num_epochs=20,\n",
    "                 batch_size=20,\n",
    "                 learning_rate=1e-2,\n",
    "                 learning_rate_decay=1.0):\n",
    "        \"\"\"\n",
    "        Initializes the trainer.\n",
    "        \n",
    "        Args:\n",
    "        model: neural network model.\n",
    "        dataset (instance of Dataset class): data to train on.\n",
    "        optim: optimization method (SGD or MomentuSGD).\n",
    "        num_epochs (int): number of epochs to train.\n",
    "        batch_size (int): batch size.\n",
    "        learning_rate (float): initial learning rate.\n",
    "        learning_rate_decal (float): ratio for decaying learning rate for every epoch.\n",
    "        \"\"\"\n",
    "        self.dataset = dataset\n",
    "        self.model = model\n",
    "        self.optim = optim\n",
    "        self.batch_size = batch_size\n",
    "        self.learning_rate = learning_rate\n",
    "        self.num_epochs = num_epochs\n",
    "        self.learning_rate_decay = learning_rate_decay\n",
    "\n",
    "        self.optimizers = None\n",
    "\n",
    "    def setup_optimizers(self):\n",
    "        self.optimizers = {}\n",
    "        layer_count = 0\n",
    "        for layer in self.model.layers:\n",
    "            if layer.params():\n",
    "                layer_count += 1\n",
    "                self.optimizers[f'{layer_count}_layer_weights'] = deepcopy(self.optim)\n",
    "\n",
    "    def compute_accuracy(self, X, y):\n",
    "        \n",
    "        \"\"\"\n",
    "        Computes accuracy on provided data using mini-batches.\n",
    "        \"\"\"\n",
    "        indices = np.arange(X.shape[0])\n",
    "        sections = np.arange(self.batch_size, X.shape[0], self.batch_size)\n",
    "        batches_indices = np.array_split(indices, sections)\n",
    "\n",
    "        pred = np.zeros_like(y)\n",
    "\n",
    "        for batch_indices in batches_indices:\n",
    "            batch_X = X[batch_indices]\n",
    "            pred_batch = self.model.predict(batch_X)\n",
    "            pred[batch_indices] = pred_batch\n",
    "\n",
    "        return multiclass_accuracy(pred, y)\n",
    "\n",
    "    def fit(self, verbose = True):\n",
    "        \n",
    "        \"\"\"\n",
    "        Trains a model.\n",
    "        \"\"\"\n",
    "        \n",
    "        if self.optimizers is None:\n",
    "            self.setup_optimizers()\n",
    "\n",
    "        num_train = self.dataset.train_X.shape[0]\n",
    "\n",
    "        loss_history = []\n",
    "        train_acc_history = []\n",
    "        val_acc_history = []\n",
    "        \n",
    "        for epoch in range(self.num_epochs):\n",
    "            shuffled_indices = np.arange(num_train)\n",
    "            np.random.shuffle(shuffled_indices)\n",
    "            sections = np.arange(self.batch_size, num_train, self.batch_size)\n",
    "            batches_indices = np.array_split(shuffled_indices, sections)\n",
    "\n",
    "            batch_losses = []\n",
    "\n",
    "            for batch_indices in batches_indices:\n",
    "                batch_X = self.dataset.train_X[batch_indices]\n",
    "                batch_y = self.dataset.train_y[batch_indices]\n",
    "                loss = self.model.compute_loss_and_gradients(batch_X, batch_y, verbose=False)\n",
    "\n",
    "                layer_count = 0\n",
    "                for layer in self.model.layers:\n",
    "                    param = layer.params()\n",
    "                    if param:\n",
    "                        layer_count += 1\n",
    "                        optimizer = self.optimizers[f'{layer_count}_layer_weights']\n",
    "                        param[\"W\"].value = optimizer.update(param[\"W\"].value, param[\"W\"].grad, \n",
    "                                                            self.learning_rate, self.batch_size)\n",
    "                \n",
    "                batch_losses.append(loss)\n",
    "\n",
    "            if np.not_equal(self.learning_rate_decay, 1.0):\n",
    "                self.learning_rate = self.learning_rate_decay * self.learning_rate\n",
    "\n",
    "            ave_loss = np.mean(batch_losses)\n",
    "\n",
    "            train_accuracy = self.compute_accuracy(self.dataset.train_X,\n",
    "                                                   self.dataset.train_y)\n",
    "\n",
    "            val_accuracy = self.compute_accuracy(self.dataset.val_X,\n",
    "                                                 self.dataset.val_y)\n",
    "            if verbose:\n",
    "                print(\"Loss: %f, Train accuracy: %f, val accuracy: %f\" % \n",
    "                      (batch_losses[-1], train_accuracy, val_accuracy))\n",
    "\n",
    "            loss_history.append(ave_loss)\n",
    "            train_acc_history.append(train_accuracy)\n",
    "            val_acc_history.append(val_accuracy)\n",
    "\n",
    "        return loss_history, train_acc_history, val_acc_history"
   ]
  },
  {
   "cell_type": "markdown",
   "metadata": {
    "papermill": {
     "duration": 0.058941,
     "end_time": "2020-11-04T12:50:36.570627",
     "exception": false,
     "start_time": "2020-11-04T12:50:36.511686",
     "status": "completed"
    },
    "tags": []
   },
   "source": [
    "## Let's look how model performs with SGD."
   ]
  },
  {
   "cell_type": "code",
   "execution_count": 25,
   "metadata": {
    "execution": {
     "iopub.execute_input": "2020-11-04T12:50:36.702880Z",
     "iopub.status.busy": "2020-11-04T12:50:36.701967Z",
     "iopub.status.idle": "2020-11-04T12:50:58.047613Z",
     "shell.execute_reply": "2020-11-04T12:50:58.048450Z"
    },
    "papermill": {
     "duration": 21.415734,
     "end_time": "2020-11-04T12:50:58.048678",
     "exception": false,
     "start_time": "2020-11-04T12:50:36.632944",
     "status": "completed"
    },
    "tags": []
   },
   "outputs": [
    {
     "name": "stdout",
     "output_type": "stream",
     "text": [
      "Loss: 2.302403, Train accuracy: 0.103000, val accuracy: 0.117000\n",
      "Loss: 2.302469, Train accuracy: 0.103000, val accuracy: 0.117000\n",
      "Loss: 2.302247, Train accuracy: 0.103000, val accuracy: 0.117000\n",
      "Loss: 2.302159, Train accuracy: 0.103000, val accuracy: 0.117000\n",
      "Loss: 2.302266, Train accuracy: 0.103222, val accuracy: 0.118000\n",
      "Loss: 2.302561, Train accuracy: 0.105000, val accuracy: 0.119000\n",
      "Loss: 2.302853, Train accuracy: 0.109889, val accuracy: 0.119000\n",
      "Loss: 2.302182, Train accuracy: 0.123556, val accuracy: 0.130000\n",
      "Loss: 2.302218, Train accuracy: 0.136333, val accuracy: 0.142000\n",
      "Loss: 2.301820, Train accuracy: 0.133778, val accuracy: 0.146000\n",
      "Loss: 2.302500, Train accuracy: 0.126778, val accuracy: 0.140000\n",
      "Loss: 2.300584, Train accuracy: 0.129667, val accuracy: 0.142000\n",
      "Loss: 2.301228, Train accuracy: 0.147444, val accuracy: 0.145000\n",
      "Loss: 2.298814, Train accuracy: 0.170444, val accuracy: 0.162000\n",
      "Loss: 2.301843, Train accuracy: 0.184111, val accuracy: 0.167000\n",
      "Loss: 2.276881, Train accuracy: 0.183444, val accuracy: 0.160000\n",
      "Loss: 2.287474, Train accuracy: 0.184667, val accuracy: 0.171000\n",
      "Loss: 2.284782, Train accuracy: 0.186667, val accuracy: 0.176000\n",
      "Loss: 2.263796, Train accuracy: 0.196000, val accuracy: 0.183000\n",
      "Loss: 2.236971, Train accuracy: 0.206333, val accuracy: 0.194000\n"
     ]
    }
   ],
   "source": [
    "model = TwoLayerNet(n_input = train_X.shape[1], n_output = 10, hidden_layer_size = 100, reg = 1e-4)\n",
    "dataset = Dataset(train_X, train_y, val_X, val_y)\n",
    "trainer = Trainer(model, dataset, SGD(),batch_size=20, learning_rate = 1e-2)\n",
    "\n",
    "loss_history, train_history, val_history = trainer.fit()"
   ]
  },
  {
   "cell_type": "code",
   "execution_count": 26,
   "metadata": {
    "execution": {
     "iopub.execute_input": "2020-11-04T12:50:58.261440Z",
     "iopub.status.busy": "2020-11-04T12:50:58.260120Z",
     "iopub.status.idle": "2020-11-04T12:50:58.445884Z",
     "shell.execute_reply": "2020-11-04T12:50:58.444660Z"
    },
    "papermill": {
     "duration": 0.269678,
     "end_time": "2020-11-04T12:50:58.446018",
     "exception": false,
     "start_time": "2020-11-04T12:50:58.176340",
     "status": "completed"
    },
    "tags": []
   },
   "outputs": [
    {
     "data": {
      "text/plain": [
       "[<matplotlib.lines.Line2D at 0x7f139164bb90>]"
      ]
     },
     "execution_count": 26,
     "metadata": {},
     "output_type": "execute_result"
    },
    {
     "data": {
      "image/png": "[encoded data removed]",
      "text/plain": [
       "<Figure size 432x288 with 1 Axes>"
      ]
     },
     "metadata": {
      "needs_background": "light"
     },
     "output_type": "display_data"
    }
   ],
   "source": [
    "plt.plot(train_history)\n",
    "plt.plot(val_history)"
   ]
  },
  {
   "cell_type": "markdown",
   "metadata": {
    "papermill": {
     "duration": 0.079608,
     "end_time": "2020-11-04T12:50:58.607309",
     "exception": false,
     "start_time": "2020-11-04T12:50:58.527701",
     "status": "completed"
    },
    "tags": []
   },
   "source": [
    "### For increasing the Neural Net learning speed we introduce learning rate decay."
   ]
  },
  {
   "cell_type": "code",
   "execution_count": 27,
   "metadata": {
    "execution": {
     "iopub.execute_input": "2020-11-04T12:50:58.777251Z",
     "iopub.status.busy": "2020-11-04T12:50:58.776159Z",
     "iopub.status.idle": "2020-11-04T12:51:19.825031Z",
     "shell.execute_reply": "2020-11-04T12:51:19.825813Z"
    },
    "papermill": {
     "duration": 21.137939,
     "end_time": "2020-11-04T12:51:19.826010",
     "exception": false,
     "start_time": "2020-11-04T12:50:58.688071",
     "status": "completed"
    },
    "tags": []
   },
   "outputs": [
    {
     "name": "stdout",
     "output_type": "stream",
     "text": [
      "Loss: 2.302307, Train accuracy: 0.103444, val accuracy: 0.101000\n",
      "Loss: 2.302480, Train accuracy: 0.103444, val accuracy: 0.101000\n",
      "Loss: 2.302496, Train accuracy: 0.103444, val accuracy: 0.101000\n",
      "Loss: 2.302489, Train accuracy: 0.103444, val accuracy: 0.101000\n",
      "Loss: 2.302489, Train accuracy: 0.108444, val accuracy: 0.102000\n",
      "Loss: 2.302582, Train accuracy: 0.123778, val accuracy: 0.116000\n",
      "Loss: 2.302381, Train accuracy: 0.120222, val accuracy: 0.115000\n",
      "Loss: 2.302358, Train accuracy: 0.113444, val accuracy: 0.105000\n",
      "Loss: 2.302455, Train accuracy: 0.114000, val accuracy: 0.104000\n",
      "Loss: 2.302222, Train accuracy: 0.128778, val accuracy: 0.121000\n",
      "Loss: 2.301095, Train accuracy: 0.146556, val accuracy: 0.143000\n",
      "Loss: 2.302597, Train accuracy: 0.157556, val accuracy: 0.154000\n",
      "Loss: 2.301471, Train accuracy: 0.169556, val accuracy: 0.163000\n",
      "Loss: 2.301777, Train accuracy: 0.173667, val accuracy: 0.171000\n",
      "Loss: 2.290136, Train accuracy: 0.176000, val accuracy: 0.169000\n",
      "Loss: 2.290649, Train accuracy: 0.180444, val accuracy: 0.165000\n",
      "Loss: 2.294666, Train accuracy: 0.182222, val accuracy: 0.166000\n",
      "Loss: 2.276352, Train accuracy: 0.182000, val accuracy: 0.163000\n",
      "Loss: 2.255815, Train accuracy: 0.184444, val accuracy: 0.161000\n",
      "Loss: 2.261192, Train accuracy: 0.184111, val accuracy: 0.167000\n"
     ]
    }
   ],
   "source": [
    "model = TwoLayerNet(n_input = train_X.shape[1], n_output = 10, hidden_layer_size = 100, reg = 1e-4)\n",
    "dataset = Dataset(train_X, train_y, val_X, val_y)\n",
    "trainer = Trainer(model, dataset, SGD(), learning_rate = 1e-2, learning_rate_decay=0.99)\n",
    "\n",
    "initial_learning_rate = trainer.learning_rate\n",
    "loss_history, train_history, val_history = trainer.fit()\n",
    "\n",
    "assert trainer.learning_rate < initial_learning_rate, \"Learning rate should've been reduced\"\n",
    "assert trainer.learning_rate > 0.5*initial_learning_rate, \"Learning rate shouldn'tve been reduced that much!\""
   ]
  },
  {
   "cell_type": "code",
   "execution_count": 28,
   "metadata": {
    "execution": {
     "iopub.execute_input": "2020-11-04T12:51:20.004615Z",
     "iopub.status.busy": "2020-11-04T12:51:19.998103Z",
     "iopub.status.idle": "2020-11-04T12:51:20.160017Z",
     "shell.execute_reply": "2020-11-04T12:51:20.159384Z"
    },
    "papermill": {
     "duration": 0.249317,
     "end_time": "2020-11-04T12:51:20.160148",
     "exception": false,
     "start_time": "2020-11-04T12:51:19.910831",
     "status": "completed"
    },
    "tags": []
   },
   "outputs": [
    {
     "data": {
      "text/plain": [
       "[<matplotlib.lines.Line2D at 0x7f13915bbd90>]"
      ]
     },
     "execution_count": 28,
     "metadata": {},
     "output_type": "execute_result"
    },
    {
     "data": {
      "image/png": "[encoded data removed]",
      "text/plain": [
       "<Figure size 432x288 with 1 Axes>"
      ]
     },
     "metadata": {
      "needs_background": "light"
     },
     "output_type": "display_data"
    }
   ],
   "source": [
    "plt.plot(train_history)\n",
    "plt.plot(val_history)"
   ]
  },
  {
   "cell_type": "markdown",
   "metadata": {
    "papermill": {
     "duration": 0.127141,
     "end_time": "2020-11-04T12:51:20.379268",
     "exception": false,
     "start_time": "2020-11-04T12:51:20.252127",
     "status": "completed"
    },
    "tags": []
   },
   "source": [
    "## Momentum SGD\n",
    "\n",
    "Further proposals include the momentum method, which appeared in Rumelhart, Hinton and Williams' paper on backpropagation learning Stochastic gradient descent with momentum remembers the update Δ w at each iteration, and determines the next update as a linear combination of the gradient and the previous update:\n",
    "\n",
    "![1](https://wikimedia.org/api/rest_v1/media/math/render/svg/3959fd86a726cd35d9aeaeaf78ed5006303f7951)\n",
    "![2](https://wikimedia.org/api/rest_v1/media/math/render/svg/9305a474135c05fa8767aebd66c404e189506d03)\n",
    "\n",
    "that leads to:\n",
    "\n",
    "![3](https://wikimedia.org/api/rest_v1/media/math/render/svg/350886f1e3aaa6e9352caca8581274df95ac54e6)\n",
    "\n",
    "where the parameter w which minimizes Q(w) is to be estimated, eta is a step size and alpha  is an exponential decay factor between 0 and 1 that determines the relative contribution of the current gradient and earlier gradients to the weight change.\n",
    "\n",
    "The name momentum stems from an analogy to momentum in physics: the weight vector w, thought of as a particle traveling through parameter space, incurs acceleration from the gradient of the loss (\"force\"). Unlike in classical stochastic gradient descent, it tends to keep traveling in the same direction, preventing oscillations [source](https://en.wikipedia.org/wiki/Stochastic_gradient_descent). "
   ]
  },
  {
   "cell_type": "code",
   "execution_count": 29,
   "metadata": {
    "execution": {
     "iopub.execute_input": "2020-11-04T12:51:20.629537Z",
     "iopub.status.busy": "2020-11-04T12:51:20.628540Z",
     "iopub.status.idle": "2020-11-04T12:51:20.632710Z",
     "shell.execute_reply": "2020-11-04T12:51:20.633468Z"
    },
    "papermill": {
     "duration": 0.132796,
     "end_time": "2020-11-04T12:51:20.633669",
     "exception": false,
     "start_time": "2020-11-04T12:51:20.500873",
     "status": "completed"
    },
    "tags": []
   },
   "outputs": [],
   "source": [
    "class MomentumSGD:\n",
    "    \"\"\"\n",
    "    Implements Momentum SGD update.\n",
    "    \"\"\"\n",
    "    def __init__(self, momentum=0.9):\n",
    "        self.momentum = momentum\n",
    "        self.velocity = 0\n",
    "    \n",
    "    def update(self, w, d_w, learning_rate, batch_size):\n",
    "        \"\"\"\n",
    "        Performs Momentum SGD update.\n",
    "        \n",
    "        Args:\n",
    "        w (numpy array): weights.\n",
    "        d_w (numpy array same shape as w): gradient.\n",
    "        learning_rate (float): learning rate.\n",
    "        \n",
    "        Returns:\n",
    "        updated_weights (numpy array same shape as w)\n",
    "        \"\"\"\n",
    "        self.velocity = self.momentum * self.velocity - learning_rate * d_w / batch_size\n",
    "        w = w + self.velocity\n",
    "        return w"
   ]
  },
  {
   "cell_type": "code",
   "execution_count": 30,
   "metadata": {
    "execution": {
     "iopub.execute_input": "2020-11-04T12:51:20.877327Z",
     "iopub.status.busy": "2020-11-04T12:51:20.876424Z",
     "iopub.status.idle": "2020-11-04T12:51:45.561113Z",
     "shell.execute_reply": "2020-11-04T12:51:45.560336Z"
    },
    "papermill": {
     "duration": 24.81574,
     "end_time": "2020-11-04T12:51:45.561285",
     "exception": false,
     "start_time": "2020-11-04T12:51:20.745545",
     "status": "completed"
    },
    "tags": []
   },
   "outputs": [
    {
     "name": "stdout",
     "output_type": "stream",
     "text": [
      "Loss: 2.302718, Train accuracy: 0.100889, val accuracy: 0.094000\n",
      "Loss: 2.302482, Train accuracy: 0.100889, val accuracy: 0.094000\n",
      "Loss: 2.302560, Train accuracy: 0.101111, val accuracy: 0.094000\n",
      "Loss: 2.302499, Train accuracy: 0.102667, val accuracy: 0.094000\n",
      "Loss: 2.302983, Train accuracy: 0.105444, val accuracy: 0.096000\n",
      "Loss: 2.302820, Train accuracy: 0.109222, val accuracy: 0.101000\n",
      "Loss: 2.302674, Train accuracy: 0.112778, val accuracy: 0.102000\n",
      "Loss: 2.302207, Train accuracy: 0.116778, val accuracy: 0.105000\n",
      "Loss: 2.302303, Train accuracy: 0.120778, val accuracy: 0.108000\n",
      "Loss: 2.301380, Train accuracy: 0.125778, val accuracy: 0.114000\n",
      "Loss: 2.301619, Train accuracy: 0.131778, val accuracy: 0.118000\n",
      "Loss: 2.301244, Train accuracy: 0.138111, val accuracy: 0.125000\n",
      "Loss: 2.301119, Train accuracy: 0.149778, val accuracy: 0.137000\n",
      "Loss: 2.302776, Train accuracy: 0.164000, val accuracy: 0.145000\n",
      "Loss: 2.296495, Train accuracy: 0.174333, val accuracy: 0.150000\n",
      "Loss: 2.291671, Train accuracy: 0.182556, val accuracy: 0.165000\n",
      "Loss: 2.287095, Train accuracy: 0.186111, val accuracy: 0.173000\n",
      "Loss: 2.302675, Train accuracy: 0.191889, val accuracy: 0.177000\n",
      "Loss: 2.291879, Train accuracy: 0.190889, val accuracy: 0.179000\n",
      "Loss: 2.247742, Train accuracy: 0.195889, val accuracy: 0.184000\n"
     ]
    }
   ],
   "source": [
    "model = TwoLayerNet(n_input = train_X.shape[1], n_output = 10, hidden_layer_size = 100, reg = 1e-4)\n",
    "dataset = Dataset(train_X, train_y, val_X, val_y)\n",
    "trainer = Trainer(model, dataset, MomentumSGD(), learning_rate=0.02, learning_rate_decay=0.99)\n",
    "\n",
    "loss_history, train_history, val_history = trainer.fit()"
   ]
  },
  {
   "cell_type": "code",
   "execution_count": 31,
   "metadata": {
    "execution": {
     "iopub.execute_input": "2020-11-04T12:51:45.749223Z",
     "iopub.status.busy": "2020-11-04T12:51:45.748095Z",
     "iopub.status.idle": "2020-11-04T12:51:45.914540Z",
     "shell.execute_reply": "2020-11-04T12:51:45.915166Z"
    },
    "papermill": {
     "duration": 0.268024,
     "end_time": "2020-11-04T12:51:45.915362",
     "exception": false,
     "start_time": "2020-11-04T12:51:45.647338",
     "status": "completed"
    },
    "tags": []
   },
   "outputs": [
    {
     "data": {
      "text/plain": [
       "[<matplotlib.lines.Line2D at 0x7f1391531110>]"
      ]
     },
     "execution_count": 31,
     "metadata": {},
     "output_type": "execute_result"
    },
    {
     "data": {
      "image/png": "[encoded data removed]",
      "text/plain": [
       "<Figure size 432x288 with 1 Axes>"
      ]
     },
     "metadata": {
      "needs_background": "light"
     },
     "output_type": "display_data"
    }
   ],
   "source": [
    "plt.plot(train_history)\n",
    "plt.plot(val_history)"
   ]
  },
  {
   "cell_type": "markdown",
   "metadata": {
    "papermill": {
     "duration": 0.09249,
     "end_time": "2020-11-04T12:51:46.107510",
     "exception": false,
     "start_time": "2020-11-04T12:51:46.015020",
     "status": "completed"
    },
    "tags": []
   },
   "source": [
    "We achived higher accuracy with the same parameters but different optimizer."
   ]
  },
  {
   "cell_type": "markdown",
   "metadata": {
    "papermill": {
     "duration": 0.092495,
     "end_time": "2020-11-04T12:51:46.300067",
     "exception": false,
     "start_time": "2020-11-04T12:51:46.207572",
     "status": "completed"
    },
    "tags": []
   },
   "source": [
    "## Let's train a model.\n",
    "But before we'll check that everything is correct. With this level of complexity we can expect the model to overfit on training set and achieve 100 % accuracy."
   ]
  },
  {
   "cell_type": "code",
   "execution_count": 32,
   "metadata": {
    "execution": {
     "iopub.execute_input": "2020-11-04T12:51:46.496266Z",
     "iopub.status.busy": "2020-11-04T12:51:46.495367Z",
     "iopub.status.idle": "2020-11-04T12:51:47.719514Z",
     "shell.execute_reply": "2020-11-04T12:51:47.720715Z"
    },
    "papermill": {
     "duration": 1.326949,
     "end_time": "2020-11-04T12:51:47.720966",
     "exception": false,
     "start_time": "2020-11-04T12:51:46.394017",
     "status": "completed"
    },
    "tags": []
   },
   "outputs": [
    {
     "name": "stdout",
     "output_type": "stream",
     "text": [
      "Loss: 2.302766, Train accuracy: 0.066667, val accuracy: 0.000000\n",
      "Loss: 2.302934, Train accuracy: 0.066667, val accuracy: 0.000000\n",
      "Loss: 2.302372, Train accuracy: 0.133333, val accuracy: 0.000000\n",
      "Loss: 2.302436, Train accuracy: 0.133333, val accuracy: 0.000000\n",
      "Loss: 2.302422, Train accuracy: 0.133333, val accuracy: 0.000000\n",
      "Loss: 2.302743, Train accuracy: 0.133333, val accuracy: 0.000000\n",
      "Loss: 2.300875, Train accuracy: 0.133333, val accuracy: 0.000000\n",
      "Loss: 2.302380, Train accuracy: 0.133333, val accuracy: 0.000000\n",
      "Loss: 2.302510, Train accuracy: 0.266667, val accuracy: 0.000000\n",
      "Loss: 2.302367, Train accuracy: 0.400000, val accuracy: 0.066667\n",
      "Loss: 2.293077, Train accuracy: 0.400000, val accuracy: 0.000000\n",
      "Loss: 2.285496, Train accuracy: 0.333333, val accuracy: 0.000000\n",
      "Loss: 2.277095, Train accuracy: 0.266667, val accuracy: 0.000000\n",
      "Loss: 2.262382, Train accuracy: 0.200000, val accuracy: 0.000000\n",
      "Loss: 2.235501, Train accuracy: 0.200000, val accuracy: 0.000000\n",
      "Loss: 2.295062, Train accuracy: 0.200000, val accuracy: 0.000000\n",
      "Loss: 2.290599, Train accuracy: 0.200000, val accuracy: 0.000000\n",
      "Loss: 2.064639, Train accuracy: 0.200000, val accuracy: 0.066667\n",
      "Loss: 2.290676, Train accuracy: 0.200000, val accuracy: 0.066667\n",
      "Loss: 1.896855, Train accuracy: 0.200000, val accuracy: 0.000000\n",
      "Loss: 2.258077, Train accuracy: 0.200000, val accuracy: 0.000000\n",
      "Loss: 2.270562, Train accuracy: 0.200000, val accuracy: 0.000000\n",
      "Loss: 1.796593, Train accuracy: 0.200000, val accuracy: 0.000000\n",
      "Loss: 2.238554, Train accuracy: 0.200000, val accuracy: 0.000000\n",
      "Loss: 2.073956, Train accuracy: 0.200000, val accuracy: 0.000000\n",
      "Loss: 2.343130, Train accuracy: 0.200000, val accuracy: 0.000000\n",
      "Loss: 1.693864, Train accuracy: 0.200000, val accuracy: 0.000000\n",
      "Loss: 2.241676, Train accuracy: 0.200000, val accuracy: 0.000000\n",
      "Loss: 2.021337, Train accuracy: 0.200000, val accuracy: 0.000000\n",
      "Loss: 1.963922, Train accuracy: 0.200000, val accuracy: 0.000000\n",
      "Loss: 1.433188, Train accuracy: 0.266667, val accuracy: 0.000000\n",
      "Loss: 2.140184, Train accuracy: 0.266667, val accuracy: 0.000000\n",
      "Loss: 1.783367, Train accuracy: 0.266667, val accuracy: 0.000000\n",
      "Loss: 1.809522, Train accuracy: 0.266667, val accuracy: 0.000000\n",
      "Loss: 2.304128, Train accuracy: 0.333333, val accuracy: 0.000000\n",
      "Loss: 1.647612, Train accuracy: 0.333333, val accuracy: 0.000000\n",
      "Loss: 1.549523, Train accuracy: 0.333333, val accuracy: 0.000000\n",
      "Loss: 2.157496, Train accuracy: 0.466667, val accuracy: 0.000000\n",
      "Loss: 1.780201, Train accuracy: 0.400000, val accuracy: 0.000000\n",
      "Loss: 1.994409, Train accuracy: 0.400000, val accuracy: 0.000000\n",
      "Loss: 1.196394, Train accuracy: 0.466667, val accuracy: 0.000000\n",
      "Loss: 1.559297, Train accuracy: 0.466667, val accuracy: 0.000000\n",
      "Loss: 1.597555, Train accuracy: 0.533333, val accuracy: 0.000000\n",
      "Loss: 1.374398, Train accuracy: 0.466667, val accuracy: 0.000000\n",
      "Loss: 1.325468, Train accuracy: 0.533333, val accuracy: 0.000000\n",
      "Loss: 1.282270, Train accuracy: 0.533333, val accuracy: 0.000000\n",
      "Loss: 1.596136, Train accuracy: 0.466667, val accuracy: 0.000000\n",
      "Loss: 1.513363, Train accuracy: 0.533333, val accuracy: 0.000000\n",
      "Loss: 1.259836, Train accuracy: 0.733333, val accuracy: 0.000000\n",
      "Loss: 1.472173, Train accuracy: 0.733333, val accuracy: 0.000000\n",
      "Loss: 1.034721, Train accuracy: 0.800000, val accuracy: 0.000000\n",
      "Loss: 1.082012, Train accuracy: 0.800000, val accuracy: 0.000000\n",
      "Loss: 1.109613, Train accuracy: 0.800000, val accuracy: 0.000000\n",
      "Loss: 1.020285, Train accuracy: 0.800000, val accuracy: 0.000000\n",
      "Loss: 1.362533, Train accuracy: 0.800000, val accuracy: 0.066667\n",
      "Loss: 0.990610, Train accuracy: 0.800000, val accuracy: 0.000000\n",
      "Loss: 0.688730, Train accuracy: 0.800000, val accuracy: 0.000000\n",
      "Loss: 0.830700, Train accuracy: 0.800000, val accuracy: 0.066667\n",
      "Loss: 1.154415, Train accuracy: 0.800000, val accuracy: 0.000000\n",
      "Loss: 1.316763, Train accuracy: 0.800000, val accuracy: 0.066667\n",
      "Loss: 0.669348, Train accuracy: 0.800000, val accuracy: 0.000000\n",
      "Loss: 0.850137, Train accuracy: 0.866667, val accuracy: 0.000000\n",
      "Loss: 0.594371, Train accuracy: 0.866667, val accuracy: 0.000000\n",
      "Loss: 0.722006, Train accuracy: 0.866667, val accuracy: 0.066667\n",
      "Loss: 0.658374, Train accuracy: 0.800000, val accuracy: 0.000000\n",
      "Loss: 1.348816, Train accuracy: 0.866667, val accuracy: 0.066667\n",
      "Loss: 0.452052, Train accuracy: 0.866667, val accuracy: 0.066667\n",
      "Loss: 1.082122, Train accuracy: 0.866667, val accuracy: 0.066667\n",
      "Loss: 0.929708, Train accuracy: 0.866667, val accuracy: 0.066667\n",
      "Loss: 0.903277, Train accuracy: 0.866667, val accuracy: 0.066667\n",
      "Loss: 0.891466, Train accuracy: 0.866667, val accuracy: 0.066667\n",
      "Loss: 0.950316, Train accuracy: 0.933333, val accuracy: 0.066667\n",
      "Loss: 0.512830, Train accuracy: 0.933333, val accuracy: 0.066667\n",
      "Loss: 0.506769, Train accuracy: 0.933333, val accuracy: 0.066667\n",
      "Loss: 0.827078, Train accuracy: 0.933333, val accuracy: 0.066667\n",
      "Loss: 0.260755, Train accuracy: 0.933333, val accuracy: 0.066667\n",
      "Loss: 0.878484, Train accuracy: 0.933333, val accuracy: 0.066667\n",
      "Loss: 0.945242, Train accuracy: 0.933333, val accuracy: 0.066667\n",
      "Loss: 0.485980, Train accuracy: 0.933333, val accuracy: 0.066667\n",
      "Loss: 0.263719, Train accuracy: 0.933333, val accuracy: 0.066667\n",
      "Loss: 0.998489, Train accuracy: 0.933333, val accuracy: 0.066667\n",
      "Loss: 0.555202, Train accuracy: 0.933333, val accuracy: 0.066667\n",
      "Loss: 0.606912, Train accuracy: 0.933333, val accuracy: 0.066667\n",
      "Loss: 0.305606, Train accuracy: 0.933333, val accuracy: 0.066667\n",
      "Loss: 0.578021, Train accuracy: 0.933333, val accuracy: 0.066667\n",
      "Loss: 0.517510, Train accuracy: 0.933333, val accuracy: 0.066667\n",
      "Loss: 0.721992, Train accuracy: 0.933333, val accuracy: 0.066667\n",
      "Loss: 0.388843, Train accuracy: 0.933333, val accuracy: 0.066667\n",
      "Loss: 0.150796, Train accuracy: 0.933333, val accuracy: 0.066667\n",
      "Loss: 0.177900, Train accuracy: 0.933333, val accuracy: 0.066667\n",
      "Loss: 0.440599, Train accuracy: 0.933333, val accuracy: 0.066667\n",
      "Loss: 0.253888, Train accuracy: 0.933333, val accuracy: 0.066667\n",
      "Loss: 0.455110, Train accuracy: 0.933333, val accuracy: 0.066667\n",
      "Loss: 0.360650, Train accuracy: 0.933333, val accuracy: 0.066667\n",
      "Loss: 0.118027, Train accuracy: 0.933333, val accuracy: 0.066667\n",
      "Loss: 0.431622, Train accuracy: 0.933333, val accuracy: 0.066667\n",
      "Loss: 0.155589, Train accuracy: 0.933333, val accuracy: 0.066667\n",
      "Loss: 0.271550, Train accuracy: 0.933333, val accuracy: 0.066667\n",
      "Loss: 0.473155, Train accuracy: 1.000000, val accuracy: 0.066667\n",
      "Loss: 0.491992, Train accuracy: 0.933333, val accuracy: 0.066667\n",
      "Loss: 0.310433, Train accuracy: 1.000000, val accuracy: 0.066667\n",
      "Loss: 0.242472, Train accuracy: 0.933333, val accuracy: 0.066667\n",
      "Loss: 0.336531, Train accuracy: 1.000000, val accuracy: 0.066667\n",
      "Loss: 0.336216, Train accuracy: 1.000000, val accuracy: 0.066667\n",
      "Loss: 0.148955, Train accuracy: 1.000000, val accuracy: 0.066667\n",
      "Loss: 0.282185, Train accuracy: 1.000000, val accuracy: 0.066667\n",
      "Loss: 0.279382, Train accuracy: 1.000000, val accuracy: 0.066667\n",
      "Loss: 0.181997, Train accuracy: 1.000000, val accuracy: 0.066667\n",
      "Loss: 0.155112, Train accuracy: 1.000000, val accuracy: 0.066667\n",
      "Loss: 0.141869, Train accuracy: 1.000000, val accuracy: 0.066667\n",
      "Loss: 0.130427, Train accuracy: 1.000000, val accuracy: 0.066667\n",
      "Loss: 0.259620, Train accuracy: 1.000000, val accuracy: 0.066667\n",
      "Loss: 0.103269, Train accuracy: 1.000000, val accuracy: 0.066667\n",
      "Loss: 0.107786, Train accuracy: 1.000000, val accuracy: 0.066667\n",
      "Loss: 0.257820, Train accuracy: 1.000000, val accuracy: 0.066667\n",
      "Loss: 0.238844, Train accuracy: 1.000000, val accuracy: 0.066667\n",
      "Loss: 0.282955, Train accuracy: 1.000000, val accuracy: 0.066667\n",
      "Loss: 0.110655, Train accuracy: 1.000000, val accuracy: 0.066667\n",
      "Loss: 0.154879, Train accuracy: 1.000000, val accuracy: 0.066667\n",
      "Loss: 0.116907, Train accuracy: 1.000000, val accuracy: 0.066667\n",
      "Loss: 0.221829, Train accuracy: 1.000000, val accuracy: 0.066667\n",
      "Loss: 0.129872, Train accuracy: 1.000000, val accuracy: 0.066667\n",
      "Loss: 0.131363, Train accuracy: 1.000000, val accuracy: 0.066667\n",
      "Loss: 0.110868, Train accuracy: 1.000000, val accuracy: 0.066667\n",
      "Loss: 0.217915, Train accuracy: 1.000000, val accuracy: 0.066667\n",
      "Loss: 0.205741, Train accuracy: 1.000000, val accuracy: 0.066667\n",
      "Loss: 0.119698, Train accuracy: 1.000000, val accuracy: 0.066667\n",
      "Loss: 0.183431, Train accuracy: 1.000000, val accuracy: 0.066667\n",
      "Loss: 0.149940, Train accuracy: 1.000000, val accuracy: 0.066667\n",
      "Loss: 0.153700, Train accuracy: 1.000000, val accuracy: 0.066667\n",
      "Loss: 0.117272, Train accuracy: 1.000000, val accuracy: 0.066667\n",
      "Loss: 0.184192, Train accuracy: 1.000000, val accuracy: 0.066667\n",
      "Loss: 0.114143, Train accuracy: 1.000000, val accuracy: 0.066667\n",
      "Loss: 0.109179, Train accuracy: 1.000000, val accuracy: 0.066667\n",
      "Loss: 0.183046, Train accuracy: 1.000000, val accuracy: 0.066667\n",
      "Loss: 0.065639, Train accuracy: 1.000000, val accuracy: 0.066667\n",
      "Loss: 0.091086, Train accuracy: 1.000000, val accuracy: 0.066667\n",
      "Loss: 0.102919, Train accuracy: 1.000000, val accuracy: 0.066667\n",
      "Loss: 0.088496, Train accuracy: 1.000000, val accuracy: 0.066667\n",
      "Loss: 0.183894, Train accuracy: 1.000000, val accuracy: 0.066667\n",
      "Loss: 0.095929, Train accuracy: 1.000000, val accuracy: 0.066667\n",
      "Loss: 0.080836, Train accuracy: 1.000000, val accuracy: 0.066667\n",
      "Loss: 0.117621, Train accuracy: 1.000000, val accuracy: 0.066667\n",
      "Loss: 0.115271, Train accuracy: 1.000000, val accuracy: 0.066667\n",
      "Loss: 0.092727, Train accuracy: 1.000000, val accuracy: 0.066667\n",
      "Loss: 0.138579, Train accuracy: 1.000000, val accuracy: 0.066667\n",
      "Loss: 0.113184, Train accuracy: 1.000000, val accuracy: 0.066667\n",
      "Loss: 0.089449, Train accuracy: 1.000000, val accuracy: 0.066667\n",
      "Loss: 0.102200, Train accuracy: 1.000000, val accuracy: 0.066667\n",
      "Loss: 0.114578, Train accuracy: 1.000000, val accuracy: 0.066667\n"
     ]
    }
   ],
   "source": [
    "data_size = 15\n",
    "model = TwoLayerNet(n_input = train_X.shape[1], n_output = 10, hidden_layer_size = 100, reg = 1e-3)\n",
    "dataset = Dataset(train_X[:data_size], train_y[:data_size], val_X[:data_size], val_y[:data_size])\n",
    "trainer = Trainer(model, dataset, SGD(), learning_rate=1e-1, num_epochs=150, batch_size=5)\n",
    "\n",
    "# You should expect this to reach 1.0 training accuracy \n",
    "loss_history, train_history, val_history = trainer.fit()"
   ]
  },
  {
   "cell_type": "code",
   "execution_count": 33,
   "metadata": {
    "execution": {
     "iopub.execute_input": "2020-11-04T12:51:48.005760Z",
     "iopub.status.busy": "2020-11-04T12:51:48.004686Z",
     "iopub.status.idle": "2020-11-04T12:51:48.257340Z",
     "shell.execute_reply": "2020-11-04T12:51:48.258652Z"
    },
    "papermill": {
     "duration": 0.401343,
     "end_time": "2020-11-04T12:51:48.258848",
     "exception": false,
     "start_time": "2020-11-04T12:51:47.857505",
     "status": "completed"
    },
    "tags": []
   },
   "outputs": [
    {
     "data": {
      "text/plain": [
       "[<matplotlib.lines.Line2D at 0x7f139143c390>]"
      ]
     },
     "execution_count": 33,
     "metadata": {},
     "output_type": "execute_result"
    },
    {
     "data": {
      "image/png": "[encoded data removed]",
      "text/plain": [
       "<Figure size 432x288 with 1 Axes>"
      ]
     },
     "metadata": {
      "needs_background": "light"
     },
     "output_type": "display_data"
    }
   ],
   "source": [
    "plt.plot(train_history)\n",
    "plt.plot(val_history)"
   ]
  },
  {
   "cell_type": "markdown",
   "metadata": {
    "papermill": {
     "duration": 0.123564,
     "end_time": "2020-11-04T12:51:48.555363",
     "exception": false,
     "start_time": "2020-11-04T12:51:48.431799",
     "status": "completed"
    },
    "tags": []
   },
   "source": [
    "Looks like that everything is correct."
   ]
  },
  {
   "cell_type": "markdown",
   "metadata": {
    "papermill": {
     "duration": 0.102396,
     "end_time": "2020-11-04T12:51:48.873892",
     "exception": false,
     "start_time": "2020-11-04T12:51:48.771496",
     "status": "completed"
    },
    "tags": []
   },
   "source": [
    "### Now, tweak some hyper parameters and make it train to 1.0 accuracy in 20 epochs or less."
   ]
  },
  {
   "cell_type": "code",
   "execution_count": 34,
   "metadata": {
    "execution": {
     "iopub.execute_input": "2020-11-04T12:51:49.075842Z",
     "iopub.status.busy": "2020-11-04T12:51:49.075009Z",
     "iopub.status.idle": "2020-11-04T12:51:49.240358Z",
     "shell.execute_reply": "2020-11-04T12:51:49.239742Z"
    },
    "papermill": {
     "duration": 0.268246,
     "end_time": "2020-11-04T12:51:49.240521",
     "exception": false,
     "start_time": "2020-11-04T12:51:48.972275",
     "status": "completed"
    },
    "tags": []
   },
   "outputs": [
    {
     "name": "stdout",
     "output_type": "stream",
     "text": [
      "Loss: 2.303322, Train accuracy: 0.000000, val accuracy: 0.066667\n",
      "Loss: 2.302594, Train accuracy: 0.000000, val accuracy: 0.066667\n",
      "Loss: 2.302979, Train accuracy: 0.000000, val accuracy: 0.066667\n",
      "Loss: 2.302566, Train accuracy: 0.000000, val accuracy: 0.000000\n",
      "Loss: 2.301917, Train accuracy: 0.066667, val accuracy: 0.000000\n",
      "Loss: 2.301659, Train accuracy: 0.333333, val accuracy: 0.133333\n",
      "Loss: 2.302490, Train accuracy: 0.266667, val accuracy: 0.066667\n",
      "Loss: 2.302001, Train accuracy: 0.266667, val accuracy: 0.133333\n",
      "Loss: 2.302550, Train accuracy: 0.266667, val accuracy: 0.066667\n",
      "Loss: 2.296779, Train accuracy: 0.266667, val accuracy: 0.000000\n",
      "Loss: 2.288683, Train accuracy: 0.266667, val accuracy: 0.000000\n",
      "Loss: 2.303428, Train accuracy: 0.200000, val accuracy: 0.000000\n",
      "Loss: 2.291908, Train accuracy: 0.200000, val accuracy: 0.000000\n",
      "Loss: 2.294023, Train accuracy: 0.200000, val accuracy: 0.000000\n",
      "Loss: 2.282764, Train accuracy: 0.200000, val accuracy: 0.000000\n",
      "Loss: 2.289479, Train accuracy: 0.200000, val accuracy: 0.000000\n",
      "Loss: 2.274221, Train accuracy: 0.200000, val accuracy: 0.000000\n",
      "Loss: 2.243313, Train accuracy: 0.200000, val accuracy: 0.000000\n",
      "Loss: 2.192863, Train accuracy: 0.200000, val accuracy: 0.000000\n",
      "Loss: 1.746607, Train accuracy: 0.200000, val accuracy: 0.000000\n"
     ]
    }
   ],
   "source": [
    "model = TwoLayerNet(n_input = train_X.shape[1], n_output = 10, hidden_layer_size = 100, reg = 1e-3)\n",
    "dataset = Dataset(train_X[:data_size], train_y[:data_size], val_X[:data_size], val_y[:data_size])\n",
    "trainer = Trainer(model, dataset, MomentumSGD(), learning_rate=1e-1, learning_rate_decay=0.999,\n",
    "                  num_epochs=20, batch_size=5)\n",
    "\n",
    "loss_history, train_history, val_history = trainer.fit()"
   ]
  },
  {
   "cell_type": "code",
   "execution_count": 35,
   "metadata": {
    "execution": {
     "iopub.execute_input": "2020-11-04T12:51:49.448092Z",
     "iopub.status.busy": "2020-11-04T12:51:49.446602Z",
     "iopub.status.idle": "2020-11-04T12:51:49.616053Z",
     "shell.execute_reply": "2020-11-04T12:51:49.616637Z"
    },
    "papermill": {
     "duration": 0.279503,
     "end_time": "2020-11-04T12:51:49.616806",
     "exception": false,
     "start_time": "2020-11-04T12:51:49.337303",
     "status": "completed"
    },
    "tags": []
   },
   "outputs": [
    {
     "data": {
      "text/plain": [
       "[<matplotlib.lines.Line2D at 0x7f139141b550>]"
      ]
     },
     "execution_count": 35,
     "metadata": {},
     "output_type": "execute_result"
    },
    {
     "data": {
      "image/png": "[encoded data removed]",
      "text/plain": [
       "<Figure size 432x288 with 1 Axes>"
      ]
     },
     "metadata": {
      "needs_background": "light"
     },
     "output_type": "display_data"
    }
   ],
   "source": [
    "plt.plot(train_history)\n",
    "plt.plot(val_history)"
   ]
  },
  {
   "cell_type": "markdown",
   "metadata": {
    "papermill": {
     "duration": 0.100903,
     "end_time": "2020-11-04T12:51:49.829542",
     "exception": false,
     "start_time": "2020-11-04T12:51:49.728639",
     "status": "completed"
    },
    "tags": []
   },
   "source": [
    "Adjusting learning rate decay worked."
   ]
  },
  {
   "cell_type": "markdown",
   "metadata": {
    "papermill": {
     "duration": 0.096637,
     "end_time": "2020-11-04T12:51:50.025497",
     "exception": false,
     "start_time": "2020-11-04T12:51:49.928860",
     "status": "completed"
    },
    "tags": []
   },
   "source": [
    "## Let's train the best one-hidden-layer network we can!"
   ]
  },
  {
   "cell_type": "code",
   "execution_count": 36,
   "metadata": {
    "execution": {
     "iopub.execute_input": "2020-11-04T12:51:50.224071Z",
     "iopub.status.busy": "2020-11-04T12:51:50.223276Z",
     "iopub.status.idle": "2020-11-04T12:51:50.227312Z",
     "shell.execute_reply": "2020-11-04T12:51:50.226688Z"
    },
    "papermill": {
     "duration": 0.107983,
     "end_time": "2020-11-04T12:51:50.227421",
     "exception": false,
     "start_time": "2020-11-04T12:51:50.119438",
     "status": "completed"
    },
    "tags": []
   },
   "outputs": [],
   "source": [
    "learning_rates = [1e-1, 1e-2, 1e-3, 1e-4]\n",
    "reg_strengths = [1e-1, 1e-2, 1e-3, 1e-4]\n",
    "learning_rate_decays = [0.9, 0.99, 0.999]\n",
    "hidden_layer_sizes = [32, 64, 128, 256]\n",
    "num_epochs = [50, 100, 200]\n",
    "batch_sizes = [32, 64, 128]\n",
    "optimizers = [SGD(), MomentumSGD()]\n",
    "\n",
    "dataset = Dataset(train_X, train_y, val_X, val_y)"
   ]
  },
  {
   "cell_type": "markdown",
   "metadata": {
    "papermill": {
     "duration": 0.107086,
     "end_time": "2020-11-04T12:51:50.436679",
     "exception": false,
     "start_time": "2020-11-04T12:51:50.329593",
     "status": "completed"
    },
    "tags": []
   },
   "source": [
    "### We'll tune hyperparameters of our model.\n",
    "\n",
    "Firstly we'll choose default state of the model. We should choose default state in a such way that our hyperparameters tweakes are actually seen on train/validation accuracy plot. It demands experimenting a bit with a hyperparameters first to see changes."
   ]
  },
  {
   "cell_type": "markdown",
   "metadata": {
    "papermill": {
     "duration": 0.097831,
     "end_time": "2020-11-04T12:51:50.631226",
     "exception": false,
     "start_time": "2020-11-04T12:51:50.533395",
     "status": "completed"
    },
    "tags": []
   },
   "source": [
    "#### Learning rate"
   ]
  },
  {
   "cell_type": "code",
   "execution_count": 37,
   "metadata": {
    "execution": {
     "iopub.execute_input": "2020-11-04T12:51:50.842071Z",
     "iopub.status.busy": "2020-11-04T12:51:50.841213Z",
     "iopub.status.idle": "2020-11-04T12:53:03.090651Z",
     "shell.execute_reply": "2020-11-04T12:53:03.090080Z"
    },
    "papermill": {
     "duration": 72.359391,
     "end_time": "2020-11-04T12:53:03.090773",
     "exception": false,
     "start_time": "2020-11-04T12:51:50.731382",
     "status": "completed"
    },
    "tags": []
   },
   "outputs": [],
   "source": [
    "loss_histories = list()\n",
    "train_histories = list()\n",
    "val_histories = list()\n",
    "\n",
    "for lr in learning_rates:\n",
    "    model = TwoLayerNet(n_input = train_X.shape[1], n_output = 10, hidden_layer_size = 32, reg = 1e-3)\n",
    "    trainer = Trainer(model, dataset, SGD(), learning_rate=lr, learning_rate_decay=0.9,\n",
    "                      num_epochs=50, batch_size=32)\n",
    "    loss_history, train_history, val_history = trainer.fit(verbose=False)\n",
    "    loss_histories.append(loss_history)\n",
    "    train_histories.append(train_history)\n",
    "    val_histories.append(val_history)\n",
    "    "
   ]
  },
  {
   "cell_type": "code",
   "execution_count": 38,
   "metadata": {
    "execution": {
     "iopub.execute_input": "2020-11-04T12:53:03.286091Z",
     "iopub.status.busy": "2020-11-04T12:53:03.279610Z",
     "iopub.status.idle": "2020-11-04T12:53:03.457360Z",
     "shell.execute_reply": "2020-11-04T12:53:03.457807Z"
    },
    "papermill": {
     "duration": 0.274841,
     "end_time": "2020-11-04T12:53:03.457944",
     "exception": false,
     "start_time": "2020-11-04T12:53:03.183103",
     "status": "completed"
    },
    "tags": []
   },
   "outputs": [
    {
     "data": {
      "image/png": "[encoded data removed]",
      "text/plain": [
       "<Figure size 432x288 with 1 Axes>"
      ]
     },
     "metadata": {
      "needs_background": "light"
     },
     "output_type": "display_data"
    }
   ],
   "source": [
    "count = 0\n",
    "for val in val_histories:\n",
    "    plt.plot(val, label = learning_rates[count])\n",
    "    plt.legend()\n",
    "    count += 1"
   ]
  },
  {
   "cell_type": "markdown",
   "metadata": {
    "papermill": {
     "duration": 0.089906,
     "end_time": "2020-11-04T12:53:03.649411",
     "exception": false,
     "start_time": "2020-11-04T12:53:03.559505",
     "status": "completed"
    },
    "tags": []
   },
   "source": [
    "To see any notable difference with changing learning rate hyperparameters, I tried different regularization strength. It was a good bet.\n",
    "We'll fix the best learning rate in our model and move further with other hyperparameters."
   ]
  },
  {
   "cell_type": "markdown",
   "metadata": {
    "papermill": {
     "duration": 0.09877,
     "end_time": "2020-11-04T12:53:03.839413",
     "exception": false,
     "start_time": "2020-11-04T12:53:03.740643",
     "status": "completed"
    },
    "tags": []
   },
   "source": [
    "#### Regularization strength."
   ]
  },
  {
   "cell_type": "code",
   "execution_count": 39,
   "metadata": {
    "execution": {
     "iopub.execute_input": "2020-11-04T12:53:04.028299Z",
     "iopub.status.busy": "2020-11-04T12:53:04.027427Z",
     "iopub.status.idle": "2020-11-04T12:54:15.826720Z",
     "shell.execute_reply": "2020-11-04T12:54:15.825872Z"
    },
    "papermill": {
     "duration": 71.896943,
     "end_time": "2020-11-04T12:54:15.826855",
     "exception": false,
     "start_time": "2020-11-04T12:53:03.929912",
     "status": "completed"
    },
    "tags": []
   },
   "outputs": [],
   "source": [
    "loss_histories = list()\n",
    "train_histories = list()\n",
    "val_histories = list()\n",
    "\n",
    "for rs in reg_strengths:\n",
    "    model = TwoLayerNet(n_input = train_X.shape[1], n_output = 10, hidden_layer_size = 32, reg = rs)\n",
    "    trainer = Trainer(model, dataset, SGD(), learning_rate=1e-1, learning_rate_decay=0.9,\n",
    "                     num_epochs=50, batch_size=32)\n",
    "    loss_history, train_history, val_history = trainer.fit(verbose=False)\n",
    "    loss_histories.append(loss_history)\n",
    "    train_histories.append(train_history)\n",
    "    val_histories.append(val_history)\n",
    "    "
   ]
  },
  {
   "cell_type": "code",
   "execution_count": 40,
   "metadata": {
    "execution": {
     "iopub.execute_input": "2020-11-04T12:54:16.039600Z",
     "iopub.status.busy": "2020-11-04T12:54:16.038287Z",
     "iopub.status.idle": "2020-11-04T12:54:16.244319Z",
     "shell.execute_reply": "2020-11-04T12:54:16.244907Z"
    },
    "papermill": {
     "duration": 0.317265,
     "end_time": "2020-11-04T12:54:16.245081",
     "exception": false,
     "start_time": "2020-11-04T12:54:15.927816",
     "status": "completed"
    },
    "tags": []
   },
   "outputs": [
    {
     "data": {
      "image/png": "[encoded data removed]",
      "text/plain": [
       "<Figure size 432x288 with 1 Axes>"
      ]
     },
     "metadata": {
      "needs_background": "light"
     },
     "output_type": "display_data"
    }
   ],
   "source": [
    "count = 0\n",
    "for val in val_histories:\n",
    "    plt.plot(val, label = reg_strengths[count])\n",
    "    plt.legend()\n",
    "    count += 1"
   ]
  },
  {
   "cell_type": "markdown",
   "metadata": {
    "papermill": {
     "duration": 0.093623,
     "end_time": "2020-11-04T12:54:16.445169",
     "exception": false,
     "start_time": "2020-11-04T12:54:16.351546",
     "status": "completed"
    },
    "tags": []
   },
   "source": [
    "As in previous step we choose the best hyperparameter we spotted. So our default model differs from initial in learning rate and regularization strength. We'll continue set up hyperparameters one by one."
   ]
  },
  {
   "cell_type": "markdown",
   "metadata": {
    "papermill": {
     "duration": 0.096236,
     "end_time": "2020-11-04T12:54:16.638246",
     "exception": false,
     "start_time": "2020-11-04T12:54:16.542010",
     "status": "completed"
    },
    "tags": []
   },
   "source": [
    "#### Learning rate decay."
   ]
  },
  {
   "cell_type": "code",
   "execution_count": 41,
   "metadata": {
    "execution": {
     "iopub.execute_input": "2020-11-04T12:54:16.840249Z",
     "iopub.status.busy": "2020-11-04T12:54:16.839229Z",
     "iopub.status.idle": "2020-11-04T12:55:14.738908Z",
     "shell.execute_reply": "2020-11-04T12:55:14.738380Z"
    },
    "papermill": {
     "duration": 58.00536,
     "end_time": "2020-11-04T12:55:14.739022",
     "exception": false,
     "start_time": "2020-11-04T12:54:16.733662",
     "status": "completed"
    },
    "tags": []
   },
   "outputs": [],
   "source": [
    "loss_histories = list()\n",
    "train_histories = list()\n",
    "val_histories = list()\n",
    "\n",
    "for lrd in learning_rate_decays:\n",
    "    model = TwoLayerNet(n_input = train_X.shape[1], n_output = 10, hidden_layer_size = 32, reg = 1e-4)\n",
    "    trainer = Trainer(model, dataset, SGD(), learning_rate=1e-1, learning_rate_decay=lrd,\n",
    "                     num_epochs=50, batch_size=32)\n",
    "    loss_history, train_history, val_history = trainer.fit(verbose=False)\n",
    "    loss_histories.append(loss_history)\n",
    "    train_histories.append(train_history)\n",
    "    val_histories.append(val_history)    "
   ]
  },
  {
   "cell_type": "code",
   "execution_count": 42,
   "metadata": {
    "execution": {
     "iopub.execute_input": "2020-11-04T12:55:14.945155Z",
     "iopub.status.busy": "2020-11-04T12:55:14.943974Z",
     "iopub.status.idle": "2020-11-04T12:55:15.127690Z",
     "shell.execute_reply": "2020-11-04T12:55:15.128236Z"
    },
    "papermill": {
     "duration": 0.291969,
     "end_time": "2020-11-04T12:55:15.128430",
     "exception": false,
     "start_time": "2020-11-04T12:55:14.836461",
     "status": "completed"
    },
    "tags": []
   },
   "outputs": [
    {
     "data": {
      "image/png": "[encoded data removed]",
      "text/plain": [
       "<Figure size 432x288 with 1 Axes>"
      ]
     },
     "metadata": {
      "needs_background": "light"
     },
     "output_type": "display_data"
    }
   ],
   "source": [
    "count = 0\n",
    "for val in val_histories:\n",
    "    plt.plot(val, label = learning_rate_decays[count])\n",
    "    plt.legend()\n",
    "    count += 1"
   ]
  },
  {
   "cell_type": "markdown",
   "metadata": {
    "papermill": {
     "duration": 0.098799,
     "end_time": "2020-11-04T12:55:15.334566",
     "exception": false,
     "start_time": "2020-11-04T12:55:15.235767",
     "status": "completed"
    },
    "tags": []
   },
   "source": [
    "#### Hidden layer size."
   ]
  },
  {
   "cell_type": "code",
   "execution_count": 43,
   "metadata": {
    "execution": {
     "iopub.execute_input": "2020-11-04T12:55:15.545602Z",
     "iopub.status.busy": "2020-11-04T12:55:15.544684Z",
     "iopub.status.idle": "2020-11-04T12:58:09.155733Z",
     "shell.execute_reply": "2020-11-04T12:58:09.154906Z"
    },
    "papermill": {
     "duration": 173.721959,
     "end_time": "2020-11-04T12:58:09.155888",
     "exception": false,
     "start_time": "2020-11-04T12:55:15.433929",
     "status": "completed"
    },
    "tags": []
   },
   "outputs": [],
   "source": [
    "loss_histories = list()\n",
    "train_histories = list()\n",
    "val_histories = list()\n",
    "\n",
    "for hls in hidden_layer_sizes:\n",
    "    model = TwoLayerNet(n_input = train_X.shape[1], n_output = 10, hidden_layer_size = hls, reg = 1e-4)\n",
    "    trainer = Trainer(model, dataset, SGD(), learning_rate=1e-1, learning_rate_decay=0.99,\n",
    "                     num_epochs=50, batch_size=32)\n",
    "    loss_history, train_history, val_history = trainer.fit(verbose=False)\n",
    "    loss_histories.append(loss_history)\n",
    "    train_histories.append(train_history)\n",
    "    val_histories.append(val_history)"
   ]
  },
  {
   "cell_type": "code",
   "execution_count": 44,
   "metadata": {
    "execution": {
     "iopub.execute_input": "2020-11-04T12:58:09.363412Z",
     "iopub.status.busy": "2020-11-04T12:58:09.362350Z",
     "iopub.status.idle": "2020-11-04T12:58:09.556334Z",
     "shell.execute_reply": "2020-11-04T12:58:09.556855Z"
    },
    "papermill": {
     "duration": 0.30027,
     "end_time": "2020-11-04T12:58:09.556994",
     "exception": false,
     "start_time": "2020-11-04T12:58:09.256724",
     "status": "completed"
    },
    "tags": []
   },
   "outputs": [
    {
     "data": {
      "image/png": "[encoded data removed]",
      "text/plain": [
       "<Figure size 432x288 with 1 Axes>"
      ]
     },
     "metadata": {
      "needs_background": "light"
     },
     "output_type": "display_data"
    }
   ],
   "source": [
    "count = 0\n",
    "for val in val_histories:\n",
    "    plt.plot(val, label = hidden_layer_sizes[count])\n",
    "    plt.legend()\n",
    "    count += 1"
   ]
  },
  {
   "cell_type": "markdown",
   "metadata": {
    "papermill": {
     "duration": 0.098774,
     "end_time": "2020-11-04T12:58:09.755125",
     "exception": false,
     "start_time": "2020-11-04T12:58:09.656351",
     "status": "completed"
    },
    "tags": []
   },
   "source": [
    "#### Number of epochs."
   ]
  },
  {
   "cell_type": "code",
   "execution_count": 45,
   "metadata": {
    "execution": {
     "iopub.execute_input": "2020-11-04T12:58:09.966066Z",
     "iopub.status.busy": "2020-11-04T12:58:09.965149Z",
     "iopub.status.idle": "2020-11-04T13:07:34.440766Z",
     "shell.execute_reply": "2020-11-04T13:07:34.439967Z"
    },
    "papermill": {
     "duration": 564.584802,
     "end_time": "2020-11-04T13:07:34.440928",
     "exception": false,
     "start_time": "2020-11-04T12:58:09.856126",
     "status": "completed"
    },
    "tags": []
   },
   "outputs": [],
   "source": [
    "loss_histories = list()\n",
    "train_histories = list()\n",
    "val_histories = list()\n",
    "\n",
    "for epoch in num_epochs:\n",
    "    model = TwoLayerNet(n_input = train_X.shape[1], n_output = 10, hidden_layer_size = 256, reg = 1e-4)\n",
    "    trainer = Trainer(model, dataset, SGD(), learning_rate=1e-1, learning_rate_decay=0.99,\n",
    "                     num_epochs=epoch, batch_size=32)\n",
    "    loss_history, train_history, val_history = trainer.fit(verbose=False)\n",
    "    loss_histories.append(loss_history)\n",
    "    train_histories.append(train_history)\n",
    "    val_histories.append(val_history)"
   ]
  },
  {
   "cell_type": "code",
   "execution_count": 46,
   "metadata": {
    "execution": {
     "iopub.execute_input": "2020-11-04T13:07:34.873352Z",
     "iopub.status.busy": "2020-11-04T13:07:34.872338Z",
     "iopub.status.idle": "2020-11-04T13:07:35.292458Z",
     "shell.execute_reply": "2020-11-04T13:07:35.293769Z"
    },
    "papermill": {
     "duration": 0.70229,
     "end_time": "2020-11-04T13:07:35.293976",
     "exception": false,
     "start_time": "2020-11-04T13:07:34.591686",
     "status": "completed"
    },
    "tags": []
   },
   "outputs": [
    {
     "data": {
      "image/png": "[encoded data removed]",
      "text/plain": [
       "<Figure size 432x288 with 1 Axes>"
      ]
     },
     "metadata": {
      "needs_background": "light"
     },
     "output_type": "display_data"
    }
   ],
   "source": [
    "count = 0\n",
    "for val in val_histories:\n",
    "    plt.plot(val, label = num_epochs[count])\n",
    "    plt.legend()\n",
    "    count += 1"
   ]
  },
  {
   "cell_type": "markdown",
   "metadata": {
    "papermill": {
     "duration": 0.099994,
     "end_time": "2020-11-04T13:07:35.534627",
     "exception": false,
     "start_time": "2020-11-04T13:07:35.434633",
     "status": "completed"
    },
    "tags": []
   },
   "source": [
    "#### Batch size."
   ]
  },
  {
   "cell_type": "code",
   "execution_count": 47,
   "metadata": {
    "execution": {
     "iopub.execute_input": "2020-11-04T13:07:35.747097Z",
     "iopub.status.busy": "2020-11-04T13:07:35.746297Z",
     "iopub.status.idle": "2020-11-04T13:19:45.391484Z",
     "shell.execute_reply": "2020-11-04T13:19:45.390494Z"
    },
    "papermill": {
     "duration": 729.753017,
     "end_time": "2020-11-04T13:19:45.391616",
     "exception": false,
     "start_time": "2020-11-04T13:07:35.638599",
     "status": "completed"
    },
    "tags": []
   },
   "outputs": [],
   "source": [
    "loss_histories = list()\n",
    "train_histories = list()\n",
    "val_histories = list()\n",
    "\n",
    "for bs in batch_sizes:\n",
    "    model = TwoLayerNet(n_input = train_X.shape[1], n_output = 10, hidden_layer_size = 256, reg = 1e-4)\n",
    "    trainer = Trainer(model, dataset, SGD(), learning_rate=1e-1, learning_rate_decay=0.99,\n",
    "                     num_epochs=200, batch_size=bs)\n",
    "    loss_history, train_history, val_history = trainer.fit(verbose=False)\n",
    "    loss_histories.append(loss_history)\n",
    "    train_histories.append(train_history)\n",
    "    val_histories.append(val_history)"
   ]
  },
  {
   "cell_type": "code",
   "execution_count": 48,
   "metadata": {
    "execution": {
     "iopub.execute_input": "2020-11-04T13:19:45.616163Z",
     "iopub.status.busy": "2020-11-04T13:19:45.606290Z",
     "iopub.status.idle": "2020-11-04T13:19:45.808408Z",
     "shell.execute_reply": "2020-11-04T13:19:45.808962Z"
    },
    "papermill": {
     "duration": 0.313687,
     "end_time": "2020-11-04T13:19:45.809122",
     "exception": false,
     "start_time": "2020-11-04T13:19:45.495435",
     "status": "completed"
    },
    "tags": []
   },
   "outputs": [
    {
     "data": {
      "image/png": "[encoded data removed]",
      "text/plain": [
       "<Figure size 432x288 with 1 Axes>"
      ]
     },
     "metadata": {
      "needs_background": "light"
     },
     "output_type": "display_data"
    }
   ],
   "source": [
    "count = 0\n",
    "for val in val_histories:\n",
    "    plt.plot(val, label = hidden_layer_sizes[count])\n",
    "    plt.legend()\n",
    "    count += 1"
   ]
  },
  {
   "cell_type": "markdown",
   "metadata": {
    "papermill": {
     "duration": 0.118241,
     "end_time": "2020-11-04T13:19:46.042809",
     "exception": false,
     "start_time": "2020-11-04T13:19:45.924568",
     "status": "completed"
    },
    "tags": []
   },
   "source": [
    "#### Optimizers."
   ]
  },
  {
   "cell_type": "code",
   "execution_count": 49,
   "metadata": {
    "execution": {
     "iopub.execute_input": "2020-11-04T13:19:46.279041Z",
     "iopub.status.busy": "2020-11-04T13:19:46.278168Z",
     "iopub.status.idle": "2020-11-04T13:30:55.766534Z",
     "shell.execute_reply": "2020-11-04T13:30:55.767663Z"
    },
    "papermill": {
     "duration": 669.612309,
     "end_time": "2020-11-04T13:30:55.767859",
     "exception": false,
     "start_time": "2020-11-04T13:19:46.155550",
     "status": "completed"
    },
    "tags": []
   },
   "outputs": [],
   "source": [
    "loss_histories = list()\n",
    "train_histories = list()\n",
    "val_histories = list()\n",
    "\n",
    "for opt in optimizers:\n",
    "    model = TwoLayerNet(n_input = train_X.shape[1], n_output = 10, hidden_layer_size = 256, reg = 1e-4)\n",
    "    trainer = Trainer(model, dataset, opt, learning_rate=1e-1, learning_rate_decay=0.99,\n",
    "                     num_epochs=200, batch_size=32)\n",
    "    loss_history, train_history, val_history = trainer.fit(verbose=False)\n",
    "    loss_histories.append(loss_history)\n",
    "    train_histories.append(train_history)\n",
    "    val_histories.append(val_history)"
   ]
  },
  {
   "cell_type": "code",
   "execution_count": 50,
   "metadata": {
    "execution": {
     "iopub.execute_input": "2020-11-04T13:30:56.072430Z",
     "iopub.status.busy": "2020-11-04T13:30:56.071143Z",
     "iopub.status.idle": "2020-11-04T13:30:56.321642Z",
     "shell.execute_reply": "2020-11-04T13:30:56.322238Z"
    },
    "papermill": {
     "duration": 0.411081,
     "end_time": "2020-11-04T13:30:56.322406",
     "exception": false,
     "start_time": "2020-11-04T13:30:55.911325",
     "status": "completed"
    },
    "tags": []
   },
   "outputs": [
    {
     "data": {
      "image/png": "[encoded data removed]",
      "text/plain": [
       "<Figure size 432x288 with 1 Axes>"
      ]
     },
     "metadata": {
      "needs_background": "light"
     },
     "output_type": "display_data"
    }
   ],
   "source": [
    "count = 0\n",
    "optimizers_names = [\"SGD\", \"MomentumSGD\"]\n",
    "for val in val_histories:\n",
    "    plt.plot(val, label = optimizers_names[count])\n",
    "    plt.legend()\n",
    "    count += 1"
   ]
  },
  {
   "cell_type": "markdown",
   "metadata": {
    "papermill": {
     "duration": 0.112557,
     "end_time": "2020-11-04T13:30:56.562314",
     "exception": false,
     "start_time": "2020-11-04T13:30:56.449757",
     "status": "completed"
    },
    "tags": []
   },
   "source": [
    "# The Best Model.\n",
    "\n",
    "    learning_rates = 1e-1\n",
    "    reg_strengths = 1e-4\n",
    "    learning_rate_decays = 0.99\n",
    "    hidden_layer_sizes = 256\n",
    "    num_epochs = 200\n",
    "    batch_sizes = 32\n",
    "    optimizers = SGD()"
   ]
  },
  {
   "cell_type": "code",
   "execution_count": 51,
   "metadata": {
    "execution": {
     "iopub.execute_input": "2020-11-04T13:30:56.793652Z",
     "iopub.status.busy": "2020-11-04T13:30:56.792632Z",
     "iopub.status.idle": "2020-11-04T13:37:03.799462Z",
     "shell.execute_reply": "2020-11-04T13:37:03.798687Z"
    },
    "papermill": {
     "duration": 367.125032,
     "end_time": "2020-11-04T13:37:03.799600",
     "exception": false,
     "start_time": "2020-11-04T13:30:56.674568",
     "status": "completed"
    },
    "tags": []
   },
   "outputs": [
    {
     "name": "stdout",
     "output_type": "stream",
     "text": [
      "Loss: 2.302925, Train accuracy: 0.103000, val accuracy: 0.117000\n",
      "Loss: 2.302433, Train accuracy: 0.103000, val accuracy: 0.117000\n",
      "Loss: 2.302471, Train accuracy: 0.103000, val accuracy: 0.117000\n",
      "Loss: 2.302856, Train accuracy: 0.104778, val accuracy: 0.118000\n",
      "Loss: 2.301647, Train accuracy: 0.156778, val accuracy: 0.149000\n",
      "Loss: 2.303077, Train accuracy: 0.185889, val accuracy: 0.187000\n",
      "Loss: 2.295882, Train accuracy: 0.198000, val accuracy: 0.192000\n",
      "Loss: 2.272270, Train accuracy: 0.204222, val accuracy: 0.184000\n",
      "Loss: 2.261643, Train accuracy: 0.194111, val accuracy: 0.177000\n",
      "Loss: 2.192751, Train accuracy: 0.210667, val accuracy: 0.196000\n",
      "Loss: 2.132047, Train accuracy: 0.252222, val accuracy: 0.236000\n",
      "Loss: 1.870568, Train accuracy: 0.283667, val accuracy: 0.269000\n",
      "Loss: 1.949317, Train accuracy: 0.318000, val accuracy: 0.307000\n",
      "Loss: 1.573458, Train accuracy: 0.385778, val accuracy: 0.368000\n",
      "Loss: 1.934355, Train accuracy: 0.435333, val accuracy: 0.416000\n",
      "Loss: 1.677940, Train accuracy: 0.477667, val accuracy: 0.455000\n",
      "Loss: 1.298065, Train accuracy: 0.512889, val accuracy: 0.495000\n",
      "Loss: 1.515803, Train accuracy: 0.539000, val accuracy: 0.520000\n",
      "Loss: 1.573008, Train accuracy: 0.563889, val accuracy: 0.543000\n",
      "Loss: 1.594889, Train accuracy: 0.574111, val accuracy: 0.553000\n",
      "Loss: 1.141400, Train accuracy: 0.593778, val accuracy: 0.572000\n",
      "Loss: 1.522612, Train accuracy: 0.602222, val accuracy: 0.587000\n",
      "Loss: 1.263598, Train accuracy: 0.620444, val accuracy: 0.610000\n",
      "Loss: 1.323836, Train accuracy: 0.632444, val accuracy: 0.615000\n",
      "Loss: 1.109128, Train accuracy: 0.644889, val accuracy: 0.625000\n",
      "Loss: 0.627750, Train accuracy: 0.654111, val accuracy: 0.636000\n",
      "Loss: 1.328758, Train accuracy: 0.662222, val accuracy: 0.645000\n",
      "Loss: 0.628757, Train accuracy: 0.671444, val accuracy: 0.658000\n",
      "Loss: 0.680726, Train accuracy: 0.678000, val accuracy: 0.659000\n",
      "Loss: 1.423301, Train accuracy: 0.687556, val accuracy: 0.669000\n",
      "Loss: 0.959128, Train accuracy: 0.691444, val accuracy: 0.673000\n",
      "Loss: 0.879077, Train accuracy: 0.701556, val accuracy: 0.681000\n",
      "Loss: 0.839674, Train accuracy: 0.702556, val accuracy: 0.687000\n",
      "Loss: 0.923481, Train accuracy: 0.706556, val accuracy: 0.686000\n",
      "Loss: 0.677634, Train accuracy: 0.709111, val accuracy: 0.684000\n",
      "Loss: 2.092964, Train accuracy: 0.717556, val accuracy: 0.684000\n",
      "Loss: 1.196009, Train accuracy: 0.724556, val accuracy: 0.706000\n",
      "Loss: 1.127323, Train accuracy: 0.725667, val accuracy: 0.708000\n",
      "Loss: 1.676361, Train accuracy: 0.731778, val accuracy: 0.706000\n",
      "Loss: 0.393354, Train accuracy: 0.737444, val accuracy: 0.713000\n",
      "Loss: 0.607789, Train accuracy: 0.741111, val accuracy: 0.707000\n",
      "Loss: 1.295075, Train accuracy: 0.741889, val accuracy: 0.714000\n",
      "Loss: 1.717408, Train accuracy: 0.747000, val accuracy: 0.718000\n",
      "Loss: 0.590559, Train accuracy: 0.744444, val accuracy: 0.710000\n",
      "Loss: 0.800547, Train accuracy: 0.752667, val accuracy: 0.715000\n",
      "Loss: 1.224716, Train accuracy: 0.757778, val accuracy: 0.719000\n",
      "Loss: 0.970831, Train accuracy: 0.761667, val accuracy: 0.725000\n",
      "Loss: 0.689022, Train accuracy: 0.761444, val accuracy: 0.721000\n",
      "Loss: 1.197013, Train accuracy: 0.770333, val accuracy: 0.728000\n",
      "Loss: 0.835390, Train accuracy: 0.768556, val accuracy: 0.723000\n",
      "Loss: 0.418876, Train accuracy: 0.772333, val accuracy: 0.725000\n",
      "Loss: 0.242736, Train accuracy: 0.776667, val accuracy: 0.729000\n",
      "Loss: 0.847310, Train accuracy: 0.778444, val accuracy: 0.726000\n",
      "Loss: 0.376650, Train accuracy: 0.779556, val accuracy: 0.729000\n",
      "Loss: 0.965150, Train accuracy: 0.782889, val accuracy: 0.735000\n",
      "Loss: 0.911635, Train accuracy: 0.786000, val accuracy: 0.732000\n",
      "Loss: 1.350129, Train accuracy: 0.789889, val accuracy: 0.737000\n",
      "Loss: 0.542998, Train accuracy: 0.788556, val accuracy: 0.732000\n",
      "Loss: 1.037899, Train accuracy: 0.791778, val accuracy: 0.738000\n",
      "Loss: 0.873436, Train accuracy: 0.796111, val accuracy: 0.739000\n",
      "Loss: 0.970743, Train accuracy: 0.795667, val accuracy: 0.739000\n",
      "Loss: 0.906950, Train accuracy: 0.799778, val accuracy: 0.743000\n",
      "Loss: 0.536334, Train accuracy: 0.800889, val accuracy: 0.744000\n",
      "Loss: 0.885627, Train accuracy: 0.805667, val accuracy: 0.742000\n",
      "Loss: 1.012908, Train accuracy: 0.807000, val accuracy: 0.740000\n",
      "Loss: 1.116179, Train accuracy: 0.808444, val accuracy: 0.745000\n",
      "Loss: 0.398470, Train accuracy: 0.813333, val accuracy: 0.750000\n",
      "Loss: 1.162643, Train accuracy: 0.813556, val accuracy: 0.742000\n",
      "Loss: 0.550077, Train accuracy: 0.813778, val accuracy: 0.746000\n",
      "Loss: 0.086663, Train accuracy: 0.818778, val accuracy: 0.748000\n",
      "Loss: 0.570626, Train accuracy: 0.819556, val accuracy: 0.744000\n",
      "Loss: 0.491954, Train accuracy: 0.821889, val accuracy: 0.748000\n",
      "Loss: 0.751749, Train accuracy: 0.823778, val accuracy: 0.753000\n",
      "Loss: 0.887990, Train accuracy: 0.826111, val accuracy: 0.751000\n",
      "Loss: 0.389373, Train accuracy: 0.826111, val accuracy: 0.752000\n",
      "Loss: 0.452035, Train accuracy: 0.828000, val accuracy: 0.754000\n",
      "Loss: 1.122097, Train accuracy: 0.832222, val accuracy: 0.755000\n",
      "Loss: 0.261697, Train accuracy: 0.833111, val accuracy: 0.758000\n",
      "Loss: 1.451855, Train accuracy: 0.834000, val accuracy: 0.753000\n",
      "Loss: 0.390627, Train accuracy: 0.835333, val accuracy: 0.757000\n",
      "Loss: 0.743566, Train accuracy: 0.835444, val accuracy: 0.759000\n",
      "Loss: 0.682687, Train accuracy: 0.839778, val accuracy: 0.756000\n",
      "Loss: 0.744862, Train accuracy: 0.841222, val accuracy: 0.757000\n",
      "Loss: 0.585494, Train accuracy: 0.838667, val accuracy: 0.756000\n",
      "Loss: 0.460354, Train accuracy: 0.844111, val accuracy: 0.760000\n",
      "Loss: 0.914137, Train accuracy: 0.843000, val accuracy: 0.759000\n",
      "Loss: 0.952545, Train accuracy: 0.844889, val accuracy: 0.767000\n",
      "Loss: 0.709450, Train accuracy: 0.845333, val accuracy: 0.755000\n",
      "Loss: 0.802362, Train accuracy: 0.845778, val accuracy: 0.759000\n",
      "Loss: 0.368686, Train accuracy: 0.849333, val accuracy: 0.760000\n",
      "Loss: 0.877965, Train accuracy: 0.849556, val accuracy: 0.762000\n",
      "Loss: 0.867537, Train accuracy: 0.851111, val accuracy: 0.765000\n",
      "Loss: 0.773522, Train accuracy: 0.852111, val accuracy: 0.762000\n",
      "Loss: 0.709696, Train accuracy: 0.856333, val accuracy: 0.763000\n",
      "Loss: 0.531475, Train accuracy: 0.854444, val accuracy: 0.760000\n",
      "Loss: 0.205950, Train accuracy: 0.856000, val accuracy: 0.765000\n",
      "Loss: 0.353271, Train accuracy: 0.857222, val accuracy: 0.767000\n",
      "Loss: 0.877520, Train accuracy: 0.859444, val accuracy: 0.762000\n",
      "Loss: 0.728279, Train accuracy: 0.860111, val accuracy: 0.767000\n",
      "Loss: 0.608374, Train accuracy: 0.859556, val accuracy: 0.762000\n",
      "Loss: 0.262656, Train accuracy: 0.863000, val accuracy: 0.768000\n",
      "Loss: 0.315675, Train accuracy: 0.862000, val accuracy: 0.766000\n",
      "Loss: 1.103567, Train accuracy: 0.865444, val accuracy: 0.770000\n",
      "Loss: 0.718546, Train accuracy: 0.864222, val accuracy: 0.765000\n",
      "Loss: 0.982152, Train accuracy: 0.866556, val accuracy: 0.767000\n",
      "Loss: 0.230275, Train accuracy: 0.867222, val accuracy: 0.767000\n",
      "Loss: 0.485700, Train accuracy: 0.869889, val accuracy: 0.769000\n",
      "Loss: 0.698261, Train accuracy: 0.870333, val accuracy: 0.763000\n",
      "Loss: 0.384580, Train accuracy: 0.871222, val accuracy: 0.764000\n",
      "Loss: 1.141934, Train accuracy: 0.871222, val accuracy: 0.769000\n",
      "Loss: 0.727984, Train accuracy: 0.872444, val accuracy: 0.775000\n",
      "Loss: 0.783709, Train accuracy: 0.871778, val accuracy: 0.769000\n",
      "Loss: 0.378975, Train accuracy: 0.871333, val accuracy: 0.772000\n",
      "Loss: 0.482754, Train accuracy: 0.874778, val accuracy: 0.769000\n",
      "Loss: 0.800635, Train accuracy: 0.873000, val accuracy: 0.769000\n",
      "Loss: 0.610598, Train accuracy: 0.877222, val accuracy: 0.769000\n",
      "Loss: 1.450635, Train accuracy: 0.877000, val accuracy: 0.777000\n",
      "Loss: 0.511228, Train accuracy: 0.876444, val accuracy: 0.767000\n",
      "Loss: 0.816010, Train accuracy: 0.878889, val accuracy: 0.770000\n",
      "Loss: 1.133921, Train accuracy: 0.879778, val accuracy: 0.770000\n",
      "Loss: 0.502610, Train accuracy: 0.877889, val accuracy: 0.775000\n",
      "Loss: 0.508725, Train accuracy: 0.878333, val accuracy: 0.772000\n",
      "Loss: 0.179065, Train accuracy: 0.877667, val accuracy: 0.770000\n",
      "Loss: 0.540574, Train accuracy: 0.879889, val accuracy: 0.774000\n",
      "Loss: 0.213605, Train accuracy: 0.881889, val accuracy: 0.775000\n",
      "Loss: 0.502742, Train accuracy: 0.882444, val accuracy: 0.770000\n",
      "Loss: 0.617210, Train accuracy: 0.883222, val accuracy: 0.773000\n",
      "Loss: 0.857105, Train accuracy: 0.882333, val accuracy: 0.768000\n",
      "Loss: 1.012373, Train accuracy: 0.882000, val accuracy: 0.771000\n",
      "Loss: 0.389420, Train accuracy: 0.886556, val accuracy: 0.771000\n",
      "Loss: 0.208584, Train accuracy: 0.885333, val accuracy: 0.777000\n",
      "Loss: 0.265489, Train accuracy: 0.885222, val accuracy: 0.774000\n",
      "Loss: 0.864445, Train accuracy: 0.888333, val accuracy: 0.774000\n",
      "Loss: 0.151592, Train accuracy: 0.888000, val accuracy: 0.773000\n",
      "Loss: 0.409280, Train accuracy: 0.887222, val accuracy: 0.774000\n",
      "Loss: 0.215226, Train accuracy: 0.887889, val accuracy: 0.776000\n",
      "Loss: 1.085755, Train accuracy: 0.888222, val accuracy: 0.773000\n",
      "Loss: 1.016604, Train accuracy: 0.887444, val accuracy: 0.777000\n",
      "Loss: 0.420059, Train accuracy: 0.891222, val accuracy: 0.775000\n",
      "Loss: 0.557556, Train accuracy: 0.890667, val accuracy: 0.780000\n",
      "Loss: 0.118604, Train accuracy: 0.892556, val accuracy: 0.777000\n",
      "Loss: 0.794344, Train accuracy: 0.888778, val accuracy: 0.771000\n",
      "Loss: 0.710774, Train accuracy: 0.893556, val accuracy: 0.777000\n",
      "Loss: 0.482490, Train accuracy: 0.893667, val accuracy: 0.781000\n",
      "Loss: 0.255728, Train accuracy: 0.894556, val accuracy: 0.780000\n",
      "Loss: 0.371205, Train accuracy: 0.892778, val accuracy: 0.778000\n",
      "Loss: 0.413250, Train accuracy: 0.894444, val accuracy: 0.776000\n",
      "Loss: 1.186824, Train accuracy: 0.895222, val accuracy: 0.777000\n",
      "Loss: 0.578218, Train accuracy: 0.896000, val accuracy: 0.777000\n",
      "Loss: 0.408532, Train accuracy: 0.896556, val accuracy: 0.779000\n",
      "Loss: 0.206906, Train accuracy: 0.897889, val accuracy: 0.778000\n",
      "Loss: 0.468629, Train accuracy: 0.898000, val accuracy: 0.778000\n",
      "Loss: 0.606895, Train accuracy: 0.896333, val accuracy: 0.779000\n",
      "Loss: 0.201659, Train accuracy: 0.897778, val accuracy: 0.780000\n",
      "Loss: 0.213144, Train accuracy: 0.896889, val accuracy: 0.777000\n",
      "Loss: 0.607713, Train accuracy: 0.898778, val accuracy: 0.775000\n",
      "Loss: 0.935502, Train accuracy: 0.898889, val accuracy: 0.780000\n",
      "Loss: 0.193733, Train accuracy: 0.900667, val accuracy: 0.778000\n",
      "Loss: 0.224010, Train accuracy: 0.900444, val accuracy: 0.777000\n",
      "Loss: 0.437703, Train accuracy: 0.900111, val accuracy: 0.781000\n",
      "Loss: 0.375757, Train accuracy: 0.900556, val accuracy: 0.778000\n",
      "Loss: 0.454699, Train accuracy: 0.900444, val accuracy: 0.781000\n",
      "Loss: 0.883061, Train accuracy: 0.902000, val accuracy: 0.775000\n",
      "Loss: 0.409309, Train accuracy: 0.901667, val accuracy: 0.779000\n",
      "Loss: 0.185830, Train accuracy: 0.900889, val accuracy: 0.773000\n",
      "Loss: 0.814386, Train accuracy: 0.902000, val accuracy: 0.779000\n",
      "Loss: 0.759262, Train accuracy: 0.900778, val accuracy: 0.783000\n",
      "Loss: 0.399670, Train accuracy: 0.902444, val accuracy: 0.781000\n",
      "Loss: 0.578856, Train accuracy: 0.903556, val accuracy: 0.781000\n",
      "Loss: 0.866879, Train accuracy: 0.903333, val accuracy: 0.781000\n",
      "Loss: 0.682239, Train accuracy: 0.904444, val accuracy: 0.780000\n",
      "Loss: 0.515981, Train accuracy: 0.905222, val accuracy: 0.780000\n",
      "Loss: 0.557717, Train accuracy: 0.904889, val accuracy: 0.781000\n",
      "Loss: 0.661125, Train accuracy: 0.904222, val accuracy: 0.780000\n",
      "Loss: 0.342414, Train accuracy: 0.905778, val accuracy: 0.782000\n",
      "Loss: 0.709058, Train accuracy: 0.905667, val accuracy: 0.781000\n",
      "Loss: 0.657025, Train accuracy: 0.905222, val accuracy: 0.784000\n",
      "Loss: 0.683734, Train accuracy: 0.906333, val accuracy: 0.780000\n",
      "Loss: 0.280304, Train accuracy: 0.907000, val accuracy: 0.783000\n",
      "Loss: 0.373950, Train accuracy: 0.905889, val accuracy: 0.780000\n",
      "Loss: 0.181313, Train accuracy: 0.906889, val accuracy: 0.783000\n",
      "Loss: 0.367238, Train accuracy: 0.907333, val accuracy: 0.781000\n",
      "Loss: 0.590595, Train accuracy: 0.907667, val accuracy: 0.784000\n",
      "Loss: 0.272959, Train accuracy: 0.908778, val accuracy: 0.782000\n",
      "Loss: 0.522278, Train accuracy: 0.908444, val accuracy: 0.782000\n",
      "Loss: 0.253768, Train accuracy: 0.908889, val accuracy: 0.782000\n",
      "Loss: 0.318163, Train accuracy: 0.908444, val accuracy: 0.782000\n",
      "Loss: 0.196293, Train accuracy: 0.908000, val accuracy: 0.784000\n",
      "Loss: 0.332653, Train accuracy: 0.909556, val accuracy: 0.786000\n",
      "Loss: 0.513647, Train accuracy: 0.910667, val accuracy: 0.784000\n",
      "Loss: 0.327457, Train accuracy: 0.909556, val accuracy: 0.787000\n",
      "Loss: 0.913869, Train accuracy: 0.910333, val accuracy: 0.789000\n",
      "Loss: 0.661016, Train accuracy: 0.910444, val accuracy: 0.784000\n",
      "Loss: 0.200532, Train accuracy: 0.910667, val accuracy: 0.788000\n",
      "Loss: 0.576582, Train accuracy: 0.910556, val accuracy: 0.788000\n",
      "Loss: 0.317994, Train accuracy: 0.911556, val accuracy: 0.785000\n",
      "Loss: 0.504632, Train accuracy: 0.909667, val accuracy: 0.783000\n",
      "Loss: 0.494756, Train accuracy: 0.911444, val accuracy: 0.786000\n",
      "Loss: 0.849623, Train accuracy: 0.912222, val accuracy: 0.791000\n",
      "Loss: 0.487236, Train accuracy: 0.913333, val accuracy: 0.787000\n"
     ]
    }
   ],
   "source": [
    "best_classifier = TwoLayerNet(n_input = train_X.shape[1], n_output = 10, \n",
    "                              hidden_layer_size = 256, reg = 1e-4)\n",
    "trainer = Trainer(best_classifier, dataset, MomentumSGD(), learning_rate=1e-1,\n",
    "                  learning_rate_decay=0.99, num_epochs=200, batch_size=32)\n",
    "loss_history, train_history, val_history = trainer.fit()"
   ]
  },
  {
   "cell_type": "code",
   "execution_count": 52,
   "metadata": {
    "execution": {
     "iopub.execute_input": "2020-11-04T13:37:04.170705Z",
     "iopub.status.busy": "2020-11-04T13:37:04.169642Z",
     "iopub.status.idle": "2020-11-04T13:37:04.446102Z",
     "shell.execute_reply": "2020-11-04T13:37:04.444752Z"
    },
    "papermill": {
     "duration": 0.47417,
     "end_time": "2020-11-04T13:37:04.446281",
     "exception": false,
     "start_time": "2020-11-04T13:37:03.972111",
     "status": "completed"
    },
    "tags": []
   },
   "outputs": [
    {
     "data": {
      "text/plain": [
       "[<matplotlib.lines.Line2D at 0x7f1391eea350>]"
      ]
     },
     "execution_count": 52,
     "metadata": {},
     "output_type": "execute_result"
    },
    {
     "data": {
      "image/png": "[encoded data removed]",
      "text/plain": [
       "<Figure size 432x288 with 1 Axes>"
      ]
     },
     "metadata": {
      "needs_background": "light"
     },
     "output_type": "display_data"
    }
   ],
   "source": [
    "plt.plot(train_history)\n",
    "plt.plot(val_history)"
   ]
  },
  {
   "cell_type": "markdown",
   "metadata": {
    "papermill": {
     "duration": 0.266224,
     "end_time": "2020-11-04T13:37:05.038488",
     "exception": false,
     "start_time": "2020-11-04T13:37:04.772264",
     "status": "completed"
    },
    "tags": []
   },
   "source": [
    "# Let's look how our best model behaves on test data."
   ]
  },
  {
   "cell_type": "code",
   "execution_count": 53,
   "metadata": {
    "execution": {
     "iopub.execute_input": "2020-11-04T13:37:05.560408Z",
     "iopub.status.busy": "2020-11-04T13:37:05.558853Z",
     "iopub.status.idle": "2020-11-04T13:37:05.580820Z",
     "shell.execute_reply": "2020-11-04T13:37:05.581376Z"
    },
    "papermill": {
     "duration": 0.258314,
     "end_time": "2020-11-04T13:37:05.581528",
     "exception": false,
     "start_time": "2020-11-04T13:37:05.323214",
     "status": "completed"
    },
    "tags": []
   },
   "outputs": [
    {
     "name": "stdout",
     "output_type": "stream",
     "text": [
      "Neural net test set accuracy: 0.785000\n"
     ]
    }
   ],
   "source": [
    "test_pred = best_classifier.predict(test_X)\n",
    "test_accuracy = multiclass_accuracy(test_pred, test_y)\n",
    "print('Neural net test set accuracy: %f' % (test_accuracy, ))"
   ]
  }
 ],
 "metadata": {
  "kernelspec": {
   "display_name": "Python 3",
   "language": "python",
   "name": "python3"
  },
  "language_info": {
   "codemirror_mode": {
    "name": "ipython",
    "version": 3
   },
   "file_extension": ".py",
   "mimetype": "text/x-python",
   "name": "python",
   "nbconvert_exporter": "python",
   "pygments_lexer": "ipython3",
   "version": "3.7.6"
  },
  "papermill": {
   "duration": 2804.481184,
   "end_time": "2020-11-04T13:37:05.870006",
   "environment_variables": {},
   "exception": null,
   "input_path": "__notebook__.ipynb",
   "output_path": "__notebook__.ipynb",
   "parameters": {},
   "start_time": "2020-11-04T12:50:21.388822",
   "version": "2.1.0"
  }
 },
 "nbformat": 4,
 "nbformat_minor": 4
}
