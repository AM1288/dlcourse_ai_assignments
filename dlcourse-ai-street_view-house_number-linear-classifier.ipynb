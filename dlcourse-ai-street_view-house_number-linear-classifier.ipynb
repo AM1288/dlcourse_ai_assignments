{
 "cells": [
  {
   "cell_type": "code",
   "execution_count": 1,
   "metadata": {
    "_cell_guid": "b1076dfc-b9ad-4769-8c92-a6c4dae69d19",
    "_uuid": "8f2839f25d086af736a60e9eeb907d3b93b6e0e5",
    "execution": {
     "iopub.execute_input": "2020-10-18T08:56:53.671573Z",
     "iopub.status.busy": "2020-10-18T08:56:53.670731Z",
     "iopub.status.idle": "2020-10-18T08:56:53.679287Z",
     "shell.execute_reply": "2020-10-18T08:56:53.678490Z"
    },
    "papermill": {
     "duration": 0.054287,
     "end_time": "2020-10-18T08:56:53.679481",
     "exception": false,
     "start_time": "2020-10-18T08:56:53.625194",
     "status": "completed"
    },
    "tags": []
   },
   "outputs": [
    {
     "name": "stdout",
     "output_type": "stream",
     "text": [
      "/kaggle/input/street-view-house-nos-h5-file/SVHN_single_grey1.h5\n"
     ]
    }
   ],
   "source": [
    "# This Python 3 environment comes with many helpful analytics libraries installed\n",
    "# It is defined by the kaggle/python Docker image: https://github.com/kaggle/docker-python\n",
    "# For example, here's several helpful packages to load\n",
    "\n",
    "import numpy as np # linear algebra\n",
    "import pandas as pd # data processing, CSV file I/O (e.g. pd.read_csv)\n",
    "\n",
    "# Input data files are available in the read-only \"../input/\" directory\n",
    "# For example, running this (by clicking run or pressing Shift+Enter) will list all files under the input directory\n",
    "\n",
    "import os\n",
    "for dirname, _, filenames in os.walk('/kaggle/input'):\n",
    "    for filename in filenames:\n",
    "        print(os.path.join(dirname, filename))\n",
    "\n",
    "# You can write up to 5GB to the current directory (/kaggle/working/) that gets preserved as output when you create a version using \"Save & Run All\" \n",
    "# You can also write temporary files to /kaggle/temp/, but they won't be saved outside of the current session"
   ]
  },
  {
   "cell_type": "markdown",
   "metadata": {
    "papermill": {
     "duration": 0.035229,
     "end_time": "2020-10-18T08:56:53.751152",
     "exception": false,
     "start_time": "2020-10-18T08:56:53.715923",
     "status": "completed"
    },
    "tags": []
   },
   "source": [
    "## Let's load the data into the dictionary."
   ]
  },
  {
   "cell_type": "code",
   "execution_count": 2,
   "metadata": {
    "_cell_guid": "79c7e3d0-c299-4dcb-8224-4455121ee9b0",
    "_uuid": "d629ff2d2480ee46fbb7e2d37f6b5fab8052498a",
    "execution": {
     "iopub.execute_input": "2020-10-18T08:56:53.828390Z",
     "iopub.status.busy": "2020-10-18T08:56:53.827599Z",
     "iopub.status.idle": "2020-10-18T08:56:55.512709Z",
     "shell.execute_reply": "2020-10-18T08:56:55.511914Z"
    },
    "papermill": {
     "duration": 1.726712,
     "end_time": "2020-10-18T08:56:55.512847",
     "exception": false,
     "start_time": "2020-10-18T08:56:53.786135",
     "status": "completed"
    },
    "tags": []
   },
   "outputs": [
    {
     "name": "stderr",
     "output_type": "stream",
     "text": [
      "/opt/conda/lib/python3.7/site-packages/ipykernel_launcher.py:4: H5pyDeprecationWarning: The default file mode will change to 'r' (read-only) in h5py 3.0. To suppress this warning, pass the mode you need to h5py.File(), or set the global default h5.get_config().default_file_mode, or set the environment variable H5PY_DEFAULT_READONLY=1. Available modes are: 'r', 'r+', 'w', 'w-'/'x', 'a'. See the docs for details.\n",
      "  after removing the cwd from sys.path.\n"
     ]
    },
    {
     "data": {
      "text/plain": [
       "dict_keys(['X_test', 'X_train', 'X_val', 'y_test', 'y_train', 'y_val'])"
      ]
     },
     "execution_count": 2,
     "metadata": {},
     "output_type": "execute_result"
    }
   ],
   "source": [
    "import h5py\n",
    "filepath = '/kaggle/input/street-view-house-nos-h5-file/SVHN_single_grey1.h5'\n",
    "data = {}\n",
    "f = h5py.File(filepath)\n",
    "for k, v in f.items():\n",
    "    data[k] = np.array(v)\n",
    "data.keys()"
   ]
  },
  {
   "cell_type": "code",
   "execution_count": 3,
   "metadata": {
    "execution": {
     "iopub.execute_input": "2020-10-18T08:56:55.595695Z",
     "iopub.status.busy": "2020-10-18T08:56:55.594870Z",
     "iopub.status.idle": "2020-10-18T08:56:55.621868Z",
     "shell.execute_reply": "2020-10-18T08:56:55.620991Z"
    },
    "papermill": {
     "duration": 0.072781,
     "end_time": "2020-10-18T08:56:55.622000",
     "exception": false,
     "start_time": "2020-10-18T08:56:55.549219",
     "status": "completed"
    },
    "tags": []
   },
   "outputs": [],
   "source": [
    "def return_random_indices(data, max_samples=10000, seed = 10):\n",
    "    np.random.seed(seed)\n",
    "    indices = np.random.choice(np.arange(data.shape[0]),\n",
    "                               max_samples,\n",
    "                               replace=False)\n",
    "    return indices\n",
    "\n",
    "\n",
    "train_X = data[\"X_train\"][return_random_indices(data[\"X_train\"])]\n",
    "train_y = data[\"y_train\"][return_random_indices(data[\"y_train\"])]\n",
    "test_X = data[\"X_test\"][return_random_indices(data[\"X_test\"], 1000)]\n",
    "test_y = data[\"y_test\"][return_random_indices(data[\"y_test\"], 1000)]\n",
    "test_y[test_y == 10] = 0"
   ]
  },
  {
   "cell_type": "code",
   "execution_count": 4,
   "metadata": {
    "execution": {
     "iopub.execute_input": "2020-10-18T08:56:55.704247Z",
     "iopub.status.busy": "2020-10-18T08:56:55.703169Z",
     "iopub.status.idle": "2020-10-18T08:56:55.707552Z",
     "shell.execute_reply": "2020-10-18T08:56:55.708132Z"
    },
    "papermill": {
     "duration": 0.050072,
     "end_time": "2020-10-18T08:56:55.708297",
     "exception": false,
     "start_time": "2020-10-18T08:56:55.658225",
     "status": "completed"
    },
    "tags": []
   },
   "outputs": [
    {
     "data": {
      "text/plain": [
       "(array([[125.0602, 126.0601, 126.946 , ..., 139.0111, 131.1259, 195.3951],\n",
       "        [118.1641, 117.6803, 116.9685, ..., 138.837 , 130.9518, 195.808 ],\n",
       "        [111.2402, 109.7565, 108.9307, ..., 139.065 , 131.0658, 195.808 ],\n",
       "        ...,\n",
       "        [ 98.0691, 103.0255, 110.5687, ..., 127.7519, 124.9802, 194.178 ],\n",
       "        [108.2099, 114.2802, 121.3504, ..., 131.9364, 128.7518, 196.0638],\n",
       "        [116.2199, 119.8066, 122.3503, ..., 134.0502, 130.2355, 196.3627]],\n",
       "       dtype=float32),\n",
       " array([8, 7, 1, 3, 3, 5, 3, 9, 5, 3], dtype=uint8),\n",
       " array([[133.0173, 132.0174, 133.9032, ..., 121.9968, 122.9967, 124.2246],\n",
       "        [129.5446, 128.5447, 131.0175, ..., 123.1107, 123.2247, 123.3387],\n",
       "        [120.6595, 120.3606, 124.3602, ..., 119.2251, 119.3391, 119.752 ],\n",
       "        ...,\n",
       "        [ 98.8358, 101.8355, 110.8346, ...,  96.0857,  95.0858,  95.1998],\n",
       "        [122.7194, 122.7194, 128.6048, ..., 110.9702, 109.9703, 110.9702],\n",
       "        [145.7171, 143.1904, 144.0763, ..., 124.7408, 123.7409, 123.9689]],\n",
       "       dtype=float32),\n",
       " array([5, 6, 1, 6, 4, 8, 9, 6, 7, 1], dtype=uint8))"
      ]
     },
     "execution_count": 4,
     "metadata": {},
     "output_type": "execute_result"
    }
   ],
   "source": [
    "train_X[0], train_y[:10], test_X[0], test_y[: 10]"
   ]
  },
  {
   "cell_type": "markdown",
   "metadata": {
    "papermill": {
     "duration": 0.037113,
     "end_time": "2020-10-18T08:56:55.782284",
     "exception": false,
     "start_time": "2020-10-18T08:56:55.745171",
     "status": "completed"
    },
    "tags": []
   },
   "source": [
    "## Data preparation for linear classifier."
   ]
  },
  {
   "cell_type": "code",
   "execution_count": 5,
   "metadata": {
    "execution": {
     "iopub.execute_input": "2020-10-18T08:56:55.867245Z",
     "iopub.status.busy": "2020-10-18T08:56:55.866179Z",
     "iopub.status.idle": "2020-10-18T08:56:55.869356Z",
     "shell.execute_reply": "2020-10-18T08:56:55.869903Z"
    },
    "papermill": {
     "duration": 0.050831,
     "end_time": "2020-10-18T08:56:55.870074",
     "exception": false,
     "start_time": "2020-10-18T08:56:55.819243",
     "status": "completed"
    },
    "tags": []
   },
   "outputs": [],
   "source": [
    "def data_preparation(train_X, test_X):\n",
    "    train_flat = train_X.reshape(train_X.shape[0], -1).astype(np.float) / 255.0\n",
    "    test_flat = test_X.reshape(test_X.shape[0], -1).astype(np.float) / 255.0\n",
    "    \n",
    "    # Subtract mean\n",
    "    mean_image = np.mean(train_flat, axis = 0)\n",
    "    train_flat -= mean_image\n",
    "    test_flat -= mean_image\n",
    "    \n",
    "    # Add another channel with ones as a bias term\n",
    "    train_flat_with_ones = np.hstack([train_flat, np.ones((train_X.shape[0], 1))])\n",
    "    test_flat_with_ones = np.hstack([test_flat, np.ones((test_X.shape[0], 1))])    \n",
    "    return train_flat_with_ones, test_flat_with_ones"
   ]
  },
  {
   "cell_type": "markdown",
   "metadata": {
    "papermill": {
     "duration": 0.036661,
     "end_time": "2020-10-18T08:56:55.943665",
     "exception": false,
     "start_time": "2020-10-18T08:56:55.907004",
     "status": "completed"
    },
    "tags": []
   },
   "source": [
    "## Why do we subtract means?\n",
    "\n",
    ">Subtracting the dataset mean serves to \"center\" the data. Additionally, you ideally would like to divide by the sttdev of that feature or pixel as well if you want to normalize each feature value to a z-score.\n",
    "\n",
    ">The reason we do both of those things is because in the process of training our network, we're going to be multiplying (weights) and adding to (biases) these initial inputs in order to cause activations that we then backpropogate with the gradients to train the model.\n",
    "\n",
    ">We'd like in this process for each feature to have a similar range so that our gradients don't go out of control (and that we only need one global learning rate multiplier).\n",
    "\n",
    ">Another way you can think about it is deep learning networks traditionally share many parameters - if you didn't scale your inputs in a way that resulted in similarly-ranged feature values (ie: over the whole dataset by subtracting mean) sharing wouldn't happen very easily because to one part of the image weight w is a lot and to another it's too small.\n",
    "**[Source](https://stats.stackexchange.com/questions/211436/why-normalize-images-by-subtracting-datasets-image-mean-instead-of-the-current#:~:text=5%20Answers&text=Subtracting%20the%20dataset%20mean%20serves,value%20to%20a%20z%2Dscore.)"
   ]
  },
  {
   "cell_type": "code",
   "execution_count": 6,
   "metadata": {
    "execution": {
     "iopub.execute_input": "2020-10-18T08:56:56.024113Z",
     "iopub.status.busy": "2020-10-18T08:56:56.023256Z",
     "iopub.status.idle": "2020-10-18T08:56:56.121640Z",
     "shell.execute_reply": "2020-10-18T08:56:56.120985Z"
    },
    "papermill": {
     "duration": 0.141273,
     "end_time": "2020-10-18T08:56:56.121778",
     "exception": false,
     "start_time": "2020-10-18T08:56:55.980505",
     "status": "completed"
    },
    "tags": []
   },
   "outputs": [
    {
     "data": {
      "text/plain": [
       "(array([0.03989474, 0.0436459 , 0.04685752, ..., 0.06198489, 0.32023929,\n",
       "        1.        ]),\n",
       " array([-0.07499233, -0.06787566, -0.07406522, ..., -0.01374571,\n",
       "        -0.00554543,  1.        ]),\n",
       " (10000, 1025))"
      ]
     },
     "execution_count": 6,
     "metadata": {},
     "output_type": "execute_result"
    }
   ],
   "source": [
    "train_X, test_X = data_preparation(train_X, test_X)\n",
    "train_X[0], test_X[-1], train_X.shape"
   ]
  },
  {
   "cell_type": "markdown",
   "metadata": {
    "papermill": {
     "duration": 0.037337,
     "end_time": "2020-10-18T08:56:56.196891",
     "exception": false,
     "start_time": "2020-10-18T08:56:56.159554",
     "status": "completed"
    },
    "tags": []
   },
   "source": [
    "## Randomly split train data into train and validation datasets."
   ]
  },
  {
   "cell_type": "code",
   "execution_count": 7,
   "metadata": {
    "execution": {
     "iopub.execute_input": "2020-10-18T08:56:56.282915Z",
     "iopub.status.busy": "2020-10-18T08:56:56.281871Z",
     "iopub.status.idle": "2020-10-18T08:56:56.285206Z",
     "shell.execute_reply": "2020-10-18T08:56:56.284408Z"
    },
    "papermill": {
     "duration": 0.050886,
     "end_time": "2020-10-18T08:56:56.285341",
     "exception": false,
     "start_time": "2020-10-18T08:56:56.234455",
     "status": "completed"
    },
    "tags": []
   },
   "outputs": [],
   "source": [
    "def random_split_train_val(X, y, num_val, seed=25):\n",
    "    '''\n",
    "    Randomly splits dataset into training and validation.\n",
    "    \n",
    "    Args:\n",
    "    X (numpy array): an array of training samples.\n",
    "    y (numpy array): an array of training labels.\n",
    "    num_val (int): a number of samples to put into validation dataset.\n",
    "    seed (int): a seed for pseudo random number generator.\n",
    "    \n",
    "    Returns:\n",
    "    train_X (numpy array): a training dataset of samples.\n",
    "    train_y (numpy array): a training dataset of labels.\n",
    "    val_X (numpy array): a validation dataset of samples.\n",
    "    val_y (numpy array): a validation dataset of labels.\n",
    "    '''\n",
    "    np.random.seed(seed)\n",
    "    \n",
    "    indices = np.arange(X.shape[0])\n",
    "    np.random.shuffle(indices)\n",
    "\n",
    "    train_indices = indices[:-num_val]\n",
    "    train_X = X[train_indices]\n",
    "    train_y = y[train_indices]\n",
    "\n",
    "    val_indices = indices[-num_val:]\n",
    "    val_X = X[val_indices]\n",
    "    val_y = y[val_indices]\n",
    "\n",
    "    return train_X, train_y, val_X, val_y"
   ]
  },
  {
   "cell_type": "code",
   "execution_count": 8,
   "metadata": {
    "execution": {
     "iopub.execute_input": "2020-10-18T08:56:56.374966Z",
     "iopub.status.busy": "2020-10-18T08:56:56.374012Z",
     "iopub.status.idle": "2020-10-18T08:56:56.411772Z",
     "shell.execute_reply": "2020-10-18T08:56:56.410879Z"
    },
    "papermill": {
     "duration": 0.088803,
     "end_time": "2020-10-18T08:56:56.411955",
     "exception": false,
     "start_time": "2020-10-18T08:56:56.323152",
     "status": "completed"
    },
    "tags": []
   },
   "outputs": [],
   "source": [
    "train_X, train_y, val_X, val_y = random_split_train_val(train_X, train_y, num_val = 1000)"
   ]
  },
  {
   "attachments": {
    "image.png": {
     "image/png": "[encoded data removed]"
    }
   },
   "cell_type": "markdown",
   "metadata": {
    "papermill": {
     "duration": 0.042091,
     "end_time": "2020-10-18T08:56:56.505321",
     "exception": false,
     "start_time": "2020-10-18T08:56:56.463230",
     "status": "completed"
    },
    "tags": []
   },
   "source": [
    "## In this assignment we will learn how to calculate gradient of function by calculating the estimation of function's derivative ([numeric method](https://en.wikipedia.org/wiki/Numerical_differentiation)). \n",
    "\n",
    "Another two-point formula is to compute the slope of a nearby secant line through the points (x - h, f(x − h)) and (x + h, f(x + h)). The slope of this line is.\n",
    "This formula is known as the symmetric difference quotient. In this case the first-order errors cancel, so the slope of these secant lines differ from the slope of the tangent line by an amount that is approximately proportional to {\\displaystyle h^{2}}h^{2}. Hence for small values of h this is a more accurate approximation to the tangent line than the one-sided estimation. However, although the slope is being computed at x, the value of the function at x is not involved.\n",
    "\n",
    "![image.png](attachment:image.png)"
   ]
  },
  {
   "cell_type": "code",
   "execution_count": 9,
   "metadata": {
    "execution": {
     "iopub.execute_input": "2020-10-18T08:56:56.604421Z",
     "iopub.status.busy": "2020-10-18T08:56:56.603176Z",
     "iopub.status.idle": "2020-10-18T08:56:56.607283Z",
     "shell.execute_reply": "2020-10-18T08:56:56.606483Z"
    },
    "papermill": {
     "duration": 0.062573,
     "end_time": "2020-10-18T08:56:56.607416",
     "exception": false,
     "start_time": "2020-10-18T08:56:56.544843",
     "status": "completed"
    },
    "tags": []
   },
   "outputs": [],
   "source": [
    "def check_gradient(f, x, delta=1e-5, tol = 1e-4, verbose=False):\n",
    "    '''\n",
    "    Checks the implementation of analytical gradient by comparing\n",
    "    it to numerical gradient using two-point formula.\n",
    "    \n",
    "    Args:\n",
    "      f (func): a function that receives x and computes value and gradient.\n",
    "      x (numpy array of float): an initial point where gradient is checked.\n",
    "      delta (float): a step to compute numerical gradient.\n",
    "      tol (float): a tolerance for comparing numerical and analytical gradients.\n",
    "      \n",
    "    Returns:\n",
    "      (bool): an indication whether gradients are match or mismatch.\n",
    "    '''\n",
    "    \n",
    "    assert isinstance(x, np.ndarray)\n",
    "    assert x.dtype == np.float\n",
    "    \n",
    "    orig_x = x.copy()\n",
    "    fx, analytic_grad = f(x)\n",
    "    assert np.all(np.isclose(orig_x, x, tol)), f'Functions shouldn t modify input variables {orig_x, x}.'\n",
    "    # np.isclose returns a boolean array where two arrays are element-wise equal within a tolerance.\n",
    "\n",
    "    assert analytic_grad.shape == x.shape\n",
    "    analytic_grad = analytic_grad.copy()\n",
    "    \n",
    "    if x is not np.array:\n",
    "        x = np.array(x)\n",
    "    grad = np.zeros_like(x)\n",
    "    \n",
    "    it = np.nditer(x, flags=['multi_index'], op_flags=['readwrite'])\n",
    "    while not it.finished:\n",
    "        ix = it.multi_index\n",
    "        value = x[ix]\n",
    "        x[ix] = value + delta\n",
    "        fx_plus_delta = f(x)\n",
    "        x[ix] = value - delta\n",
    "        fx_minus_delta = f(x)\n",
    "        x[ix] = value # restore value\n",
    "        grad[ix] = (fx_plus_delta[0] - fx_minus_delta[0]) / (2 * delta)\n",
    "        \n",
    "        if verbose:\n",
    "            print(ix, grad[ix])\n",
    "                     \n",
    "        analytic_grad_at_ix = analytic_grad[ix]\n",
    "        numeric_grad_at_ix = grad[ix]\n",
    "        \n",
    "        if not np.isclose(numeric_grad_at_ix, analytic_grad_at_ix, tol):\n",
    "            print(\"Gradients are different at %s. Analytic: %2.5f, Numeric: %2.5f\" % (ix, analytic_grad_at_ix, numeric_grad_at_ix))\n",
    "            #return False\n",
    "        \n",
    "        it.iternext()\n",
    "\n",
    "    print(\"Gradient check passed!\")\n",
    "    return"
   ]
  },
  {
   "cell_type": "code",
   "execution_count": 10,
   "metadata": {
    "execution": {
     "iopub.execute_input": "2020-10-18T08:56:56.698558Z",
     "iopub.status.busy": "2020-10-18T08:56:56.697484Z",
     "iopub.status.idle": "2020-10-18T08:56:56.701232Z",
     "shell.execute_reply": "2020-10-18T08:56:56.701853Z"
    },
    "papermill": {
     "duration": 0.055467,
     "end_time": "2020-10-18T08:56:56.702013",
     "exception": false,
     "start_time": "2020-10-18T08:56:56.646546",
     "status": "completed"
    },
    "tags": []
   },
   "outputs": [
    {
     "name": "stdout",
     "output_type": "stream",
     "text": [
      "Gradient check passed!\n",
      "Gradient check passed!\n",
      "Gradient check passed!\n"
     ]
    }
   ],
   "source": [
    "def square(x):\n",
    "    return float(x*x), 2*x\n",
    "\n",
    "check_gradient(square, np.array([3.0]))\n",
    "\n",
    "def array_sum(x):\n",
    "    assert x.shape == (2,), x.shape\n",
    "    return np.sum(x), np.ones_like(x)\n",
    "\n",
    "check_gradient(array_sum, np.array([3.0, 2.0]))\n",
    "\n",
    "def array_2d_sum(x):\n",
    "    assert x.shape == (2,2)\n",
    "    return np.sum(x), np.ones_like(x)\n",
    "\n",
    "check_gradient(array_2d_sum, np.array([[3.0, 2.0], [1.0, 0.0]]))"
   ]
  },
  {
   "attachments": {
    "image.png": {
     "image/png": "[encoded data removed]"
    }
   },
   "cell_type": "markdown",
   "metadata": {
    "papermill": {
     "duration": 0.038921,
     "end_time": "2020-10-18T08:56:56.780765",
     "exception": false,
     "start_time": "2020-10-18T08:56:56.741844",
     "status": "completed"
    },
    "tags": []
   },
   "source": [
    "Here we'll write [Softmax function](https://en.wikipedia.org/wiki/Softmax_function) for multinomial logistic regression and is often used as the last activation function of a neural network to normalize the output of a network to a probability distribution over predicted output classes.\n",
    "![image.png](attachment:image.png)"
   ]
  },
  {
   "cell_type": "code",
   "execution_count": 11,
   "metadata": {
    "execution": {
     "iopub.execute_input": "2020-10-18T08:56:56.869717Z",
     "iopub.status.busy": "2020-10-18T08:56:56.868582Z",
     "iopub.status.idle": "2020-10-18T08:56:56.872078Z",
     "shell.execute_reply": "2020-10-18T08:56:56.871327Z"
    },
    "papermill": {
     "duration": 0.052968,
     "end_time": "2020-10-18T08:56:56.872207",
     "exception": false,
     "start_time": "2020-10-18T08:56:56.819239",
     "status": "completed"
    },
    "tags": []
   },
   "outputs": [],
   "source": [
    "def softmax(input_values):\n",
    "    '''\n",
    "    Computes probabilities from scores.\n",
    "    \n",
    "    Args:\n",
    "      input_values (numpy array shape (N,) or (batch_size, N)): a classifier output.\n",
    "      \n",
    "    Returns:\n",
    "      estimated_probabilities (numpy array of the same shape as input values): an estimated probability\n",
    "      for every class.\n",
    "    '''\n",
    "    try:\n",
    "        values = input_values.copy()\n",
    "        if values.ndim == 1:\n",
    "            values -= np.max(values)#  shift values inside the vector for numeric stability of rapidly\n",
    "                                    #  increasing exponential function.\n",
    "            estimated_probabilities = np.exp(values) / np.sum(np.exp(values))\n",
    "        else:\n",
    "            max_values = np.max(values, axis=1).reshape(-1,1)\n",
    "            values = values - max_values\n",
    "            estimated_probabilities = np.exp(values) / np.sum(np.exp(values), axis = 1).reshape(values.shape[0], -1)\n",
    "        \n",
    "        return estimated_probabilities\n",
    "    \n",
    "    except:\n",
    "        raise Exception(\"Not implemented!\")"
   ]
  },
  {
   "cell_type": "code",
   "execution_count": 12,
   "metadata": {
    "execution": {
     "iopub.execute_input": "2020-10-18T08:56:56.960892Z",
     "iopub.status.busy": "2020-10-18T08:56:56.959970Z",
     "iopub.status.idle": "2020-10-18T08:56:56.964800Z",
     "shell.execute_reply": "2020-10-18T08:56:56.964070Z"
    },
    "papermill": {
     "duration": 0.053795,
     "end_time": "2020-10-18T08:56:56.964926",
     "exception": false,
     "start_time": "2020-10-18T08:56:56.911131",
     "status": "completed"
    },
    "tags": []
   },
   "outputs": [
    {
     "data": {
      "text/plain": [
       "array([2.06106005e-09, 4.53978686e-05, 9.99954600e-01])"
      ]
     },
     "execution_count": 12,
     "metadata": {},
     "output_type": "execute_result"
    }
   ],
   "source": [
    "softmax(np.array([-10, 0, 10]))"
   ]
  },
  {
   "cell_type": "code",
   "execution_count": 13,
   "metadata": {
    "execution": {
     "iopub.execute_input": "2020-10-18T08:56:57.052149Z",
     "iopub.status.busy": "2020-10-18T08:56:57.051281Z",
     "iopub.status.idle": "2020-10-18T08:56:57.054747Z",
     "shell.execute_reply": "2020-10-18T08:56:57.053972Z"
    },
    "papermill": {
     "duration": 0.050645,
     "end_time": "2020-10-18T08:56:57.054875",
     "exception": false,
     "start_time": "2020-10-18T08:56:57.004230",
     "status": "completed"
    },
    "tags": []
   },
   "outputs": [],
   "source": [
    "probs = softmax(np.array([-10, 0, 10]))\n",
    "\n",
    "probs = softmax(np.array([1000, 0, 0]))\n",
    "\n",
    "assert np.isclose(probs[0], 1.0)"
   ]
  },
  {
   "attachments": {
    "image.png": {
     "image/png": "[encoded data removed]"
    }
   },
   "cell_type": "markdown",
   "metadata": {
    "papermill": {
     "duration": 0.039335,
     "end_time": "2020-10-18T08:56:57.133900",
     "exception": false,
     "start_time": "2020-10-18T08:56:57.094565",
     "status": "completed"
    },
    "tags": []
   },
   "source": [
    "We will write a [cross-entropy loss function](https://en.wikipedia.org/wiki/Cross_entropy). This function will serves as error function for our linear classifier.\n",
    "\n",
    "The cross-entropy between two probability distributions __p__ and __q__ over the same underlying set of events measures the average number of bits needed to identify an event drawn from the set if a coding scheme used for the set is optimized for an estimated probability distribution __q__, rather than the true distribution __p__.\n",
    "\n",
    "For discrete probability distributions __p__ and __q__ with the same support this means:\n",
    "\n",
    "![image.png](attachment:image.png)"
   ]
  },
  {
   "cell_type": "code",
   "execution_count": 14,
   "metadata": {
    "execution": {
     "iopub.execute_input": "2020-10-18T08:56:57.224297Z",
     "iopub.status.busy": "2020-10-18T08:56:57.223472Z",
     "iopub.status.idle": "2020-10-18T08:56:57.227207Z",
     "shell.execute_reply": "2020-10-18T08:56:57.226555Z"
    },
    "papermill": {
     "duration": 0.053803,
     "end_time": "2020-10-18T08:56:57.227335",
     "exception": false,
     "start_time": "2020-10-18T08:56:57.173532",
     "status": "completed"
    },
    "tags": []
   },
   "outputs": [],
   "source": [
    "def cross_entropy_loss(estimated_distribution, target_index, epsilon=1e-12):\n",
    "    '''\n",
    "    Computes cross-entropy loss.\n",
    "    \n",
    "    Args:\n",
    "      estimated_distribution (numpy array, shape (N,) or (batch_size, N)): probabilities for every class.\n",
    "      target_index (numpy array of int, shape (1,) or (batch_size,)): index of the true class \n",
    "      in given sample(s), showing at which index an estimated distibution should be max.\n",
    "      \n",
    "    Returns:\n",
    "      a single value.\n",
    "    '''\n",
    "    try:\n",
    "        if target_index is not np.array:\n",
    "            target_index = np.array(target_index)\n",
    "        \n",
    "        if estimated_distribution.ndim == 1:\n",
    "            estimated_distribution = estimated_distribution.reshape(1,-1)\n",
    "            \n",
    "        rows = estimated_distribution.shape[0]\n",
    "        true_distribution = np.zeros_like(estimated_distribution)\n",
    "        columns = target_index.flatten()\n",
    "        true_distribution[np.arange(rows), columns] = 1\n",
    "        return - np.sum(true_distribution * np.log(estimated_distribution))\n",
    "    except:\n",
    "        raise Exception(\"Not implemented!\")"
   ]
  },
  {
   "cell_type": "code",
   "execution_count": 15,
   "metadata": {
    "execution": {
     "iopub.execute_input": "2020-10-18T08:56:57.314484Z",
     "iopub.status.busy": "2020-10-18T08:56:57.313532Z",
     "iopub.status.idle": "2020-10-18T08:56:57.318500Z",
     "shell.execute_reply": "2020-10-18T08:56:57.317753Z"
    },
    "papermill": {
     "duration": 0.051266,
     "end_time": "2020-10-18T08:56:57.318647",
     "exception": false,
     "start_time": "2020-10-18T08:56:57.267381",
     "status": "completed"
    },
    "tags": []
   },
   "outputs": [
    {
     "data": {
      "text/plain": [
       "array([4.50940412e-05, 6.69254912e-03, 9.93262357e-01])"
      ]
     },
     "execution_count": 15,
     "metadata": {},
     "output_type": "execute_result"
    }
   ],
   "source": [
    "probs = softmax(np.array([-5, 0, 5]))\n",
    "probs"
   ]
  },
  {
   "cell_type": "code",
   "execution_count": 16,
   "metadata": {
    "execution": {
     "iopub.execute_input": "2020-10-18T08:56:57.406912Z",
     "iopub.status.busy": "2020-10-18T08:56:57.406026Z",
     "iopub.status.idle": "2020-10-18T08:56:57.410117Z",
     "shell.execute_reply": "2020-10-18T08:56:57.410697Z"
    },
    "papermill": {
     "duration": 0.051584,
     "end_time": "2020-10-18T08:56:57.410866",
     "exception": false,
     "start_time": "2020-10-18T08:56:57.359282",
     "status": "completed"
    },
    "tags": []
   },
   "outputs": [
    {
     "data": {
      "text/plain": [
       "5.006760443547122"
      ]
     },
     "execution_count": 16,
     "metadata": {},
     "output_type": "execute_result"
    }
   ],
   "source": [
    "cross_entropy_loss(probs, 1)"
   ]
  },
  {
   "cell_type": "markdown",
   "metadata": {
    "papermill": {
     "duration": 0.041189,
     "end_time": "2020-10-18T08:56:57.493101",
     "exception": false,
     "start_time": "2020-10-18T08:56:57.451912",
     "status": "completed"
    },
    "tags": []
   },
   "source": [
    "To use the softmax function in neural networks, we need to compute its derivative. If we define \\begin{split} \\Sigma_C = \\sum_{d=1}^C e^{z_d} \\, \\text{for} \\; c = 1 \\cdots C so that y_c = e^{z_c} / \\Sigma_C \\end{split} then this derivative \\begin{split} {\\partial y_i}/{\\partial z_j} \\end{split} of the output y of the softmax function with respect to its input z can be calculated as:\n",
    "\n",
    "\\begin{split}\n",
    "\\text{if} \\; i = j :& \\frac{\\partial y_i}{\\partial z_i} = \\frac{\\partial \\frac{e^{z_i}}{\\Sigma_C}}{\\partial z_i} = \\frac{e^{z_i}\\Sigma_C - e^{z_i}e^{z_i}}{\\Sigma_C^2} = \\frac{e^{z_i}}{\\Sigma_C}\\frac{\\Sigma_C - e^{z_i}}{\\Sigma_C} = \\frac{e^{z_i}}{\\Sigma_C}(1-\\frac{e^{z_i}}{\\Sigma_C}) =  y_i (1 - y_i)\\\\\n",
    "\\text{if} \\; i \\neq j :& \\frac{\\partial y_i}{\\partial z_j} = \\frac{\\partial \\frac{e^{z_i}}{\\Sigma_C}}{\\partial z_j} = \\frac{0 - e^{z_i}e^{z_j}}{\\Sigma_C^2} = -\\frac{e^{z_i}}{\\Sigma_C} \\frac{e^{z_j}}{\\Sigma_C} = -y_i y_j\n",
    "\\end{split}\n",
    "\n",
    "Cross-entropy loss function:\n",
    "\n",
    "\\begin{split}\n",
    "\\xi(T,Y) = \\sum_{i=1}^n \\xi(\\mathbf{t}_i,\\mathbf{y}_i) = -\\sum_{i=1}^n \\sum_{c=1}^{C} t_{ic} \\cdot \\log( y_{ic})\\end{split}\n",
    "\n",
    "\n",
    "The derivative \\begin{split}{\\partial \\xi}/{\\partial z_i}\\end{split} of the loss function with respect to the softmax input zi can be calculated as:\n",
    "\n",
    "\\begin{split}\n",
    "\\frac{\\partial \\xi}{\\partial z_i} & = - \\sum_{j=1}^C \\frac{\\partial t_j \\log(y_j)}{\\partial z_i}{} \n",
    "= - \\sum_{j=1}^C t_j \\frac{\\partial \\log(y_j)}{\\partial z_i} \n",
    "= - \\sum_{j=1}^C t_j \\frac{1}{y_j} \\frac{\\partial y_j}{\\partial z_i} \\\\\n",
    "& = - \\frac{t_i}{y_i} \\frac{\\partial y_i}{\\partial z_i} - \\sum_{j \\neq i}^C \\frac{t_j}{y_j} \\frac{\\partial y_j}{\\partial z_i}\n",
    "= - \\frac{t_i}{y_i} y_i (1-y_i) - \\sum_{j \\neq i}^C \\frac{t_j}{y_j} (-y_j y_i) \\\\\n",
    "& = - t_i + t_i y_i + \\sum_{j \\neq i}^C t_j y_i = - t_i + \\sum_{j = 1}^C t_j y_i\n",
    "= -t_i + y_i \\sum_{j = 1}^C t_j \\\\\n",
    "& = y_i - t_i\n",
    "\\end{split}\n",
    "[Source](https://peterroelants.github.io/posts/cross-entropy-softmax/)"
   ]
  },
  {
   "cell_type": "code",
   "execution_count": 17,
   "metadata": {
    "execution": {
     "iopub.execute_input": "2020-10-18T08:56:57.587785Z",
     "iopub.status.busy": "2020-10-18T08:56:57.586773Z",
     "iopub.status.idle": "2020-10-18T08:56:57.590070Z",
     "shell.execute_reply": "2020-10-18T08:56:57.589320Z"
    },
    "papermill": {
     "duration": 0.056027,
     "end_time": "2020-10-18T08:56:57.590201",
     "exception": false,
     "start_time": "2020-10-18T08:56:57.534174",
     "status": "completed"
    },
    "tags": []
   },
   "outputs": [],
   "source": [
    "def softmax_with_cross_entropy(input_values, target_index):\n",
    "    '''\n",
    "    Computes softmax and cross-entropy loss for model predictions,\n",
    "    including the gradient.\n",
    "    \n",
    "    Args:\n",
    "      input_values (numpy array, shape (N,) or (batch_size, N)): a classifier output.\n",
    "      target_index (numpy array of int, shape (1,) or (batch_size,)): an index of the true \n",
    "      class for given sample(s).\n",
    "      \n",
    "    Returns:\n",
    "      loss (a single value): cross-entropy loss.\n",
    "      gradient (numpy array, input_values.shape): a gradient of cross entopy error function\n",
    "      with a softmax derivative.\n",
    "    '''\n",
    "    try:            \n",
    "        estimated_distribution = softmax(input_values)\n",
    "        loss = cross_entropy_loss(estimated_distribution, target_index)\n",
    "        \n",
    "        if estimated_distribution.ndim == 1:\n",
    "            estimated_distribution = estimated_distribution.reshape(1,-1)\n",
    "            \n",
    "        rows = estimated_distribution.shape[0]\n",
    "        true_distribution = np.zeros_like(estimated_distribution)\n",
    "        \n",
    "        if target_index is not np.array:\n",
    "            target_index = np.array(target_index)\n",
    "        \n",
    "        columns = target_index.flatten()\n",
    "        true_distribution[np.arange(rows), columns] = 1\n",
    "        gradient = estimated_distribution - true_distribution\n",
    "        if input_values.ndim == 1:\n",
    "            gradient = gradient.reshape(input_values.shape) # done only for gradient check\n",
    "        return loss, gradient\n",
    "    except:\n",
    "        raise Exception(\"Not implemented!\")"
   ]
  },
  {
   "cell_type": "code",
   "execution_count": 18,
   "metadata": {
    "execution": {
     "iopub.execute_input": "2020-10-18T08:56:57.681241Z",
     "iopub.status.busy": "2020-10-18T08:56:57.680158Z",
     "iopub.status.idle": "2020-10-18T08:56:57.685927Z",
     "shell.execute_reply": "2020-10-18T08:56:57.685151Z"
    },
    "papermill": {
     "duration": 0.053922,
     "end_time": "2020-10-18T08:56:57.686062",
     "exception": false,
     "start_time": "2020-10-18T08:56:57.632140",
     "status": "completed"
    },
    "tags": []
   },
   "outputs": [
    {
     "name": "stdout",
     "output_type": "stream",
     "text": [
      "Gradient check passed!\n"
     ]
    }
   ],
   "source": [
    "loss, grad = softmax_with_cross_entropy(np.array([1, 0, 0]), 1)\n",
    "check_gradient(lambda x: softmax_with_cross_entropy(x, 1), np.array([1, 0, 0], np.float))"
   ]
  },
  {
   "cell_type": "code",
   "execution_count": 19,
   "metadata": {
    "execution": {
     "iopub.execute_input": "2020-10-18T08:56:57.779181Z",
     "iopub.status.busy": "2020-10-18T08:56:57.778339Z",
     "iopub.status.idle": "2020-10-18T08:56:57.785310Z",
     "shell.execute_reply": "2020-10-18T08:56:57.784652Z"
    },
    "papermill": {
     "duration": 0.057609,
     "end_time": "2020-10-18T08:56:57.785441",
     "exception": false,
     "start_time": "2020-10-18T08:56:57.727832",
     "status": "completed"
    },
    "tags": []
   },
   "outputs": [
    {
     "name": "stdout",
     "output_type": "stream",
     "text": [
      "Gradient check passed!\n"
     ]
    }
   ],
   "source": [
    "np.random.seed(42)\n",
    "# Test batch_size = 1\n",
    "num_classes = 4\n",
    "batch_size = 1\n",
    "predictions = np.random.randint(-1, 3, size=(batch_size, num_classes)).astype(np.float)\n",
    "target_index = np.random.randint(0, num_classes, size=(batch_size, 1)).astype(np.int)\n",
    "check_gradient(lambda x: softmax_with_cross_entropy(x, target_index), predictions)"
   ]
  },
  {
   "cell_type": "code",
   "execution_count": 20,
   "metadata": {
    "execution": {
     "iopub.execute_input": "2020-10-18T08:56:57.880653Z",
     "iopub.status.busy": "2020-10-18T08:56:57.879427Z",
     "iopub.status.idle": "2020-10-18T08:56:57.889089Z",
     "shell.execute_reply": "2020-10-18T08:56:57.888296Z"
    },
    "papermill": {
     "duration": 0.061022,
     "end_time": "2020-10-18T08:56:57.889219",
     "exception": false,
     "start_time": "2020-10-18T08:56:57.828197",
     "status": "completed"
    },
    "tags": []
   },
   "outputs": [
    {
     "name": "stdout",
     "output_type": "stream",
     "text": [
      "Gradient check passed!\n"
     ]
    }
   ],
   "source": [
    "num_classes = 4\n",
    "# Test batch_size = 3\n",
    "batch_size = 3\n",
    "predictions = np.random.randint(-1, 3, size=(batch_size, num_classes)).astype(np.float)\n",
    "target_index = np.random.randint(0, num_classes, size=(batch_size, 1)).astype(np.int)\n",
    "check_gradient(lambda x: softmax_with_cross_entropy(x, target_index), predictions)"
   ]
  },
  {
   "cell_type": "code",
   "execution_count": 21,
   "metadata": {
    "execution": {
     "iopub.execute_input": "2020-10-18T08:56:57.982695Z",
     "iopub.status.busy": "2020-10-18T08:56:57.981872Z",
     "iopub.status.idle": "2020-10-18T08:56:57.985884Z",
     "shell.execute_reply": "2020-10-18T08:56:57.985079Z"
    },
    "papermill": {
     "duration": 0.053567,
     "end_time": "2020-10-18T08:56:57.986022",
     "exception": false,
     "start_time": "2020-10-18T08:56:57.932455",
     "status": "completed"
    },
    "tags": []
   },
   "outputs": [],
   "source": [
    "# Make sure maximum subtraction for numberic stability is done separately for every sample in the batch\n",
    "probs = softmax(np.array([[20,0,0], [1000, 0, 0]]))\n",
    "assert np.all(np.isclose(probs[:, 0], 1.0))"
   ]
  },
  {
   "cell_type": "markdown",
   "metadata": {
    "papermill": {
     "duration": 0.043176,
     "end_time": "2020-10-18T08:56:58.072748",
     "exception": false,
     "start_time": "2020-10-18T08:56:58.029572",
     "status": "completed"
    },
    "tags": []
   },
   "source": [
    "### Let's create a linear classifier."
   ]
  },
  {
   "cell_type": "code",
   "execution_count": 22,
   "metadata": {
    "execution": {
     "iopub.execute_input": "2020-10-18T08:56:58.173408Z",
     "iopub.status.busy": "2020-10-18T08:56:58.172448Z",
     "iopub.status.idle": "2020-10-18T08:56:58.175169Z",
     "shell.execute_reply": "2020-10-18T08:56:58.175748Z"
    },
    "papermill": {
     "duration": 0.058535,
     "end_time": "2020-10-18T08:56:58.175923",
     "exception": false,
     "start_time": "2020-10-18T08:56:58.117388",
     "status": "completed"
    },
    "tags": []
   },
   "outputs": [],
   "source": [
    "def linear_softmax(X, W, target_index):\n",
    "    '''\n",
    "    Performs linear classification and returns loss and gradient over W.\n",
    "    \n",
    "    Args:\n",
    "      X (numpy array, shape (num_batch, num_features)): batch of images.\n",
    "      W (numpy array, shape (num_features, classes)): weights.\n",
    "      target_index (numpy array, shape (num_batch)): index of target classes.\n",
    "      \n",
    "    Returns:\n",
    "      loss (single value): cross-entropy loss.\n",
    "      gradient (numpy array same shape as W): gradient of weight by loss.\n",
    "    '''\n",
    "    try:\n",
    "        predictions = np.dot(X, W)\n",
    "        estimated_distribution = softmax(predictions)\n",
    "        loss = cross_entropy_loss(estimated_distribution, target_index)\n",
    "        \n",
    "        if estimated_distribution.ndim == 1:\n",
    "            estimated_distribution = estimated_distribution.reshape(1,-1)\n",
    "            \n",
    "        rows = estimated_distribution.shape[0]\n",
    "        true_distribution = np.zeros_like(estimated_distribution)\n",
    "        \n",
    "        if target_index is not np.array:\n",
    "            target_index = np.array(target_index)\n",
    "        \n",
    "        columns = target_index.flatten()\n",
    "        true_distribution[np.arange(rows), columns] = 1\n",
    "        gradient = estimated_distribution - true_distribution\n",
    "        dW = np.dot(X.T, gradient)\n",
    "        return loss, dW\n",
    "    except:\n",
    "        raise Exception(\"Not implemented!\")"
   ]
  },
  {
   "cell_type": "code",
   "execution_count": 23,
   "metadata": {
    "execution": {
     "iopub.execute_input": "2020-10-18T08:56:58.273202Z",
     "iopub.status.busy": "2020-10-18T08:56:58.272348Z",
     "iopub.status.idle": "2020-10-18T08:56:58.309237Z",
     "shell.execute_reply": "2020-10-18T08:56:58.309865Z"
    },
    "papermill": {
     "duration": 0.090687,
     "end_time": "2020-10-18T08:56:58.310028",
     "exception": false,
     "start_time": "2020-10-18T08:56:58.219341",
     "status": "completed"
    },
    "tags": []
   },
   "outputs": [
    {
     "name": "stdout",
     "output_type": "stream",
     "text": [
      "Loss 2.1755153626167147, gradient over weights [[-0.88079708  0.88079708]\n",
      " [-0.8333712   0.8333712 ]\n",
      " [ 0.92822295 -0.92822295]].\n",
      "Gradient check passed!\n"
     ]
    }
   ],
   "source": [
    "batch_size = 2\n",
    "num_classes = 2\n",
    "num_features = 3\n",
    "np.random.seed(42)\n",
    "W = np.random.randint(-1, 3, size=(num_features, num_classes)).astype(np.float)\n",
    "X = np.random.randint(-1, 3, size=(batch_size, num_features)).astype(np.float)\n",
    "target_index = np.ones(batch_size, dtype=np.int)\n",
    "\n",
    "loss, dW = linear_softmax(X, W, target_index)\n",
    "print(f'Loss {loss}, gradient over weights {dW}.')\n",
    "check_gradient(lambda w: linear_softmax(X, w, target_index), W)"
   ]
  },
  {
   "cell_type": "code",
   "execution_count": 24,
   "metadata": {
    "execution": {
     "iopub.execute_input": "2020-10-18T08:56:58.406150Z",
     "iopub.status.busy": "2020-10-18T08:56:58.404974Z",
     "iopub.status.idle": "2020-10-18T08:56:58.407854Z",
     "shell.execute_reply": "2020-10-18T08:56:58.408489Z"
    },
    "papermill": {
     "duration": 0.054693,
     "end_time": "2020-10-18T08:56:58.408671",
     "exception": false,
     "start_time": "2020-10-18T08:56:58.353978",
     "status": "completed"
    },
    "tags": []
   },
   "outputs": [],
   "source": [
    "def l2_regularization(W, reg_strength):\n",
    "    '''\n",
    "    Computes L2 regularization loss on weights and its gradient.\n",
    "    \n",
    "    Arguments:\n",
    "      W, np array - weights\n",
    "      reg_strength - float value\n",
    "    Returns:\n",
    "      loss, single value - l2 regularization loss\n",
    "      gradient, np.array same shape as W - gradient of weight by l2 loss\n",
    "    '''\n",
    "    try:\n",
    "        l2_regularization_loss = reg_strength * np.sum(np.square(W))\n",
    "        gradient = 2 * reg_strength * W\n",
    "        return l2_regularization_loss, gradient\n",
    "    # TODO: implement l2 regularization and gradient\n",
    "    # Your final implementation shouldn't have any loops\n",
    "    except:\n",
    "        raise Exception(\"Not implemented!\")"
   ]
  },
  {
   "cell_type": "code",
   "execution_count": 25,
   "metadata": {
    "execution": {
     "iopub.execute_input": "2020-10-18T08:56:58.505328Z",
     "iopub.status.busy": "2020-10-18T08:56:58.504331Z",
     "iopub.status.idle": "2020-10-18T08:56:58.507967Z",
     "shell.execute_reply": "2020-10-18T08:56:58.508612Z"
    },
    "papermill": {
     "duration": 0.055765,
     "end_time": "2020-10-18T08:56:58.508799",
     "exception": false,
     "start_time": "2020-10-18T08:56:58.453034",
     "status": "completed"
    },
    "tags": []
   },
   "outputs": [
    {
     "name": "stdout",
     "output_type": "stream",
     "text": [
      "Loss 0.12, grad [[ 0.02  0.04]\n",
      " [-0.02  0.02]\n",
      " [ 0.02  0.04]].\n",
      "Gradient check passed!\n"
     ]
    }
   ],
   "source": [
    "loss, grad = l2_regularization(W, 0.01)\n",
    "print(f'Loss {loss}, grad {grad}.')\n",
    "check_gradient(lambda w: l2_regularization(w, 0.01), W)"
   ]
  },
  {
   "cell_type": "markdown",
   "metadata": {
    "papermill": {
     "duration": 0.044482,
     "end_time": "2020-10-18T08:56:58.598407",
     "exception": false,
     "start_time": "2020-10-18T08:56:58.553925",
     "status": "completed"
    },
    "tags": []
   },
   "source": [
    "## Train"
   ]
  },
  {
   "cell_type": "code",
   "execution_count": 26,
   "metadata": {
    "execution": {
     "iopub.execute_input": "2020-10-18T08:56:58.708878Z",
     "iopub.status.busy": "2020-10-18T08:56:58.703770Z",
     "iopub.status.idle": "2020-10-18T08:56:58.714941Z",
     "shell.execute_reply": "2020-10-18T08:56:58.714116Z"
    },
    "papermill": {
     "duration": 0.071281,
     "end_time": "2020-10-18T08:56:58.715089",
     "exception": false,
     "start_time": "2020-10-18T08:56:58.643808",
     "status": "completed"
    },
    "tags": []
   },
   "outputs": [],
   "source": [
    "class LinearSoftmaxClassifier():\n",
    "    def __init__(self):\n",
    "        self.W = None\n",
    "\n",
    "    def fit(self, X, y, batch_size=100, learning_rate=1e-7, reg=1e-5,\n",
    "            epochs=1, verbose=False):\n",
    "        '''\n",
    "        Trains linear classifier\n",
    "        \n",
    "        Arguments:\n",
    "          X, np array (num_samples, num_features) - training data\n",
    "          y, np array of int (num_samples) - labels\n",
    "          batch_size, int - batch size to use\n",
    "          learning_rate, float - learning rate for gradient descent\n",
    "          reg, float - L2 regularization strength\n",
    "          epochs, int - number of epochs\n",
    "        '''\n",
    "\n",
    "        num_train = X.shape[0]\n",
    "        num_features = X.shape[1]\n",
    "        num_classes = np.max(y) + 1\n",
    "        if self.W is None:\n",
    "            self.W = 0.001 * np.random.randn(num_features, num_classes)\n",
    "        try:\n",
    "            loss_history = []\n",
    "            for epoch in range(epochs):\n",
    "                shuffled_indices = np.arange(num_train)\n",
    "                np.random.shuffle(shuffled_indices)\n",
    "                sections = np.arange(batch_size, num_train, batch_size)\n",
    "                batches_indices = np.array_split(shuffled_indices, sections)\n",
    "                for bi in batches_indices:\n",
    "                    batch_X = X[bi]\n",
    "                    batch_y = y[bi]\n",
    "                    loss, gradient = linear_softmax(batch_X, self.W, batch_y)\n",
    "                    l2_reg_loss_cost, grad_l2_reg_loss_cost = l2_regularization(self.W, reg)\n",
    "#                     loss_history.append(loss)\n",
    "                    loss = loss + l2_reg_loss_cost\n",
    "                    gradient = gradient + grad_l2_reg_loss_cost\n",
    "                    loss_history.append(loss)\n",
    "                    self.W = self.W - learning_rate * gradient\n",
    "                if verbose:\n",
    "                    print(\"Epoch %i, loss: %f\" % (epoch, loss))\n",
    "\n",
    "            return loss_history\n",
    "        except:\n",
    "            raise Exception(\"Not implemented!\")\n",
    "\n",
    "    def predict(self, X):\n",
    "        '''\n",
    "        Produces classifier predictions on the set\n",
    "       \n",
    "        Arguments:\n",
    "          X, np array (test_samples, num_features)\n",
    "        Returns:\n",
    "          y_pred, np.array of int (test_samples)\n",
    "        '''\n",
    "        try:\n",
    "            y_pred = np.zeros(X.shape[0], dtype=np.int)\n",
    "            predictions = np.argmax(softmax(np.dot(X, self.W)), axis=1)\n",
    "            y_pred = predictions\n",
    "            return y_pred\n",
    "        except:\n",
    "            raise Exception(\"Not implemented!\")"
   ]
  },
  {
   "cell_type": "code",
   "execution_count": 27,
   "metadata": {
    "execution": {
     "iopub.execute_input": "2020-10-18T08:56:58.812165Z",
     "iopub.status.busy": "2020-10-18T08:56:58.811390Z",
     "iopub.status.idle": "2020-10-18T08:56:59.261081Z",
     "shell.execute_reply": "2020-10-18T08:56:59.260267Z"
    },
    "papermill": {
     "duration": 0.500012,
     "end_time": "2020-10-18T08:56:59.261253",
     "exception": false,
     "start_time": "2020-10-18T08:56:58.761241",
     "status": "completed"
    },
    "tags": []
   },
   "outputs": [],
   "source": [
    "classifier = LinearSoftmaxClassifier()\n",
    "loss_history = classifier.fit(train_X, train_y, epochs=10, learning_rate=1e-3, batch_size=300, reg=1e1)"
   ]
  },
  {
   "cell_type": "code",
   "execution_count": 28,
   "metadata": {
    "execution": {
     "iopub.execute_input": "2020-10-18T08:56:59.433220Z",
     "iopub.status.busy": "2020-10-18T08:56:59.360863Z",
     "iopub.status.idle": "2020-10-18T08:56:59.611707Z",
     "shell.execute_reply": "2020-10-18T08:56:59.612330Z"
    },
    "papermill": {
     "duration": 0.30612,
     "end_time": "2020-10-18T08:56:59.612498",
     "exception": false,
     "start_time": "2020-10-18T08:56:59.306378",
     "status": "completed"
    },
    "tags": []
   },
   "outputs": [
    {
     "data": {
      "text/plain": [
       "[<matplotlib.lines.Line2D at 0x7f34e7511a10>]"
      ]
     },
     "execution_count": 28,
     "metadata": {},
     "output_type": "execute_result"
    },
    {
     "data": {
      "image/png": "[encoded data removed]",
      "text/plain": [
       "<Figure size 432x288 with 1 Axes>"
      ]
     },
     "metadata": {
      "needs_background": "light"
     },
     "output_type": "display_data"
    }
   ],
   "source": [
    "import matplotlib.pyplot as plt\n",
    "%matplotlib inline\n",
    "plt.plot(loss_history)"
   ]
  },
  {
   "cell_type": "markdown",
   "metadata": {
    "papermill": {
     "duration": 0.046464,
     "end_time": "2020-10-18T08:56:59.706276",
     "exception": false,
     "start_time": "2020-10-18T08:56:59.659812",
     "status": "completed"
    },
    "tags": []
   },
   "source": [
    "## Let's check how it performs on validation set."
   ]
  },
  {
   "cell_type": "code",
   "execution_count": 29,
   "metadata": {
    "execution": {
     "iopub.execute_input": "2020-10-18T08:56:59.808734Z",
     "iopub.status.busy": "2020-10-18T08:56:59.807963Z",
     "iopub.status.idle": "2020-10-18T08:56:59.811476Z",
     "shell.execute_reply": "2020-10-18T08:56:59.810758Z"
    },
    "papermill": {
     "duration": 0.057845,
     "end_time": "2020-10-18T08:56:59.811599",
     "exception": false,
     "start_time": "2020-10-18T08:56:59.753754",
     "status": "completed"
    },
    "tags": []
   },
   "outputs": [],
   "source": [
    "def multiclass_accuracy(prediction, ground_truth):\n",
    "    '''\n",
    "    Computes metrics for multiclass classification.\n",
    "    \n",
    "    Args:\n",
    "        prediction (numpy array of int): model predictions.\n",
    "        ground_truth (numpy array of int): true labels.\n",
    "        \n",
    "    Returns:\n",
    "        accuracy: ratio of accurate predictions to total samples.\n",
    "    '''\n",
    "    confusion_matrix = np.zeros((10,10), np.int)\n",
    "    np.add.at(confusion_matrix, [prediction, ground_truth], 1)\n",
    "    accuracy = np.trace(confusion_matrix) / confusion_matrix.sum()\n",
    "    return accuracy"
   ]
  },
  {
   "cell_type": "code",
   "execution_count": 30,
   "metadata": {
    "execution": {
     "iopub.execute_input": "2020-10-18T08:56:59.913042Z",
     "iopub.status.busy": "2020-10-18T08:56:59.911904Z",
     "iopub.status.idle": "2020-10-18T08:56:59.918469Z",
     "shell.execute_reply": "2020-10-18T08:56:59.919825Z"
    },
    "papermill": {
     "duration": 0.061051,
     "end_time": "2020-10-18T08:56:59.920010",
     "exception": false,
     "start_time": "2020-10-18T08:56:59.858959",
     "status": "completed"
    },
    "tags": []
   },
   "outputs": [
    {
     "name": "stdout",
     "output_type": "stream",
     "text": [
      "Accuracy:  0.149\n"
     ]
    },
    {
     "name": "stderr",
     "output_type": "stream",
     "text": [
      "/opt/conda/lib/python3.7/site-packages/ipykernel_launcher.py:13: FutureWarning: Using a non-tuple sequence for multidimensional indexing is deprecated; use `arr[tuple(seq)]` instead of `arr[seq]`. In the future this will be interpreted as an array index, `arr[np.array(seq)]`, which will result either in an error or a different result.\n",
      "  del sys.path[0]\n"
     ]
    }
   ],
   "source": [
    "pred = classifier.predict(val_X)\n",
    "accuracy = multiclass_accuracy(pred, val_y)\n",
    "print(\"Accuracy: \", accuracy)"
   ]
  },
  {
   "cell_type": "markdown",
   "metadata": {
    "papermill": {
     "duration": 0.048251,
     "end_time": "2020-10-18T08:57:00.018837",
     "exception": false,
     "start_time": "2020-10-18T08:56:59.970586",
     "status": "completed"
    },
    "tags": []
   },
   "source": [
    "## # Now, let's train more and see if it performs better."
   ]
  },
  {
   "cell_type": "code",
   "execution_count": 31,
   "metadata": {
    "execution": {
     "iopub.execute_input": "2020-10-18T08:57:00.128561Z",
     "iopub.status.busy": "2020-10-18T08:57:00.127236Z",
     "iopub.status.idle": "2020-10-18T08:57:04.528229Z",
     "shell.execute_reply": "2020-10-18T08:57:04.528857Z"
    },
    "papermill": {
     "duration": 4.458491,
     "end_time": "2020-10-18T08:57:04.529022",
     "exception": false,
     "start_time": "2020-10-18T08:57:00.070531",
     "status": "completed"
    },
    "tags": []
   },
   "outputs": [
    {
     "name": "stdout",
     "output_type": "stream",
     "text": [
      "Accuracy after training for 100 epochs:  0.155\n"
     ]
    },
    {
     "name": "stderr",
     "output_type": "stream",
     "text": [
      "/opt/conda/lib/python3.7/site-packages/ipykernel_launcher.py:13: FutureWarning: Using a non-tuple sequence for multidimensional indexing is deprecated; use `arr[tuple(seq)]` instead of `arr[seq]`. In the future this will be interpreted as an array index, `arr[np.array(seq)]`, which will result either in an error or a different result.\n",
      "  del sys.path[0]\n"
     ]
    }
   ],
   "source": [
    "classifier.fit(train_X, train_y, epochs=100, learning_rate=1e-3, batch_size=300, reg=1e1)\n",
    "pred = classifier.predict(val_X)\n",
    "accuracy = multiclass_accuracy(pred, val_y)\n",
    "print(\"Accuracy after training for 100 epochs: \", accuracy)"
   ]
  },
  {
   "cell_type": "markdown",
   "metadata": {
    "papermill": {
     "duration": 0.049622,
     "end_time": "2020-10-18T08:57:04.628161",
     "exception": false,
     "start_time": "2020-10-18T08:57:04.578539",
     "status": "completed"
    },
    "tags": []
   },
   "source": [
    "## Cross-Validation"
   ]
  },
  {
   "cell_type": "code",
   "execution_count": 32,
   "metadata": {
    "execution": {
     "iopub.execute_input": "2020-10-18T08:57:04.739537Z",
     "iopub.status.busy": "2020-10-18T08:57:04.738290Z",
     "iopub.status.idle": "2020-10-18T08:58:26.447359Z",
     "shell.execute_reply": "2020-10-18T08:58:26.446450Z"
    },
    "papermill": {
     "duration": 81.769579,
     "end_time": "2020-10-18T08:58:26.447515",
     "exception": false,
     "start_time": "2020-10-18T08:57:04.677936",
     "status": "completed"
    },
    "tags": []
   },
   "outputs": [
    {
     "name": "stderr",
     "output_type": "stream",
     "text": [
      "/opt/conda/lib/python3.7/site-packages/ipykernel_launcher.py:13: FutureWarning: Using a non-tuple sequence for multidimensional indexing is deprecated; use `arr[tuple(seq)]` instead of `arr[seq]`. In the future this will be interpreted as an array index, `arr[np.array(seq)]`, which will result either in an error or a different result.\n",
      "  del sys.path[0]\n"
     ]
    }
   ],
   "source": [
    "num_epochs = 200\n",
    "batch_size = 300\n",
    "\n",
    "learning_rates = [1e-3, 1e-4, 1e-5]\n",
    "reg_strengths = [1e-4, 1e-5, 1e-6]\n",
    "\n",
    "accuracies = list()\n",
    "parameters = list()\n",
    "models = list()\n",
    "\n",
    "for lr in learning_rates:\n",
    "    for r in reg_strengths:\n",
    "        classifier = LinearSoftmaxClassifier()\n",
    "        loss_history = classifier.fit(train_X, train_y, epochs=num_epochs, learning_rate=lr, batch_size=300, reg=r)\n",
    "        pred = classifier.predict(val_X)\n",
    "        accuracy = multiclass_accuracy(pred, val_y)\n",
    "        accuracies.append(accuracy)\n",
    "        parameters.append((lr, r))\n",
    "        models.append(classifier)"
   ]
  },
  {
   "cell_type": "code",
   "execution_count": 33,
   "metadata": {
    "execution": {
     "iopub.execute_input": "2020-10-18T08:58:26.556612Z",
     "iopub.status.busy": "2020-10-18T08:58:26.555568Z",
     "iopub.status.idle": "2020-10-18T08:58:26.559583Z",
     "shell.execute_reply": "2020-10-18T08:58:26.560398Z"
    },
    "papermill": {
     "duration": 0.062762,
     "end_time": "2020-10-18T08:58:26.560598",
     "exception": false,
     "start_time": "2020-10-18T08:58:26.497836",
     "status": "completed"
    },
    "tags": []
   },
   "outputs": [
    {
     "name": "stdout",
     "output_type": "stream",
     "text": [
      "The best of accuracy on validatio data is 0.213 at learning rate 0.0001 and regulation strength 0.0001.\n"
     ]
    }
   ],
   "source": [
    "best_accuracy = max(accuracies)\n",
    "index_of_the_best = accuracies.index(best_accuracy)\n",
    "best_classifier = models[index_of_the_best]\n",
    "best_parameters = parameters[index_of_the_best]\n",
    "print(f'The best of accuracy on validatio data is {best_accuracy} at learning rate {best_parameters[0]} and regulation strength {best_parameters[1]}.')"
   ]
  },
  {
   "cell_type": "code",
   "execution_count": 34,
   "metadata": {
    "execution": {
     "iopub.execute_input": "2020-10-18T08:58:26.670469Z",
     "iopub.status.busy": "2020-10-18T08:58:26.669648Z",
     "iopub.status.idle": "2020-10-18T08:58:26.678444Z",
     "shell.execute_reply": "2020-10-18T08:58:26.679203Z"
    },
    "papermill": {
     "duration": 0.065956,
     "end_time": "2020-10-18T08:58:26.679390",
     "exception": false,
     "start_time": "2020-10-18T08:58:26.613434",
     "status": "completed"
    },
    "tags": []
   },
   "outputs": [
    {
     "name": "stdout",
     "output_type": "stream",
     "text": [
      "Linear softmax classifier test set accuracy: 0.212\n"
     ]
    },
    {
     "name": "stderr",
     "output_type": "stream",
     "text": [
      "/opt/conda/lib/python3.7/site-packages/ipykernel_launcher.py:13: FutureWarning: Using a non-tuple sequence for multidimensional indexing is deprecated; use `arr[tuple(seq)]` instead of `arr[seq]`. In the future this will be interpreted as an array index, `arr[np.array(seq)]`, which will result either in an error or a different result.\n",
      "  del sys.path[0]\n"
     ]
    }
   ],
   "source": [
    "test_pred = best_classifier.predict(test_X)\n",
    "test_accuracy = multiclass_accuracy(test_pred, test_y)\n",
    "print(f'Linear softmax classifier test set accuracy: {test_accuracy}')"
   ]
  }
 ],
 "metadata": {
  "kernelspec": {
   "display_name": "Python 3",
   "language": "python",
   "name": "python3"
  },
  "language_info": {
   "codemirror_mode": {
    "name": "ipython",
    "version": 3
   },
   "file_extension": ".py",
   "mimetype": "text/x-python",
   "name": "python",
   "nbconvert_exporter": "python",
   "pygments_lexer": "ipython3",
   "version": "3.7.6"
  },
  "papermill": {
   "duration": 98.414804,
   "end_time": "2020-10-18T08:58:26.840916",
   "environment_variables": {},
   "exception": null,
   "input_path": "__notebook__.ipynb",
   "output_path": "__notebook__.ipynb",
   "parameters": {},
   "start_time": "2020-10-18T08:56:48.426112",
   "version": "2.1.0"
  }
 },
 "nbformat": 4,
 "nbformat_minor": 4
}
