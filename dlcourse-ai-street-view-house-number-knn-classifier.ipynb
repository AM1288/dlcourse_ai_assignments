{
 "cells": [
  {
   "cell_type": "code",
   "execution_count": 1,
   "metadata": {
    "_cell_guid": "b1076dfc-b9ad-4769-8c92-a6c4dae69d19",
    "_uuid": "8f2839f25d086af736a60e9eeb907d3b93b6e0e5",
    "execution": {
     "iopub.execute_input": "2020-10-11T08:26:18.415434Z",
     "iopub.status.busy": "2020-10-11T08:26:18.414510Z",
     "iopub.status.idle": "2020-10-11T08:26:18.424787Z",
     "shell.execute_reply": "2020-10-11T08:26:18.423934Z"
    },
    "papermill": {
     "duration": 0.063557,
     "end_time": "2020-10-11T08:26:18.424925",
     "exception": false,
     "start_time": "2020-10-11T08:26:18.361368",
     "status": "completed"
    },
    "tags": []
   },
   "outputs": [
    {
     "name": "stdout",
     "output_type": "stream",
     "text": [
      "/kaggle/input/street-view-house-nos-h5-file/SVHN_single_grey1.h5\n"
     ]
    }
   ],
   "source": [
    "# This Python 3 environment comes with many helpful analytics libraries installed\n",
    "# It is defined by the kaggle/python Docker image: https://github.com/kaggle/docker-python\n",
    "# For example, here's several helpful packages to load\n",
    "\n",
    "import numpy as np # linear algebra\n",
    "import pandas as pd # data processing, CSV file I/O (e.g. pd.read_csv)\n",
    "\n",
    "# Input data files are available in the read-only \"../input/\" directory\n",
    "# For example, running this (by clicking run or pressing Shift+Enter) will list all files under the input directory\n",
    "\n",
    "import os\n",
    "for dirname, _, filenames in os.walk('/kaggle/input'):\n",
    "    for filename in filenames:\n",
    "        print(os.path.join(dirname, filename))\n",
    "\n",
    "# You can write up to 5GB to the current directory (/kaggle/working/) that gets preserved as output when you create a version using \"Save & Run All\" \n",
    "# You can also write temporary files to /kaggle/temp/, but they won't be saved outside of the current session"
   ]
  },
  {
   "cell_type": "code",
   "execution_count": 2,
   "metadata": {
    "_cell_guid": "79c7e3d0-c299-4dcb-8224-4455121ee9b0",
    "_uuid": "d629ff2d2480ee46fbb7e2d37f6b5fab8052498a",
    "execution": {
     "iopub.execute_input": "2020-10-11T08:26:18.518790Z",
     "iopub.status.busy": "2020-10-11T08:26:18.517950Z",
     "iopub.status.idle": "2020-10-11T08:26:19.635377Z",
     "shell.execute_reply": "2020-10-11T08:26:19.634693Z"
    },
    "papermill": {
     "duration": 1.16663,
     "end_time": "2020-10-11T08:26:19.635521",
     "exception": false,
     "start_time": "2020-10-11T08:26:18.468891",
     "status": "completed"
    },
    "tags": []
   },
   "outputs": [
    {
     "name": "stderr",
     "output_type": "stream",
     "text": [
      "/opt/conda/lib/python3.7/site-packages/ipykernel_launcher.py:4: H5pyDeprecationWarning: The default file mode will change to 'r' (read-only) in h5py 3.0. To suppress this warning, pass the mode you need to h5py.File(), or set the global default h5.get_config().default_file_mode, or set the environment variable H5PY_DEFAULT_READONLY=1. Available modes are: 'r', 'r+', 'w', 'w-'/'x', 'a'. See the docs for details.\n",
      "  after removing the cwd from sys.path.\n"
     ]
    }
   ],
   "source": [
    "import h5py\n",
    "filepath = '/kaggle/input/street-view-house-nos-h5-file/SVHN_single_grey1.h5'\n",
    "data = {}\n",
    "f = h5py.File(filepath)\n",
    "for k, v in f.items():\n",
    "    data[k] = np.array(v)"
   ]
  },
  {
   "cell_type": "code",
   "execution_count": 3,
   "metadata": {
    "execution": {
     "iopub.execute_input": "2020-10-11T08:26:19.733678Z",
     "iopub.status.busy": "2020-10-11T08:26:19.732559Z",
     "iopub.status.idle": "2020-10-11T08:26:19.737288Z",
     "shell.execute_reply": "2020-10-11T08:26:19.738175Z"
    },
    "papermill": {
     "duration": 0.059019,
     "end_time": "2020-10-11T08:26:19.738395",
     "exception": false,
     "start_time": "2020-10-11T08:26:19.679376",
     "status": "completed"
    },
    "tags": []
   },
   "outputs": [
    {
     "data": {
      "text/plain": [
       "dict_keys(['X_test', 'X_train', 'X_val', 'y_test', 'y_train', 'y_val'])"
      ]
     },
     "execution_count": 3,
     "metadata": {},
     "output_type": "execute_result"
    }
   ],
   "source": [
    "data.keys()"
   ]
  },
  {
   "cell_type": "code",
   "execution_count": 4,
   "metadata": {
    "execution": {
     "iopub.execute_input": "2020-10-11T08:26:19.841945Z",
     "iopub.status.busy": "2020-10-11T08:26:19.841117Z",
     "iopub.status.idle": "2020-10-11T08:26:19.853941Z",
     "shell.execute_reply": "2020-10-11T08:26:19.853318Z"
    },
    "papermill": {
     "duration": 0.066438,
     "end_time": "2020-10-11T08:26:19.854093",
     "exception": false,
     "start_time": "2020-10-11T08:26:19.787655",
     "status": "completed"
    },
    "tags": []
   },
   "outputs": [],
   "source": [
    "def shaffle_indexes(data, max_samples=2000, seed = 10):\n",
    "    np.random.seed(seed)\n",
    "    indexes = np.random.choice(np.arange(data.shape[0]),\n",
    "                               max_samples,\n",
    "                               replace=False)\n",
    "    return indexes\n",
    "\n",
    "\n",
    "train_X = data[\"X_train\"][shaffle_indexes(data[\"X_train\"])]\n",
    "train_y = data[\"y_train\"][shaffle_indexes(data[\"y_train\"])]\n",
    "test_X = data[\"X_test\"][shaffle_indexes(data[\"X_test\"], 200)]\n",
    "test_y = data[\"y_test\"][shaffle_indexes(data[\"y_test\"], 200)]\n",
    "test_y[test_y == 10] = 0"
   ]
  },
  {
   "cell_type": "code",
   "execution_count": 5,
   "metadata": {
    "execution": {
     "iopub.execute_input": "2020-10-11T08:26:19.950659Z",
     "iopub.status.busy": "2020-10-11T08:26:19.949578Z",
     "iopub.status.idle": "2020-10-11T08:26:19.954910Z",
     "shell.execute_reply": "2020-10-11T08:26:19.954270Z"
    },
    "papermill": {
     "duration": 0.05672,
     "end_time": "2020-10-11T08:26:19.955089",
     "exception": false,
     "start_time": "2020-10-11T08:26:19.898369",
     "status": "completed"
    },
    "tags": []
   },
   "outputs": [
    {
     "data": {
      "text/plain": [
       "(array([[125.0602, 126.0601, 126.946 , ..., 139.0111, 131.1259, 195.3951],\n",
       "        [118.1641, 117.6803, 116.9685, ..., 138.837 , 130.9518, 195.808 ],\n",
       "        [111.2402, 109.7565, 108.9307, ..., 139.065 , 131.0658, 195.808 ],\n",
       "        ...,\n",
       "        [ 98.0691, 103.0255, 110.5687, ..., 127.7519, 124.9802, 194.178 ],\n",
       "        [108.2099, 114.2802, 121.3504, ..., 131.9364, 128.7518, 196.0638],\n",
       "        [116.2199, 119.8066, 122.3503, ..., 134.0502, 130.2355, 196.3627]],\n",
       "       dtype=float32),\n",
       " array([8, 7, 1, 3, 3, 5, 3, 9, 5, 3], dtype=uint8))"
      ]
     },
     "execution_count": 5,
     "metadata": {},
     "output_type": "execute_result"
    }
   ],
   "source": [
    "train_X[0], train_y[:10]"
   ]
  },
  {
   "cell_type": "code",
   "execution_count": 6,
   "metadata": {
    "execution": {
     "iopub.execute_input": "2020-10-11T08:26:20.060929Z",
     "iopub.status.busy": "2020-10-11T08:26:20.059754Z",
     "iopub.status.idle": "2020-10-11T08:26:20.065150Z",
     "shell.execute_reply": "2020-10-11T08:26:20.064472Z"
    },
    "papermill": {
     "duration": 0.058639,
     "end_time": "2020-10-11T08:26:20.065296",
     "exception": false,
     "start_time": "2020-10-11T08:26:20.006657",
     "status": "completed"
    },
    "tags": []
   },
   "outputs": [
    {
     "data": {
      "text/plain": [
       "(array([[133.0173, 132.0174, 133.9032, ..., 121.9968, 122.9967, 124.2246],\n",
       "        [129.5446, 128.5447, 131.0175, ..., 123.1107, 123.2247, 123.3387],\n",
       "        [120.6595, 120.3606, 124.3602, ..., 119.2251, 119.3391, 119.752 ],\n",
       "        ...,\n",
       "        [ 98.8358, 101.8355, 110.8346, ...,  96.0857,  95.0858,  95.1998],\n",
       "        [122.7194, 122.7194, 128.6048, ..., 110.9702, 109.9703, 110.9702],\n",
       "        [145.7171, 143.1904, 144.0763, ..., 124.7408, 123.7409, 123.9689]],\n",
       "       dtype=float32),\n",
       " 5)"
      ]
     },
     "execution_count": 6,
     "metadata": {},
     "output_type": "execute_result"
    }
   ],
   "source": [
    "test_X[0], test_y[0]"
   ]
  },
  {
   "cell_type": "code",
   "execution_count": 7,
   "metadata": {
    "execution": {
     "iopub.execute_input": "2020-10-11T08:26:20.166588Z",
     "iopub.status.busy": "2020-10-11T08:26:20.165625Z",
     "iopub.status.idle": "2020-10-11T08:26:20.168867Z",
     "shell.execute_reply": "2020-10-11T08:26:20.168099Z"
    },
    "papermill": {
     "duration": 0.056361,
     "end_time": "2020-10-11T08:26:20.169004",
     "exception": false,
     "start_time": "2020-10-11T08:26:20.112643",
     "status": "completed"
    },
    "tags": []
   },
   "outputs": [],
   "source": [
    "import matplotlib.pyplot as plt\n",
    "%matplotlib inline"
   ]
  },
  {
   "cell_type": "code",
   "execution_count": 8,
   "metadata": {
    "execution": {
     "iopub.execute_input": "2020-10-11T08:26:20.270962Z",
     "iopub.status.busy": "2020-10-11T08:26:20.270149Z",
     "iopub.status.idle": "2020-10-11T08:26:22.372683Z",
     "shell.execute_reply": "2020-10-11T08:26:22.373309Z"
    },
    "papermill": {
     "duration": 2.158034,
     "end_time": "2020-10-11T08:26:22.373472",
     "exception": false,
     "start_time": "2020-10-11T08:26:20.215438",
     "status": "completed"
    },
    "tags": []
   },
   "outputs": [
    {
     "data": {
      "image/png": "[encoded data removed]",
      "text/plain": [
       "<Figure size 432x288 with 50 Axes>"
      ]
     },
     "metadata": {
      "needs_background": "light"
     },
     "output_type": "display_data"
    }
   ],
   "source": [
    "samples_per_class = 5  # Number of samples per class to visualize\n",
    "plot_index = 1\n",
    "for example_index in range(samples_per_class):\n",
    "    for class_index in range(10):\n",
    "        plt.subplot(5, 10, plot_index)\n",
    "        image = train_X[train_y == class_index][example_index]\n",
    "        plt.imshow(image.astype(np.uint8))\n",
    "        plt.axis('off')\n",
    "        plot_index += 1"
   ]
  },
  {
   "cell_type": "markdown",
   "metadata": {
    "papermill": {
     "duration": 0.04897,
     "end_time": "2020-10-11T08:26:22.473122",
     "exception": false,
     "start_time": "2020-10-11T08:26:22.424152",
     "status": "completed"
    },
    "tags": []
   },
   "source": [
    "## KNN (k nearest neighbor) for binary classification.\n",
    "Let's choose pictures with 0 and 9 labels only and train a model."
   ]
  },
  {
   "cell_type": "code",
   "execution_count": 9,
   "metadata": {
    "execution": {
     "iopub.execute_input": "2020-10-11T08:26:22.580881Z",
     "iopub.status.busy": "2020-10-11T08:26:22.579821Z",
     "iopub.status.idle": "2020-10-11T08:26:22.584103Z",
     "shell.execute_reply": "2020-10-11T08:26:22.584629Z"
    },
    "papermill": {
     "duration": 0.062128,
     "end_time": "2020-10-11T08:26:22.584788",
     "exception": false,
     "start_time": "2020-10-11T08:26:22.522660",
     "status": "completed"
    },
    "tags": []
   },
   "outputs": [],
   "source": [
    "binary_train_mask = (train_y == 0) | (train_y == 9) # make a boolean mask choosing only 0 or 9 labels\n",
    "binary_train_X = train_X[binary_train_mask] # applying boolean mask on train samples\n",
    "binary_train_y = train_y[binary_train_mask] == 0 # applying boolean mask on train labels and choosing\n",
    "                                                 # only 0 labels since it is bynary claasification.\n",
    "                                                 # If sample isn't 0, it is 9.\n",
    "\n",
    "binary_test_mask = (test_y == 0) | (test_y == 9)\n",
    "binary_test_X = test_X[binary_test_mask]\n",
    "binary_test_y = test_y[binary_test_mask] == 0\n",
    "\n",
    "# Reshape to 1-dimensional array [num_samples, 32*32*3]\n",
    "binary_train_X = binary_train_X.reshape(binary_train_X.shape[0], -1)\n",
    "binary_test_X = binary_test_X.reshape(binary_test_X.shape[0], -1)"
   ]
  },
  {
   "cell_type": "code",
   "execution_count": 10,
   "metadata": {
    "execution": {
     "iopub.execute_input": "2020-10-11T08:26:22.690812Z",
     "iopub.status.busy": "2020-10-11T08:26:22.689712Z",
     "iopub.status.idle": "2020-10-11T08:26:22.693692Z",
     "shell.execute_reply": "2020-10-11T08:26:22.694297Z"
    },
    "papermill": {
     "duration": 0.059894,
     "end_time": "2020-10-11T08:26:22.694465",
     "exception": false,
     "start_time": "2020-10-11T08:26:22.634571",
     "status": "completed"
    },
    "tags": []
   },
   "outputs": [
    {
     "data": {
      "text/plain": [
       "array([200.2357, 199.1218, 200.0077, ..., 165.0499, 142.1169, 119.1839],\n",
       "      dtype=float32)"
      ]
     },
     "execution_count": 10,
     "metadata": {},
     "output_type": "execute_result"
    }
   ],
   "source": [
    "binary_train_X[0]"
   ]
  },
  {
   "cell_type": "code",
   "execution_count": 11,
   "metadata": {
    "execution": {
     "iopub.execute_input": "2020-10-11T08:26:22.800972Z",
     "iopub.status.busy": "2020-10-11T08:26:22.799963Z",
     "iopub.status.idle": "2020-10-11T08:26:22.804998Z",
     "shell.execute_reply": "2020-10-11T08:26:22.804375Z"
    },
    "papermill": {
     "duration": 0.060861,
     "end_time": "2020-10-11T08:26:22.805166",
     "exception": false,
     "start_time": "2020-10-11T08:26:22.744305",
     "status": "completed"
    },
    "tags": []
   },
   "outputs": [
    {
     "data": {
      "text/plain": [
       "array([152.6868, 151.1923, 149.2356, ..., 127.9649, 134.0244, 141.0237],\n",
       "      dtype=float32)"
      ]
     },
     "execution_count": 11,
     "metadata": {},
     "output_type": "execute_result"
    }
   ],
   "source": [
    "binary_test_X[0]"
   ]
  },
  {
   "cell_type": "code",
   "execution_count": 12,
   "metadata": {
    "execution": {
     "iopub.execute_input": "2020-10-11T08:26:22.919519Z",
     "iopub.status.busy": "2020-10-11T08:26:22.918407Z",
     "iopub.status.idle": "2020-10-11T08:26:22.922987Z",
     "shell.execute_reply": "2020-10-11T08:26:22.922387Z"
    },
    "papermill": {
     "duration": 0.061569,
     "end_time": "2020-10-11T08:26:22.923139",
     "exception": false,
     "start_time": "2020-10-11T08:26:22.861570",
     "status": "completed"
    },
    "tags": []
   },
   "outputs": [
    {
     "data": {
      "text/plain": [
       "array([False,  True,  True, False,  True,  True,  True, False, False,\n",
       "        True,  True, False, False,  True,  True,  True,  True,  True,\n",
       "        True, False])"
      ]
     },
     "execution_count": 12,
     "metadata": {},
     "output_type": "execute_result"
    }
   ],
   "source": [
    "binary_train_y[:20]"
   ]
  },
  {
   "cell_type": "code",
   "execution_count": 13,
   "metadata": {
    "execution": {
     "iopub.execute_input": "2020-10-11T08:26:23.034980Z",
     "iopub.status.busy": "2020-10-11T08:26:23.033916Z",
     "iopub.status.idle": "2020-10-11T08:26:23.038293Z",
     "shell.execute_reply": "2020-10-11T08:26:23.038898Z"
    },
    "papermill": {
     "duration": 0.065052,
     "end_time": "2020-10-11T08:26:23.039060",
     "exception": false,
     "start_time": "2020-10-11T08:26:22.974008",
     "status": "completed"
    },
    "tags": []
   },
   "outputs": [
    {
     "data": {
      "text/plain": [
       "array([False,  True,  True,  True, False, False,  True,  True, False,\n",
       "        True, False,  True,  True, False,  True,  True,  True, False,\n",
       "       False, False])"
      ]
     },
     "execution_count": 13,
     "metadata": {},
     "output_type": "execute_result"
    }
   ],
   "source": [
    "binary_test_y[:20]"
   ]
  },
  {
   "cell_type": "markdown",
   "metadata": {
    "papermill": {
     "duration": 0.051128,
     "end_time": "2020-10-11T08:26:23.142883",
     "exception": false,
     "start_time": "2020-10-11T08:26:23.091755",
     "status": "completed"
    },
    "tags": []
   },
   "source": [
    "## Creating a KNN class"
   ]
  },
  {
   "cell_type": "code",
   "execution_count": 14,
   "metadata": {
    "execution": {
     "iopub.execute_input": "2020-10-11T08:26:23.282056Z",
     "iopub.status.busy": "2020-10-11T08:26:23.280886Z",
     "iopub.status.idle": "2020-10-11T08:26:23.283628Z",
     "shell.execute_reply": "2020-10-11T08:26:23.284179Z"
    },
    "papermill": {
     "duration": 0.089163,
     "end_time": "2020-10-11T08:26:23.284353",
     "exception": false,
     "start_time": "2020-10-11T08:26:23.195190",
     "status": "completed"
    },
    "tags": []
   },
   "outputs": [],
   "source": [
    "class KNN:\n",
    "    \"\"\"\n",
    "    K-neariest classifier using L1 loss (Manhattan distance)\n",
    "    \"\"\"\n",
    "    def __init__(self, k=1):\n",
    "        self.k = k\n",
    "        \n",
    "    def fit(self, X, y):\n",
    "        self.train_X = X\n",
    "        self.train_y = y\n",
    "    \n",
    "    def predict(self, X, num_loops=0):\n",
    "        \"\"\"\n",
    "        Uses KNN model to predict classes for the data samples provided.\n",
    "        \n",
    "        Args:\n",
    "            X (numpy array): an array of samples with certain number of features for prediction\n",
    "            to run through the model.\n",
    "            num_loops (int): which implementation to use.\n",
    "            \n",
    "        Returns:\n",
    "            predictions (numpy array): numpy array of int values for each predcited class.\n",
    "        \"\"\"\n",
    "        if num_loops == 0:\n",
    "            dists = self.compute_distances_no_loops(X)\n",
    "        elif num_loops == 1:\n",
    "            dists = self.compute_distances_one_loop(X)\n",
    "        else:\n",
    "            dists = self.compute_distances_two_loops(X)\n",
    "            \n",
    "        if self.train_y.dtype == np.bool:\n",
    "            return self.predict_labels_binary(dists)\n",
    "        else:\n",
    "            return self.predict_labels_multiclass(dists)\n",
    "        \n",
    "    def compute_distances_two_loops(self, X):\n",
    "        \"\"\"\n",
    "        Computes L1 distance (Manhattan distance) between every sample of X and every training sample.\n",
    "        Uses the simpliest implementation with two Pyhton loops.\n",
    "        \n",
    "        Args:\n",
    "            X (numpy array): an array of samples for computation.\n",
    "            \n",
    "        Returns:\n",
    "            dists (numpy array): an array with L1 distance between each test and train samples. \n",
    "        \"\"\"\n",
    "        num_train = self.train_X.shape[0]\n",
    "        num_test = X.shape[0]\n",
    "        dists = np.zeros((num_test, num_train), np.float32)\n",
    "        for i_test in range(num_test):\n",
    "            for i_train in range(num_train):\n",
    "                dists[i_test, i_train] = np.abs(self.train_X[i_train] - X[i_test]).sum()\n",
    "        return dists\n",
    "        \n",
    "    def compute_distances_one_loop(self, X):\n",
    "        \"\"\"\n",
    "        Computes L1 distance (Manhattan distance) between every sample of X and every training sample.\n",
    "        Vectorizes some calculations, so only one loop is used.\n",
    "        \n",
    "        Args:\n",
    "            X (numpy array): an array of samples for computation.\n",
    "            \n",
    "        Returns:\n",
    "            dists (numpy array): an array with L1 distance between each test and train samples. \n",
    "        \"\"\"\n",
    "        num_train = self.train_X.shape[0]\n",
    "        num_test = X.shape[0]\n",
    "        dists = np.zeros((num_test, num_train), np.float32)\n",
    "        for i_test in range(num_test):\n",
    "            dists[i_test] = np.abs(self.train_X - X[i_test]).sum(axis=1)\n",
    "        return dists\n",
    "    \n",
    "    def compute_distances_no_loops(self, X):\n",
    "        \"\"\"\n",
    "        Computes L1 distance (Manhattan distance) for between every X sample and training sample.\n",
    "        Fully vecrorises calculations.\n",
    "        \n",
    "        Args:\n",
    "            X (numpy array): an array of samples for computation.\n",
    "            \n",
    "        Returns:\n",
    "            dists (numpy array): an array with L1 distance between each test and train samples\n",
    "        \"\"\"\n",
    "        num_train = self.train_X.shape[0]\n",
    "        num_test = X.shape[0]\n",
    "        dists = np.zeros((num_test, num_train), np.float32) # np.float32 instead of np.float64 (default)\\\n",
    "                                                            # to save memory\n",
    "        dists = np.abs(X[:,np.newaxis,:] - self.train_X[np.newaxis,:,:]).sum(axis=2)\n",
    "        return dists\n",
    "    \n",
    "    def predict_labels_binary(self, dists):\n",
    "        \"\"\"\n",
    "        Returns model predictions for binary classfification case.\n",
    "        \n",
    "        Args:\n",
    "            dists (numpy array): an array of distances between each test and train samples.\n",
    "            \n",
    "        Returns:\n",
    "            pred (numby array of Bool): binary predictions for every test sample.\n",
    "        \"\"\"\n",
    "        num_test = dists.shape[0]\n",
    "        pred = np.zeros(num_test, np.bool)\n",
    "        if self.k == 1:\n",
    "            pred = self.train_y[np.argpartition(dists, 1)[:,: 1]].flatten()\n",
    "        else:\n",
    "            pred = (self.train_y[np.argpartition(dists, kth = self.k)[:,: self.k]]).mean(axis=1) > 0.5\n",
    "        return pred\n",
    "    \n",
    "    def predict_labels_multiclass(self, dists):\n",
    "        '''\n",
    "        Returns model predictions for multi-class classification case.\n",
    "        \n",
    "        Args:\n",
    "            dists (numpy array): an array of distances between each test and each train sample.\n",
    "        \n",
    "        Returns:\n",
    "            pred (numpy array of int): predicted class index for every test sample\n",
    "        '''\n",
    "        num_test = dists.shape[0]\n",
    "        pred = np.zeros(num_test, np.int)\n",
    "        k_neighbor_pred = self.train_y[np.argpartition(dists, kth = self.k)[:,: self.k]]\n",
    "        for i in range(num_test):\n",
    "            values, counts = np.unique(k_neighbor_pred[i, :], return_counts=True)\n",
    "            pred[i] = values[np.argmax(counts)]\n",
    "        return pred"
   ]
  },
  {
   "cell_type": "markdown",
   "metadata": {
    "papermill": {
     "duration": 0.051813,
     "end_time": "2020-10-11T08:26:23.388166",
     "exception": false,
     "start_time": "2020-10-11T08:26:23.336353",
     "status": "completed"
    },
    "tags": []
   },
   "source": [
    "## Let's create an instance of the KNN class and compare perforamance of different approaches for distances calculation."
   ]
  },
  {
   "cell_type": "code",
   "execution_count": 15,
   "metadata": {
    "execution": {
     "iopub.execute_input": "2020-10-11T08:26:23.514015Z",
     "iopub.status.busy": "2020-10-11T08:26:23.512903Z",
     "iopub.status.idle": "2020-10-11T08:26:23.517878Z",
     "shell.execute_reply": "2020-10-11T08:26:23.517057Z"
    },
    "papermill": {
     "duration": 0.075028,
     "end_time": "2020-10-11T08:26:23.518015",
     "exception": false,
     "start_time": "2020-10-11T08:26:23.442987",
     "status": "completed"
    },
    "tags": []
   },
   "outputs": [
    {
     "data": {
      "text/plain": [
       "array([200.2357, 199.1218, 200.0077, ..., 165.0499, 142.1169, 119.1839],\n",
       "      dtype=float32)"
      ]
     },
     "execution_count": 15,
     "metadata": {},
     "output_type": "execute_result"
    }
   ],
   "source": [
    "knn_classifier = KNN(k=1)\n",
    "knn_classifier.fit(binary_train_X, binary_train_y)\n",
    "knn_classifier.train_X[0]"
   ]
  },
  {
   "cell_type": "code",
   "execution_count": 16,
   "metadata": {
    "execution": {
     "iopub.execute_input": "2020-10-11T08:26:23.637850Z",
     "iopub.status.busy": "2020-10-11T08:26:23.636518Z",
     "iopub.status.idle": "2020-10-11T08:26:23.808621Z",
     "shell.execute_reply": "2020-10-11T08:26:23.807800Z"
    },
    "papermill": {
     "duration": 0.232884,
     "end_time": "2020-10-11T08:26:23.808785",
     "exception": false,
     "start_time": "2020-10-11T08:26:23.575901",
     "status": "completed"
    },
    "tags": []
   },
   "outputs": [],
   "source": [
    "dists = knn_classifier.compute_distances_two_loops(binary_test_X)\n",
    "assert np.isclose(dists[0, 10], np.sum(np.abs(binary_test_X[0] - binary_train_X[10])))"
   ]
  },
  {
   "cell_type": "code",
   "execution_count": 17,
   "metadata": {
    "execution": {
     "iopub.execute_input": "2020-10-11T08:26:23.927226Z",
     "iopub.status.busy": "2020-10-11T08:26:23.926454Z",
     "iopub.status.idle": "2020-10-11T08:26:24.013280Z",
     "shell.execute_reply": "2020-10-11T08:26:24.012585Z"
    },
    "papermill": {
     "duration": 0.145441,
     "end_time": "2020-10-11T08:26:24.013419",
     "exception": false,
     "start_time": "2020-10-11T08:26:23.867978",
     "status": "completed"
    },
    "tags": []
   },
   "outputs": [],
   "source": [
    "dists = knn_classifier.compute_distances_one_loop(binary_test_X)\n",
    "assert np.isclose(dists[0, 10], np.sum(np.abs(binary_test_X[0] - binary_train_X[10])))"
   ]
  },
  {
   "cell_type": "code",
   "execution_count": 18,
   "metadata": {
    "execution": {
     "iopub.execute_input": "2020-10-11T08:26:24.127441Z",
     "iopub.status.busy": "2020-10-11T08:26:24.126641Z",
     "iopub.status.idle": "2020-10-11T08:26:24.183769Z",
     "shell.execute_reply": "2020-10-11T08:26:24.183144Z"
    },
    "papermill": {
     "duration": 0.11614,
     "end_time": "2020-10-11T08:26:24.183904",
     "exception": false,
     "start_time": "2020-10-11T08:26:24.067764",
     "status": "completed"
    },
    "tags": []
   },
   "outputs": [],
   "source": [
    "dists = knn_classifier.compute_distances_no_loops(binary_test_X)\n",
    "assert np.isclose(dists[0, 10], np.sum(np.abs(binary_test_X[0] - binary_train_X[10])))"
   ]
  },
  {
   "cell_type": "code",
   "execution_count": 19,
   "metadata": {
    "execution": {
     "iopub.execute_input": "2020-10-11T08:26:24.301317Z",
     "iopub.status.busy": "2020-10-11T08:26:24.300555Z",
     "iopub.status.idle": "2020-10-11T08:26:48.820759Z",
     "shell.execute_reply": "2020-10-11T08:26:48.819954Z"
    },
    "papermill": {
     "duration": 24.58354,
     "end_time": "2020-10-11T08:26:48.820888",
     "exception": false,
     "start_time": "2020-10-11T08:26:24.237348",
     "status": "completed"
    },
    "tags": []
   },
   "outputs": [
    {
     "name": "stdout",
     "output_type": "stream",
     "text": [
      "170 ms ± 5.71 ms per loop (mean ± std. dev. of 7 runs, 10 loops each)\n",
      "82.2 ms ± 1.41 ms per loop (mean ± std. dev. of 7 runs, 10 loops each)\n",
      "51.9 ms ± 524 µs per loop (mean ± std. dev. of 7 runs, 10 loops each)\n"
     ]
    }
   ],
   "source": [
    "%timeit knn_classifier.compute_distances_two_loops(binary_test_X)\n",
    "%timeit knn_classifier.compute_distances_one_loop(binary_test_X)\n",
    "%timeit knn_classifier.compute_distances_no_loops(binary_test_X)"
   ]
  },
  {
   "cell_type": "code",
   "execution_count": 20,
   "metadata": {
    "execution": {
     "iopub.execute_input": "2020-10-11T08:26:48.937645Z",
     "iopub.status.busy": "2020-10-11T08:26:48.936033Z",
     "iopub.status.idle": "2020-10-11T08:26:48.996045Z",
     "shell.execute_reply": "2020-10-11T08:26:48.995246Z"
    },
    "papermill": {
     "duration": 0.120283,
     "end_time": "2020-10-11T08:26:48.996212",
     "exception": false,
     "start_time": "2020-10-11T08:26:48.875929",
     "status": "completed"
    },
    "tags": []
   },
   "outputs": [
    {
     "data": {
      "text/plain": [
       "array([ True,  True,  True, False, False, False, False,  True,  True,\n",
       "        True,  True, False,  True,  True, False, False,  True,  True,\n",
       "       False,  True])"
      ]
     },
     "execution_count": 20,
     "metadata": {},
     "output_type": "execute_result"
    }
   ],
   "source": [
    "prediction = knn_classifier.predict(binary_test_X)\n",
    "prediction[:20]"
   ]
  },
  {
   "cell_type": "code",
   "execution_count": 21,
   "metadata": {
    "execution": {
     "iopub.execute_input": "2020-10-11T08:26:49.121859Z",
     "iopub.status.busy": "2020-10-11T08:26:49.120028Z",
     "iopub.status.idle": "2020-10-11T08:26:49.125651Z",
     "shell.execute_reply": "2020-10-11T08:26:49.124877Z"
    },
    "papermill": {
     "duration": 0.071429,
     "end_time": "2020-10-11T08:26:49.125787",
     "exception": false,
     "start_time": "2020-10-11T08:26:49.054358",
     "status": "completed"
    },
    "tags": []
   },
   "outputs": [],
   "source": [
    "def binary_classification_metrics(prediction, ground_truth):\n",
    "    '''\n",
    "    Computes metrics for binary classification.\n",
    "    \n",
    "    Args:\n",
    "        prediction (numpy array of bool): model predictions.\n",
    "        ground_truth (numpy array of bool): true labels.\n",
    "        \n",
    "    Returns:\n",
    "        precision, recall, f1, accuracy: classification metrics\n",
    "    '''\n",
    "    precision = 0\n",
    "    recall = 0\n",
    "    accuracy = 0\n",
    "    f1 = 0\n",
    "    \n",
    "    precision = np.logical_and(prediction, ground_truth).sum() / prediction.sum()\n",
    "    recall = np.logical_and(prediction, ground_truth).sum() / ground_truth.sum()\n",
    "    f1 = 2 / (1 / precision + 1 / recall)\n",
    "    accuracy = (np.logical_and(np.invert(prediction), np.invert(prediction)).sum() +\n",
    "                np.logical_and(prediction, ground_truth).sum())/len(prediction)\n",
    "    \n",
    "    return precision, recall, f1, accuracy"
   ]
  },
  {
   "cell_type": "code",
   "execution_count": 22,
   "metadata": {
    "execution": {
     "iopub.execute_input": "2020-10-11T08:26:49.246837Z",
     "iopub.status.busy": "2020-10-11T08:26:49.245889Z",
     "iopub.status.idle": "2020-10-11T08:26:49.250208Z",
     "shell.execute_reply": "2020-10-11T08:26:49.249450Z"
    },
    "papermill": {
     "duration": 0.067603,
     "end_time": "2020-10-11T08:26:49.250358",
     "exception": false,
     "start_time": "2020-10-11T08:26:49.182755",
     "status": "completed"
    },
    "tags": []
   },
   "outputs": [
    {
     "name": "stdout",
     "output_type": "stream",
     "text": [
      "KNN with k = 1.\n",
      "Accuracy: 0.66, Precision: 0.44, Recall: 0.60, F1: 0.51.\n"
     ]
    }
   ],
   "source": [
    "precision, recall, f1, accuracy = binary_classification_metrics(prediction, binary_test_y)\n",
    "print(f\"KNN with k = {knn_classifier.k}.\")\n",
    "print(f'Accuracy: {format(accuracy, \".2f\")}, Precision: {format(precision, \".2f\")}, Recall: {format(recall, \".2f\")}, F1: {format(f1, \".2f\")}.')"
   ]
  },
  {
   "cell_type": "code",
   "execution_count": 23,
   "metadata": {
    "execution": {
     "iopub.execute_input": "2020-10-11T08:26:49.368937Z",
     "iopub.status.busy": "2020-10-11T08:26:49.368173Z",
     "iopub.status.idle": "2020-10-11T08:26:49.425761Z",
     "shell.execute_reply": "2020-10-11T08:26:49.425142Z"
    },
    "papermill": {
     "duration": 0.119465,
     "end_time": "2020-10-11T08:26:49.425896",
     "exception": false,
     "start_time": "2020-10-11T08:26:49.306431",
     "status": "completed"
    },
    "tags": []
   },
   "outputs": [
    {
     "data": {
      "text/plain": [
       "array([False,  True, False, False, False,  True,  True,  True, False,\n",
       "        True,  True, False,  True, False, False, False,  True,  True,\n",
       "       False,  True,  True,  True,  True,  True, False,  True, False,\n",
       "        True, False,  True, False,  True,  True,  True,  True, False,\n",
       "        True, False,  True, False,  True,  True, False,  True])"
      ]
     },
     "execution_count": 23,
     "metadata": {},
     "output_type": "execute_result"
    }
   ],
   "source": [
    "knn_classifier_3 = KNN(k=3)\n",
    "knn_classifier_3.fit(binary_train_X, binary_train_y)\n",
    "prediction = knn_classifier_3.predict(binary_test_X)\n",
    "prediction"
   ]
  },
  {
   "cell_type": "code",
   "execution_count": 24,
   "metadata": {
    "execution": {
     "iopub.execute_input": "2020-10-11T08:26:49.545819Z",
     "iopub.status.busy": "2020-10-11T08:26:49.544858Z",
     "iopub.status.idle": "2020-10-11T08:26:49.549328Z",
     "shell.execute_reply": "2020-10-11T08:26:49.548507Z"
    },
    "papermill": {
     "duration": 0.067095,
     "end_time": "2020-10-11T08:26:49.549466",
     "exception": false,
     "start_time": "2020-10-11T08:26:49.482371",
     "status": "completed"
    },
    "tags": []
   },
   "outputs": [
    {
     "name": "stdout",
     "output_type": "stream",
     "text": [
      "KNN with k = 3.\n",
      "Accuracy: 0.70, Precision: 0.50, Recall: 0.65, F1: 0.57.\n"
     ]
    }
   ],
   "source": [
    "precision, recall, f1, accuracy = binary_classification_metrics(prediction, binary_test_y)\n",
    "print(f\"KNN with k = {knn_classifier_3.k}.\")\n",
    "print(f'Accuracy: {format(accuracy, \".2f\")}, Precision: {format(precision, \".2f\")}, Recall: {format(recall, \".2f\")}, F1: {format(f1, \".2f\")}.')"
   ]
  },
  {
   "cell_type": "markdown",
   "metadata": {
    "papermill": {
     "duration": 0.056654,
     "end_time": "2020-10-11T08:26:49.663353",
     "exception": false,
     "start_time": "2020-10-11T08:26:49.606699",
     "status": "completed"
    },
    "tags": []
   },
   "source": [
    "# Multiclass classification"
   ]
  },
  {
   "cell_type": "code",
   "execution_count": 25,
   "metadata": {
    "execution": {
     "iopub.execute_input": "2020-10-11T08:26:49.786816Z",
     "iopub.status.busy": "2020-10-11T08:26:49.785885Z",
     "iopub.status.idle": "2020-10-11T08:26:49.789579Z",
     "shell.execute_reply": "2020-10-11T08:26:49.788775Z"
    },
    "papermill": {
     "duration": 0.068712,
     "end_time": "2020-10-11T08:26:49.789716",
     "exception": false,
     "start_time": "2020-10-11T08:26:49.721004",
     "status": "completed"
    },
    "tags": []
   },
   "outputs": [],
   "source": [
    "train_X = train_X.reshape(train_X.shape[0], -1)\n",
    "test_X = test_X.reshape(test_X.shape[0], -1)\n",
    "\n",
    "knn_classifier = KNN(k=1)\n",
    "knn_classifier.fit(train_X, train_y)"
   ]
  },
  {
   "cell_type": "code",
   "execution_count": 26,
   "metadata": {
    "execution": {
     "iopub.execute_input": "2020-10-11T08:26:49.913024Z",
     "iopub.status.busy": "2020-10-11T08:26:49.912191Z",
     "iopub.status.idle": "2020-10-11T08:26:52.275145Z",
     "shell.execute_reply": "2020-10-11T08:26:52.274308Z"
    },
    "papermill": {
     "duration": 2.426398,
     "end_time": "2020-10-11T08:26:52.275306",
     "exception": false,
     "start_time": "2020-10-11T08:26:49.848908",
     "status": "completed"
    },
    "tags": []
   },
   "outputs": [
    {
     "data": {
      "text/plain": [
       "array([5, 0, 1, 8, 3, 3, 3, 8, 2, 1, 8, 8, 0, 6, 9, 1, 4, 0, 1, 7, 5, 3,\n",
       "       5, 5, 9, 9, 5, 6, 9, 9, 7, 3, 1, 8, 6, 8, 4, 7, 6, 7, 5, 2, 3, 2,\n",
       "       6, 5, 2, 8, 6, 6, 3, 1, 6, 0, 7, 6, 6, 3, 7, 8, 1, 6, 0, 2, 2, 8,\n",
       "       1, 2, 5, 4, 6, 5, 2, 2, 3, 4, 0, 1, 7, 5, 2, 8, 4, 0, 8, 1, 6, 7,\n",
       "       1, 2, 9, 6, 3, 0, 4, 4, 4, 9, 7, 4, 3, 3, 1, 5, 6, 8, 1, 6, 5, 1,\n",
       "       0, 0, 3, 1, 0, 2, 6, 8, 5, 4, 6, 2, 7, 6, 1, 3, 7, 0, 1, 1, 3, 9,\n",
       "       6, 9, 8, 4, 0, 0, 2, 2, 0, 4, 9, 4, 4, 2, 3, 6, 3, 6, 6, 9, 7, 4,\n",
       "       2, 7, 0, 2, 3, 3, 0, 8, 5, 9, 7, 5, 8, 9, 4, 5, 4, 9, 4, 4, 9, 6,\n",
       "       6, 2, 0, 3, 4, 5, 8, 8, 4, 7, 1, 3, 1, 7, 5, 9, 7, 9, 4, 3, 0, 6,\n",
       "       9, 7])"
      ]
     },
     "execution_count": 26,
     "metadata": {},
     "output_type": "execute_result"
    }
   ],
   "source": [
    "predict = knn_classifier.predict(test_X)\n",
    "predict"
   ]
  },
  {
   "cell_type": "code",
   "execution_count": 27,
   "metadata": {
    "execution": {
     "iopub.execute_input": "2020-10-11T08:26:52.399481Z",
     "iopub.status.busy": "2020-10-11T08:26:52.398486Z",
     "iopub.status.idle": "2020-10-11T08:26:52.400976Z",
     "shell.execute_reply": "2020-10-11T08:26:52.401636Z"
    },
    "papermill": {
     "duration": 0.068594,
     "end_time": "2020-10-11T08:26:52.401803",
     "exception": false,
     "start_time": "2020-10-11T08:26:52.333209",
     "status": "completed"
    },
    "tags": []
   },
   "outputs": [],
   "source": [
    "def multiclass_accuracy(prediction, ground_truth):\n",
    "    '''\n",
    "    Computes metrics for multiclass classification.\n",
    "    \n",
    "    Args:\n",
    "        prediction (numpy array of int): model predictions.\n",
    "        ground_truth (numpy array of int): true labels.\n",
    "        \n",
    "    Returns:\n",
    "        accuracy: ratio of accurate predictions to total samples.\n",
    "    '''\n",
    "    confusion_matrix = np.zeros((10,10), np.int)\n",
    "    np.add.at(confusion_matrix, [prediction, ground_truth], 1)\n",
    "    accuracy = np.trace(confusion_matrix) / confusion_matrix.sum()\n",
    "    return accuracy"
   ]
  },
  {
   "cell_type": "code",
   "execution_count": 28,
   "metadata": {
    "execution": {
     "iopub.execute_input": "2020-10-11T08:26:52.525003Z",
     "iopub.status.busy": "2020-10-11T08:26:52.524060Z",
     "iopub.status.idle": "2020-10-11T08:26:52.529495Z",
     "shell.execute_reply": "2020-10-11T08:26:52.528837Z"
    },
    "papermill": {
     "duration": 0.069286,
     "end_time": "2020-10-11T08:26:52.529636",
     "exception": false,
     "start_time": "2020-10-11T08:26:52.460350",
     "status": "completed"
    },
    "tags": []
   },
   "outputs": [
    {
     "name": "stdout",
     "output_type": "stream",
     "text": [
      "Accuracy: 0.20.\n"
     ]
    },
    {
     "name": "stderr",
     "output_type": "stream",
     "text": [
      "/opt/conda/lib/python3.7/site-packages/ipykernel_launcher.py:13: FutureWarning: Using a non-tuple sequence for multidimensional indexing is deprecated; use `arr[tuple(seq)]` instead of `arr[seq]`. In the future this will be interpreted as an array index, `arr[np.array(seq)]`, which will result either in an error or a different result.\n",
      "  del sys.path[0]\n"
     ]
    }
   ],
   "source": [
    "accuracy = multiclass_accuracy(predict, test_y)\n",
    "print(f'Accuracy: {format(accuracy, \".2f\")}.')"
   ]
  },
  {
   "cell_type": "markdown",
   "metadata": {
    "papermill": {
     "duration": 0.058358,
     "end_time": "2020-10-11T08:26:52.646796",
     "exception": false,
     "start_time": "2020-10-11T08:26:52.588438",
     "status": "completed"
    },
    "tags": []
   },
   "source": [
    "## Let's find the best k using cross-validation based on accuracy"
   ]
  },
  {
   "cell_type": "markdown",
   "metadata": {
    "papermill": {
     "duration": 0.059941,
     "end_time": "2020-10-11T08:26:52.765352",
     "exception": false,
     "start_time": "2020-10-11T08:26:52.705411",
     "status": "completed"
    },
    "tags": []
   },
   "source": [
    "In k-fold cross-validation, the original sample is randomly partitioned into k equal sized subsamples. Of the k subsamples, a single subsample is retained as the validation data for testing the model, and the remaining k − 1 subsamples are used as training data. The cross-validation process is then repeated k times, with each of the k subsamples used exactly once as the validation data."
   ]
  },
  {
   "cell_type": "code",
   "execution_count": 29,
   "metadata": {
    "execution": {
     "iopub.execute_input": "2020-10-11T08:26:52.891543Z",
     "iopub.status.busy": "2020-10-11T08:26:52.890645Z",
     "iopub.status.idle": "2020-10-11T08:26:52.894161Z",
     "shell.execute_reply": "2020-10-11T08:26:52.894892Z"
    },
    "papermill": {
     "duration": 0.070966,
     "end_time": "2020-10-11T08:26:52.895105",
     "exception": false,
     "start_time": "2020-10-11T08:26:52.824139",
     "status": "completed"
    },
    "tags": []
   },
   "outputs": [],
   "source": [
    "num_folds = 5\n",
    "train_folds_X = []\n",
    "train_folds_y = []\n",
    "\n",
    "fold_length = len(train_X) // num_folds\n",
    "for f in range(num_folds):\n",
    "    train_folds_X.append(train_X[f * fold_length : (f + 1) * fold_length, :])\n",
    "    train_folds_y.append(train_y[f * fold_length : (f + 1) * fold_length])"
   ]
  },
  {
   "cell_type": "code",
   "execution_count": 30,
   "metadata": {
    "execution": {
     "iopub.execute_input": "2020-10-11T08:26:53.026495Z",
     "iopub.status.busy": "2020-10-11T08:26:53.025642Z",
     "iopub.status.idle": "2020-10-11T08:26:53.029392Z",
     "shell.execute_reply": "2020-10-11T08:26:53.029914Z"
    },
    "papermill": {
     "duration": 0.071556,
     "end_time": "2020-10-11T08:26:53.030096",
     "exception": false,
     "start_time": "2020-10-11T08:26:52.958540",
     "status": "completed"
    },
    "tags": []
   },
   "outputs": [
    {
     "data": {
      "text/plain": [
       "(400, 1024)"
      ]
     },
     "execution_count": 30,
     "metadata": {},
     "output_type": "execute_result"
    }
   ],
   "source": [
    "train_folds_X[4].shape"
   ]
  },
  {
   "cell_type": "code",
   "execution_count": 31,
   "metadata": {
    "execution": {
     "iopub.execute_input": "2020-10-11T08:26:53.167293Z",
     "iopub.status.busy": "2020-10-11T08:26:53.166471Z",
     "iopub.status.idle": "2020-10-11T08:28:48.858234Z",
     "shell.execute_reply": "2020-10-11T08:28:48.858896Z"
    },
    "papermill": {
     "duration": 115.766767,
     "end_time": "2020-10-11T08:28:48.859116",
     "exception": false,
     "start_time": "2020-10-11T08:26:53.092349",
     "status": "completed"
    },
    "tags": []
   },
   "outputs": [
    {
     "name": "stderr",
     "output_type": "stream",
     "text": [
      "/opt/conda/lib/python3.7/site-packages/ipykernel_launcher.py:13: FutureWarning: Using a non-tuple sequence for multidimensional indexing is deprecated; use `arr[tuple(seq)]` instead of `arr[seq]`. In the future this will be interpreted as an array index, `arr[np.array(seq)]`, which will result either in an error or a different result.\n",
      "  del sys.path[0]\n"
     ]
    },
    {
     "name": "stdout",
     "output_type": "stream",
     "text": [
      "k = 1, accuracy = 0.255\n",
      "k = 2, accuracy = 0.235\n",
      "k = 3, accuracy = 0.253\n",
      "k = 5, accuracy = 0.241\n",
      "k = 8, accuracy = 0.248\n",
      "k = 10, accuracy = 0.256\n",
      "k = 15, accuracy = 0.259\n",
      "k = 20, accuracy = 0.269\n",
      "k = 25, accuracy = 0.262\n",
      "k = 50, accuracy = 0.241\n"
     ]
    }
   ],
   "source": [
    "k_choices = [1, 2, 3, 5, 8, 10, 15, 20, 25, 50]\n",
    "k_to_accuracy = {}\n",
    "\n",
    "for k in k_choices:\n",
    "    k_fold_accuracy = list()\n",
    "    knn_classifier = KNN(k)\n",
    "    for f in range(num_folds):\n",
    "        train_X = np.vstack([train_folds_X[i] for i in range(num_folds) if i != f])\n",
    "        train_X = train_X.reshape(train_X.shape[0], -1)\n",
    "        train_y = np.hstack([train_folds_y[i] for i in range(num_folds) if i != f])\n",
    "        test_X = train_folds_X[f].reshape(train_folds_X[f].shape[0], -1)\n",
    "        test_y = train_folds_y[f]\n",
    "        \n",
    "        knn_classifier.fit(train_X, train_y)\n",
    "        predict = knn_classifier.predict(test_X)\n",
    "        accuracy = multiclass_accuracy(predict, test_y)\n",
    "        k_fold_accuracy.append(accuracy)\n",
    "    k_to_accuracy[k] = np.mean(k_fold_accuracy)\n",
    "\n",
    "for k in sorted(k_to_accuracy):\n",
    "    print(f'k = {format(k, \"d\")}, accuracy = {format(k_to_accuracy[k], \".3f\")}')"
   ]
  },
  {
   "cell_type": "code",
   "execution_count": 32,
   "metadata": {
    "execution": {
     "iopub.execute_input": "2020-10-11T08:28:48.995780Z",
     "iopub.status.busy": "2020-10-11T08:28:48.994842Z",
     "iopub.status.idle": "2020-10-11T08:28:49.214376Z",
     "shell.execute_reply": "2020-10-11T08:28:49.213621Z"
    },
    "papermill": {
     "duration": 0.292719,
     "end_time": "2020-10-11T08:28:49.214511",
     "exception": false,
     "start_time": "2020-10-11T08:28:48.921792",
     "status": "completed"
    },
    "tags": []
   },
   "outputs": [
    {
     "data": {
      "text/plain": [
       "Text(0, 0.5, 'Accuracy.')"
      ]
     },
     "execution_count": 32,
     "metadata": {},
     "output_type": "execute_result"
    },
    {
     "data": {
      "image/png": "[encoded data removed]",
      "text/plain": [
       "<Figure size 432x288 with 1 Axes>"
      ]
     },
     "metadata": {
      "needs_background": "light"
     },
     "output_type": "display_data"
    }
   ],
   "source": [
    "plt.plot(list(k_to_accuracy.keys()), list(k_to_accuracy.values()))\n",
    "plt.xlabel(\"Number of neighbors.\")\n",
    "plt.ylabel(\"Accuracy.\")"
   ]
  },
  {
   "cell_type": "markdown",
   "metadata": {
    "papermill": {
     "duration": 0.06294,
     "end_time": "2020-10-11T08:28:49.341211",
     "exception": false,
     "start_time": "2020-10-11T08:28:49.278271",
     "status": "completed"
    },
    "tags": []
   },
   "source": [
    "## Finally we'll implement the best k on our test dataset."
   ]
  },
  {
   "cell_type": "code",
   "execution_count": 33,
   "metadata": {
    "execution": {
     "iopub.execute_input": "2020-10-11T08:28:49.475089Z",
     "iopub.status.busy": "2020-10-11T08:28:49.474258Z",
     "iopub.status.idle": "2020-10-11T08:28:51.737233Z",
     "shell.execute_reply": "2020-10-11T08:28:51.737824Z"
    },
    "papermill": {
     "duration": 2.333194,
     "end_time": "2020-10-11T08:28:51.737994",
     "exception": false,
     "start_time": "2020-10-11T08:28:49.404800",
     "status": "completed"
    },
    "tags": []
   },
   "outputs": [
    {
     "name": "stdout",
     "output_type": "stream",
     "text": [
      "Accuracy: 0.282.\n"
     ]
    },
    {
     "name": "stderr",
     "output_type": "stream",
     "text": [
      "/opt/conda/lib/python3.7/site-packages/ipykernel_launcher.py:13: FutureWarning: Using a non-tuple sequence for multidimensional indexing is deprecated; use `arr[tuple(seq)]` instead of `arr[seq]`. In the future this will be interpreted as an array index, `arr[np.array(seq)]`, which will result either in an error or a different result.\n",
      "  del sys.path[0]\n"
     ]
    }
   ],
   "source": [
    "best_k = 20\n",
    "\n",
    "best_knn_classifier = KNN(k=best_k)\n",
    "best_knn_classifier.fit(train_X, train_y)\n",
    "prediction = best_knn_classifier.predict(test_X)\n",
    "\n",
    "accuracy = multiclass_accuracy(prediction, test_y)\n",
    "print(f'Accuracy: {format(accuracy, \".3f\")}.')"
   ]
  },
  {
   "cell_type": "markdown",
   "metadata": {
    "papermill": {
     "duration": 0.06388,
     "end_time": "2020-10-11T08:28:51.865516",
     "exception": false,
     "start_time": "2020-10-11T08:28:51.801636",
     "status": "completed"
    },
    "tags": []
   },
   "source": [
    "# Notes."
   ]
  },
  {
   "cell_type": "markdown",
   "metadata": {
    "papermill": {
     "duration": 0.064019,
     "end_time": "2020-10-11T08:28:51.992902",
     "exception": false,
     "start_time": "2020-10-11T08:28:51.928883",
     "status": "completed"
    },
    "tags": []
   },
   "source": [
    "# Broadcasting in Numpy and argspartition to find k elements with a smallest distances (L1).\n",
    "\n",
    "> The term broadcasting describes how numpy treats arrays with different shapes during arithmetic operations. Subject to certain constraints, the smaller array is “broadcast” across the larger array so that they have compatible shapes. Broadcasting provides a means of vectorizing array operations so that looping occurs in C instead of Python.\n",
    "\n",
    "You can look at the term \"broadcating\" [here](https://numpy.org/doc/stable/user/basics.broadcasting.html).\n",
    "Let's see an example below."
   ]
  },
  {
   "cell_type": "markdown",
   "metadata": {
    "papermill": {
     "duration": 0.064932,
     "end_time": "2020-10-11T08:28:52.124972",
     "exception": false,
     "start_time": "2020-10-11T08:28:52.060040",
     "status": "completed"
    },
    "tags": []
   },
   "source": [
    "We'll create two 2D arrays (x, y) having diferent number of rows but the same number of columns."
   ]
  },
  {
   "cell_type": "code",
   "execution_count": 34,
   "metadata": {
    "execution": {
     "iopub.execute_input": "2020-10-11T08:28:52.263721Z",
     "iopub.status.busy": "2020-10-11T08:28:52.262451Z",
     "iopub.status.idle": "2020-10-11T08:28:52.267768Z",
     "shell.execute_reply": "2020-10-11T08:28:52.266981Z"
    },
    "papermill": {
     "duration": 0.077309,
     "end_time": "2020-10-11T08:28:52.267902",
     "exception": false,
     "start_time": "2020-10-11T08:28:52.190593",
     "status": "completed"
    },
    "tags": []
   },
   "outputs": [
    {
     "data": {
      "text/plain": [
       "array([[ 1.,  2.,  3.,  4.,  5.,  6.],\n",
       "       [ 7.,  8.,  9., 10., 11., 12.],\n",
       "       [13., 14., 15., 16., 17., 18.],\n",
       "       [19., 20., 21., 22., 23., 24.],\n",
       "       [25., 26., 27., 28., 29., 30.]])"
      ]
     },
     "execution_count": 34,
     "metadata": {},
     "output_type": "execute_result"
    }
   ],
   "source": [
    "x = np.array(np.linspace(1,30, 30)).reshape(5,-1)\n",
    "x"
   ]
  },
  {
   "cell_type": "code",
   "execution_count": 35,
   "metadata": {
    "execution": {
     "iopub.execute_input": "2020-10-11T08:28:52.406909Z",
     "iopub.status.busy": "2020-10-11T08:28:52.405971Z",
     "iopub.status.idle": "2020-10-11T08:28:52.411106Z",
     "shell.execute_reply": "2020-10-11T08:28:52.410356Z"
    },
    "papermill": {
     "duration": 0.077218,
     "end_time": "2020-10-11T08:28:52.411239",
     "exception": false,
     "start_time": "2020-10-11T08:28:52.334021",
     "status": "completed"
    },
    "tags": []
   },
   "outputs": [
    {
     "data": {
      "text/plain": [
       "array([[ 1.,  2.,  3.,  4.,  5.,  6.],\n",
       "       [ 7.,  8.,  9., 10., 11., 12.],\n",
       "       [13., 14., 15., 16., 17., 18.]])"
      ]
     },
     "execution_count": 35,
     "metadata": {},
     "output_type": "execute_result"
    }
   ],
   "source": [
    "y = np.array(np.linspace(1,18,18)).reshape(3,-1)\n",
    "y"
   ]
  },
  {
   "cell_type": "markdown",
   "metadata": {
    "papermill": {
     "duration": 0.064894,
     "end_time": "2020-10-11T08:28:52.541698",
     "exception": false,
     "start_time": "2020-10-11T08:28:52.476804",
     "status": "completed"
    },
    "tags": []
   },
   "source": [
    "Let's insert a __np.newaxis__ in 2D array to convert them in 3D arrays."
   ]
  },
  {
   "cell_type": "code",
   "execution_count": 36,
   "metadata": {
    "execution": {
     "iopub.execute_input": "2020-10-11T08:28:52.734574Z",
     "iopub.status.busy": "2020-10-11T08:28:52.733347Z",
     "iopub.status.idle": "2020-10-11T08:28:52.738771Z",
     "shell.execute_reply": "2020-10-11T08:28:52.737859Z"
    },
    "papermill": {
     "duration": 0.078733,
     "end_time": "2020-10-11T08:28:52.738919",
     "exception": false,
     "start_time": "2020-10-11T08:28:52.660186",
     "status": "completed"
    },
    "tags": []
   },
   "outputs": [
    {
     "data": {
      "text/plain": [
       "array([[[ 1.,  2.,  3.,  4.,  5.,  6.]],\n",
       "\n",
       "       [[ 7.,  8.,  9., 10., 11., 12.]],\n",
       "\n",
       "       [[13., 14., 15., 16., 17., 18.]]])"
      ]
     },
     "execution_count": 36,
     "metadata": {},
     "output_type": "execute_result"
    }
   ],
   "source": [
    "y[:,np.newaxis,:] "
   ]
  },
  {
   "cell_type": "code",
   "execution_count": 37,
   "metadata": {
    "execution": {
     "iopub.execute_input": "2020-10-11T08:28:52.879922Z",
     "iopub.status.busy": "2020-10-11T08:28:52.878857Z",
     "iopub.status.idle": "2020-10-11T08:28:52.884263Z",
     "shell.execute_reply": "2020-10-11T08:28:52.883554Z"
    },
    "papermill": {
     "duration": 0.078376,
     "end_time": "2020-10-11T08:28:52.884402",
     "exception": false,
     "start_time": "2020-10-11T08:28:52.806026",
     "status": "completed"
    },
    "tags": []
   },
   "outputs": [
    {
     "data": {
      "text/plain": [
       "array([[[ 1.,  2.,  3.,  4.,  5.,  6.],\n",
       "        [ 7.,  8.,  9., 10., 11., 12.],\n",
       "        [13., 14., 15., 16., 17., 18.],\n",
       "        [19., 20., 21., 22., 23., 24.],\n",
       "        [25., 26., 27., 28., 29., 30.]]])"
      ]
     },
     "execution_count": 37,
     "metadata": {},
     "output_type": "execute_result"
    }
   ],
   "source": [
    "x[np.newaxis,:,:]"
   ]
  },
  {
   "cell_type": "markdown",
   "metadata": {
    "papermill": {
     "duration": 0.066844,
     "end_time": "2020-10-11T08:28:53.019126",
     "exception": false,
     "start_time": "2020-10-11T08:28:52.952282",
     "status": "completed"
    },
    "tags": []
   },
   "source": [
    "Performance of an substraction operation results in that every row of ___x___ substracted from 1D array (row wise) of what was a row of 2D array of ___y___. Look at a result below."
   ]
  },
  {
   "cell_type": "code",
   "execution_count": 38,
   "metadata": {
    "execution": {
     "iopub.execute_input": "2020-10-11T08:28:53.162780Z",
     "iopub.status.busy": "2020-10-11T08:28:53.161819Z",
     "iopub.status.idle": "2020-10-11T08:28:53.166177Z",
     "shell.execute_reply": "2020-10-11T08:28:53.166758Z"
    },
    "papermill": {
     "duration": 0.079306,
     "end_time": "2020-10-11T08:28:53.166933",
     "exception": false,
     "start_time": "2020-10-11T08:28:53.087627",
     "status": "completed"
    },
    "tags": []
   },
   "outputs": [
    {
     "data": {
      "text/plain": [
       "array([[[  0.,   0.,   0.,   0.,   0.,   0.],\n",
       "        [ -6.,  -6.,  -6.,  -6.,  -6.,  -6.],\n",
       "        [-12., -12., -12., -12., -12., -12.],\n",
       "        [-18., -18., -18., -18., -18., -18.],\n",
       "        [-24., -24., -24., -24., -24., -24.]],\n",
       "\n",
       "       [[  6.,   6.,   6.,   6.,   6.,   6.],\n",
       "        [  0.,   0.,   0.,   0.,   0.,   0.],\n",
       "        [ -6.,  -6.,  -6.,  -6.,  -6.,  -6.],\n",
       "        [-12., -12., -12., -12., -12., -12.],\n",
       "        [-18., -18., -18., -18., -18., -18.]],\n",
       "\n",
       "       [[ 12.,  12.,  12.,  12.,  12.,  12.],\n",
       "        [  6.,   6.,   6.,   6.,   6.,   6.],\n",
       "        [  0.,   0.,   0.,   0.,   0.,   0.],\n",
       "        [ -6.,  -6.,  -6.,  -6.,  -6.,  -6.],\n",
       "        [-12., -12., -12., -12., -12., -12.]]])"
      ]
     },
     "execution_count": 38,
     "metadata": {},
     "output_type": "execute_result"
    }
   ],
   "source": [
    "z = y[:,np.newaxis,:] - x[np.newaxis,:,:]\n",
    "z"
   ]
  },
  {
   "cell_type": "code",
   "execution_count": 39,
   "metadata": {
    "execution": {
     "iopub.execute_input": "2020-10-11T08:28:53.309952Z",
     "iopub.status.busy": "2020-10-11T08:28:53.308934Z",
     "iopub.status.idle": "2020-10-11T08:28:53.313234Z",
     "shell.execute_reply": "2020-10-11T08:28:53.313768Z"
    },
    "papermill": {
     "duration": 0.079954,
     "end_time": "2020-10-11T08:28:53.313939",
     "exception": false,
     "start_time": "2020-10-11T08:28:53.233985",
     "status": "completed"
    },
    "tags": []
   },
   "outputs": [
    {
     "data": {
      "text/plain": [
       "array([[[ 0.,  0.,  0.,  0.,  0.,  0.],\n",
       "        [ 6.,  6.,  6.,  6.,  6.,  6.],\n",
       "        [12., 12., 12., 12., 12., 12.],\n",
       "        [18., 18., 18., 18., 18., 18.],\n",
       "        [24., 24., 24., 24., 24., 24.]],\n",
       "\n",
       "       [[ 6.,  6.,  6.,  6.,  6.,  6.],\n",
       "        [ 0.,  0.,  0.,  0.,  0.,  0.],\n",
       "        [ 6.,  6.,  6.,  6.,  6.,  6.],\n",
       "        [12., 12., 12., 12., 12., 12.],\n",
       "        [18., 18., 18., 18., 18., 18.]],\n",
       "\n",
       "       [[12., 12., 12., 12., 12., 12.],\n",
       "        [ 6.,  6.,  6.,  6.,  6.,  6.],\n",
       "        [ 0.,  0.,  0.,  0.,  0.,  0.],\n",
       "        [ 6.,  6.,  6.,  6.,  6.,  6.],\n",
       "        [12., 12., 12., 12., 12., 12.]]])"
      ]
     },
     "execution_count": 39,
     "metadata": {},
     "output_type": "execute_result"
    }
   ],
   "source": [
    "np.abs(z)"
   ]
  },
  {
   "cell_type": "markdown",
   "metadata": {
    "papermill": {
     "duration": 0.06697,
     "end_time": "2020-10-11T08:28:53.448510",
     "exception": false,
     "start_time": "2020-10-11T08:28:53.381540",
     "status": "completed"
    },
    "tags": []
   },
   "source": [
    "Now we can sum up values along the last dimension, so we'll get arrays of distances from every vector of ___y___ to the every vector of ___x___ in a form of 2D array ___w___.\n",
    "\n",
    "So\n",
    "\n",
    "___w[0,0]___  = sum(abs(___x[0]___ - ___y[0]___)),\n",
    "\n",
    "___w[0,1]___ = sum(abs(___x[0]___ - ___y[1]___),\n",
    "\n",
    "and so on."
   ]
  },
  {
   "cell_type": "code",
   "execution_count": 40,
   "metadata": {
    "execution": {
     "iopub.execute_input": "2020-10-11T08:28:53.591916Z",
     "iopub.status.busy": "2020-10-11T08:28:53.590893Z",
     "iopub.status.idle": "2020-10-11T08:28:53.596176Z",
     "shell.execute_reply": "2020-10-11T08:28:53.595350Z"
    },
    "papermill": {
     "duration": 0.079902,
     "end_time": "2020-10-11T08:28:53.596315",
     "exception": false,
     "start_time": "2020-10-11T08:28:53.516413",
     "status": "completed"
    },
    "tags": []
   },
   "outputs": [
    {
     "data": {
      "text/plain": [
       "array([[  0.,  36.,  72., 108., 144.],\n",
       "       [ 36.,   0.,  36.,  72., 108.],\n",
       "       [ 72.,  36.,   0.,  36.,  72.]])"
      ]
     },
     "execution_count": 40,
     "metadata": {},
     "output_type": "execute_result"
    }
   ],
   "source": [
    "w = np.abs(z).sum(axis=2)\n",
    "w"
   ]
  },
  {
   "cell_type": "markdown",
   "metadata": {
    "papermill": {
     "duration": 0.06903,
     "end_time": "2020-10-11T08:28:53.739258",
     "exception": false,
     "start_time": "2020-10-11T08:28:53.670228",
     "status": "completed"
    },
    "tags": []
   },
   "source": [
    "We can use Numpy function [__numpy.argspartition(a, kth)__](https://numpy.org/doc/stable/reference/generated/numpy.argpartition.html) to find the indexes of k smallest elements in an array."
   ]
  },
  {
   "cell_type": "code",
   "execution_count": 41,
   "metadata": {
    "execution": {
     "iopub.execute_input": "2020-10-11T08:28:53.884356Z",
     "iopub.status.busy": "2020-10-11T08:28:53.883014Z",
     "iopub.status.idle": "2020-10-11T08:28:53.888098Z",
     "shell.execute_reply": "2020-10-11T08:28:53.887304Z"
    },
    "papermill": {
     "duration": 0.07986,
     "end_time": "2020-10-11T08:28:53.888235",
     "exception": false,
     "start_time": "2020-10-11T08:28:53.808375",
     "status": "completed"
    },
    "tags": []
   },
   "outputs": [
    {
     "data": {
      "text/plain": [
       "array([[1, 0, 2],\n",
       "       [1, 2, 0],\n",
       "       [3, 2, 1]])"
      ]
     },
     "execution_count": 41,
     "metadata": {},
     "output_type": "execute_result"
    }
   ],
   "source": [
    "k = 3\n",
    "idx = np.argpartition(w,kth=k)[:,: k]\n",
    "idx"
   ]
  },
  {
   "cell_type": "markdown",
   "metadata": {
    "papermill": {
     "duration": 0.072849,
     "end_time": "2020-10-11T08:28:54.033162",
     "exception": false,
     "start_time": "2020-10-11T08:28:53.960313",
     "status": "completed"
    },
    "tags": []
   },
   "source": [
    "Applying an array of indexes on a boolean array of labels (classes) chaining with __.mean()__ and condition that every element should be higher than __0.5__, we'll get an boolean array of predictions.  "
   ]
  },
  {
   "cell_type": "code",
   "execution_count": 42,
   "metadata": {
    "execution": {
     "iopub.execute_input": "2020-10-11T08:28:54.181613Z",
     "iopub.status.busy": "2020-10-11T08:28:54.180540Z",
     "iopub.status.idle": "2020-10-11T08:28:54.185058Z",
     "shell.execute_reply": "2020-10-11T08:28:54.185692Z"
    },
    "papermill": {
     "duration": 0.082083,
     "end_time": "2020-10-11T08:28:54.185874",
     "exception": false,
     "start_time": "2020-10-11T08:28:54.103791",
     "status": "completed"
    },
    "tags": []
   },
   "outputs": [
    {
     "data": {
      "text/plain": [
       "array([False, False, False])"
      ]
     },
     "execution_count": 42,
     "metadata": {},
     "output_type": "execute_result"
    }
   ],
   "source": [
    "b = np.array([True, False, False, True, True])\n",
    "(b[idx]).mean(axis=1) > 0.5"
   ]
  },
  {
   "cell_type": "code",
   "execution_count": 43,
   "metadata": {
    "execution": {
     "iopub.execute_input": "2020-10-11T08:28:54.332177Z",
     "iopub.status.busy": "2020-10-11T08:28:54.331016Z",
     "iopub.status.idle": "2020-10-11T08:28:54.335626Z",
     "shell.execute_reply": "2020-10-11T08:28:54.335015Z"
    },
    "papermill": {
     "duration": 0.080184,
     "end_time": "2020-10-11T08:28:54.335758",
     "exception": false,
     "start_time": "2020-10-11T08:28:54.255574",
     "status": "completed"
    },
    "tags": []
   },
   "outputs": [
    {
     "data": {
      "text/plain": [
       "array([[2, 1, 2],\n",
       "       [2, 2, 1],\n",
       "       [3, 2, 2]])"
      ]
     },
     "execution_count": 43,
     "metadata": {},
     "output_type": "execute_result"
    }
   ],
   "source": [
    "c = np.array([1,2,2,3,3])\n",
    "d = c[idx]\n",
    "d"
   ]
  },
  {
   "cell_type": "code",
   "execution_count": 44,
   "metadata": {
    "execution": {
     "iopub.execute_input": "2020-10-11T08:28:54.483496Z",
     "iopub.status.busy": "2020-10-11T08:28:54.482501Z",
     "iopub.status.idle": "2020-10-11T08:28:54.487427Z",
     "shell.execute_reply": "2020-10-11T08:28:54.486686Z"
    },
    "papermill": {
     "duration": 0.081804,
     "end_time": "2020-10-11T08:28:54.487555",
     "exception": false,
     "start_time": "2020-10-11T08:28:54.405751",
     "status": "completed"
    },
    "tags": []
   },
   "outputs": [
    {
     "data": {
      "text/plain": [
       "2"
      ]
     },
     "execution_count": 44,
     "metadata": {},
     "output_type": "execute_result"
    }
   ],
   "source": [
    "values, counts = np.unique(d[0], return_counts=True)\n",
    "values[np.argmax(counts)]"
   ]
  },
  {
   "cell_type": "code",
   "execution_count": 45,
   "metadata": {
    "execution": {
     "iopub.execute_input": "2020-10-11T08:28:54.635633Z",
     "iopub.status.busy": "2020-10-11T08:28:54.634617Z",
     "iopub.status.idle": "2020-10-11T08:28:54.639420Z",
     "shell.execute_reply": "2020-10-11T08:28:54.638655Z"
    },
    "papermill": {
     "duration": 0.082053,
     "end_time": "2020-10-11T08:28:54.639548",
     "exception": false,
     "start_time": "2020-10-11T08:28:54.557495",
     "status": "completed"
    },
    "tags": []
   },
   "outputs": [
    {
     "data": {
      "text/plain": [
       "1"
      ]
     },
     "execution_count": 45,
     "metadata": {},
     "output_type": "execute_result"
    }
   ],
   "source": [
    "a = np.array([True, True, False, False])\n",
    "b = np.array([True, False, False, False])\n",
    "np.logical_and(a,b).sum()"
   ]
  },
  {
   "cell_type": "code",
   "execution_count": 46,
   "metadata": {
    "execution": {
     "iopub.execute_input": "2020-10-11T08:28:54.789376Z",
     "iopub.status.busy": "2020-10-11T08:28:54.788309Z",
     "iopub.status.idle": "2020-10-11T08:28:54.793395Z",
     "shell.execute_reply": "2020-10-11T08:28:54.792630Z"
    },
    "papermill": {
     "duration": 0.082509,
     "end_time": "2020-10-11T08:28:54.793520",
     "exception": false,
     "start_time": "2020-10-11T08:28:54.711011",
     "status": "completed"
    },
    "tags": []
   },
   "outputs": [
    {
     "data": {
      "text/plain": [
       "array([False, False,  True,  True])"
      ]
     },
     "execution_count": 46,
     "metadata": {},
     "output_type": "execute_result"
    }
   ],
   "source": [
    "np.logical_and(np.invert(a), np.invert(b))"
   ]
  }
 ],
 "metadata": {
  "kernelspec": {
   "display_name": "Python 3",
   "language": "python",
   "name": "python3"
  },
  "language_info": {
   "codemirror_mode": {
    "name": "ipython",
    "version": 3
   },
   "file_extension": ".py",
   "mimetype": "text/x-python",
   "name": "python",
   "nbconvert_exporter": "python",
   "pygments_lexer": "ipython3",
   "version": "3.7.6"
  },
  "papermill": {
   "duration": 162.154334,
   "end_time": "2020-10-11T08:28:54.974705",
   "environment_variables": {},
   "exception": null,
   "input_path": "__notebook__.ipynb",
   "output_path": "__notebook__.ipynb",
   "parameters": {},
   "start_time": "2020-10-11T08:26:12.820371",
   "version": "2.1.0"
  }
 },
 "nbformat": 4,
 "nbformat_minor": 4
}
